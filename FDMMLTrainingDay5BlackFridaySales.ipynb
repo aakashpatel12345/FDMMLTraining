{
 "cells": [
  {
   "cell_type": "code",
   "execution_count": 1,
   "metadata": {
    "collapsed": true
   },
   "outputs": [],
   "source": [
    "##Step 1\n",
    "# Importing the libraries\n",
    "import numpy as np\n",
    "import matplotlib.pyplot as plt\n",
    "import pandas as pd\n"
   ]
  },
  {
   "cell_type": "code",
   "execution_count": 2,
   "metadata": {
    "collapsed": true
   },
   "outputs": [],
   "source": [
    "##Step 2\n",
    "# Importing the dataset\n",
    "dataset = pd.read_csv('./Datasets/black_friday_sales_train.csv')\n",
    "#x = dataset.iloc[:, :-1].values\n",
    "#y = dataset.iloc[:, -1].values\n"
   ]
  },
  {
   "cell_type": "code",
   "execution_count": 3,
   "metadata": {},
   "outputs": [
    {
     "data": {
      "text/plain": [
       "Index(['User_ID', 'Product_ID', 'Gender', 'Age', 'Occupation', 'City_Category',\n",
       "       'Stay_In_Current_City_Years', 'Marital_Status', 'Product_Category_1',\n",
       "       'Product_Category_2', 'Product_Category_3', 'Purchase'],\n",
       "      dtype='object')"
      ]
     },
     "execution_count": 3,
     "metadata": {},
     "output_type": "execute_result"
    }
   ],
   "source": [
    "##Step 3 \n",
    "#Describe Data\n",
    "#dataset.head()\n",
    "#dataset.describe()\n",
    "dataset.columns"
   ]
  },
  {
   "cell_type": "code",
   "execution_count": 4,
   "metadata": {
    "collapsed": true
   },
   "outputs": [],
   "source": [
    "##Step 4 \n",
    "#Decide how to clean the data\n",
    "\n",
    "#User_ID can be dropped\n",
    "dataset = dataset[['Gender', 'Age', 'Occupation', 'City_Category',\n",
    "       'Stay_In_Current_City_Years', 'Marital_Status', 'Product_Category_1',\n",
    "       'Product_Category_2', 'Product_Category_3', 'Purchase']]\n",
    "#Product ID Needs to be encoded #Going to drop\n",
    "#dataEncoded = pd.get_dummies(dataset,columns = ['Product_ID'], drop_first=True)\n",
    "\n",
    "\n",
    "#Gender can be encoded 0 and 1\n",
    "dataEncoded = pd.get_dummies(dataset,columns = ['Gender'], drop_first=True)\n",
    "\n",
    "'''\n",
    "#replace age with median \n",
    "dataEncoded.replace({'0-17': '0'}, regex=True)\n",
    "dataEncoded.replace({'18-25': '1'}, regex=True)\n",
    "dataEncoded.replace({'26-35': '2'}, regex=True)\n",
    "dataEncoded.replace({'36-45': '3'}, regex=True)\n",
    "dataEncoded.replace({'46-50': '4'}, regex=True)\n",
    "dataEncoded.replace({'51-55': '5'}, regex=True)\n",
    "dataEncoded.replace({'55+': '6'}, regex=True)\n",
    "\n",
    "#or \n",
    "from sklearn.preprocessing import LabelEncoder, OneHotEncoder\n",
    "labelencoder = LabelEncoder()\n",
    "X[:, 3] = labelencoder.fit_transform(X[:, 3])\n",
    "\n",
    "'''\n",
    "#or encode where 0 is the lowest one etc\n",
    "dataEncoded = pd.get_dummies(dataEncoded,columns = ['Age'], drop_first=True)\n",
    "\n",
    "#leave occupation alone\n",
    "#encode city category\n",
    "dataEncoded = pd.get_dummies(dataEncoded,columns = ['City_Category'], drop_first=True)\n",
    "#for stay in current city_years change 4+ to 4\n",
    "#dataEncoded.replace({'4+': '4}, regex=True)\n",
    "dataEncoded = pd.get_dummies(dataEncoded,columns = ['Stay_In_Current_City_Years'], drop_first=True)\n",
    "# leave marital status\n",
    "#replace nulls with 0's\n",
    "dataEncoded.fillna(0) \n",
    "#encode product_category_1/2/3\n",
    "dataEncoded = pd.get_dummies(dataEncoded,columns = ['Product_Category_1'], drop_first=True)\n",
    "dataEncoded = pd.get_dummies(dataEncoded,columns = ['Product_Category_2'], drop_first=True)\n",
    "dataEncoded = pd.get_dummies(dataEncoded,columns = ['Product_Category_3'], drop_first=True)\n",
    "                            \n",
    "\n"
   ]
  },
  {
   "cell_type": "code",
   "execution_count": 5,
   "metadata": {},
   "outputs": [
    {
     "data": {
      "text/plain": [
       "Index(['Occupation', 'Marital_Status', 'Purchase', 'Gender_M', 'Age_18-25',\n",
       "       'Age_26-35', 'Age_36-45', 'Age_46-50', 'Age_51-55', 'Age_55+',\n",
       "       'City_Category_B', 'City_Category_C', 'Stay_In_Current_City_Years_1',\n",
       "       'Stay_In_Current_City_Years_2', 'Stay_In_Current_City_Years_3',\n",
       "       'Stay_In_Current_City_Years_4+', 'Product_Category_1_2',\n",
       "       'Product_Category_1_3', 'Product_Category_1_4', 'Product_Category_1_5',\n",
       "       'Product_Category_1_6', 'Product_Category_1_7', 'Product_Category_1_8',\n",
       "       'Product_Category_1_9', 'Product_Category_1_10',\n",
       "       'Product_Category_1_11', 'Product_Category_1_12',\n",
       "       'Product_Category_1_13', 'Product_Category_1_14',\n",
       "       'Product_Category_1_15', 'Product_Category_1_16',\n",
       "       'Product_Category_1_17', 'Product_Category_1_18',\n",
       "       'Product_Category_1_19', 'Product_Category_1_20',\n",
       "       'Product_Category_2_3.0', 'Product_Category_2_4.0',\n",
       "       'Product_Category_2_5.0', 'Product_Category_2_6.0',\n",
       "       'Product_Category_2_7.0', 'Product_Category_2_8.0',\n",
       "       'Product_Category_2_9.0', 'Product_Category_2_10.0',\n",
       "       'Product_Category_2_11.0', 'Product_Category_2_12.0',\n",
       "       'Product_Category_2_13.0', 'Product_Category_2_14.0',\n",
       "       'Product_Category_2_15.0', 'Product_Category_2_16.0',\n",
       "       'Product_Category_2_17.0', 'Product_Category_2_18.0',\n",
       "       'Product_Category_3_4.0', 'Product_Category_3_5.0',\n",
       "       'Product_Category_3_6.0', 'Product_Category_3_8.0',\n",
       "       'Product_Category_3_9.0', 'Product_Category_3_10.0',\n",
       "       'Product_Category_3_11.0', 'Product_Category_3_12.0',\n",
       "       'Product_Category_3_13.0', 'Product_Category_3_14.0',\n",
       "       'Product_Category_3_15.0', 'Product_Category_3_16.0',\n",
       "       'Product_Category_3_17.0', 'Product_Category_3_18.0'],\n",
       "      dtype='object')"
      ]
     },
     "execution_count": 5,
     "metadata": {},
     "output_type": "execute_result"
    }
   ],
   "source": [
    "dataEncoded.columns"
   ]
  },
  {
   "cell_type": "code",
   "execution_count": 6,
   "metadata": {},
   "outputs": [
    {
     "data": {
      "text/plain": [
       "(550068, 65)"
      ]
     },
     "execution_count": 6,
     "metadata": {},
     "output_type": "execute_result"
    }
   ],
   "source": [
    "dataEncoded.shape"
   ]
  },
  {
   "cell_type": "code",
   "execution_count": 7,
   "metadata": {
    "collapsed": true
   },
   "outputs": [],
   "source": [
    "#dataset['Stay_In_Current_City_Years'].replace({'4+': '4'}, regex=True, inplace=True)"
   ]
  },
  {
   "cell_type": "code",
   "execution_count": 8,
   "metadata": {},
   "outputs": [
    {
     "data": {
      "text/html": [
       "<div>\n",
       "<style>\n",
       "    .dataframe thead tr:only-child th {\n",
       "        text-align: right;\n",
       "    }\n",
       "\n",
       "    .dataframe thead th {\n",
       "        text-align: left;\n",
       "    }\n",
       "\n",
       "    .dataframe tbody tr th {\n",
       "        vertical-align: top;\n",
       "    }\n",
       "</style>\n",
       "<table border=\"1\" class=\"dataframe\">\n",
       "  <thead>\n",
       "    <tr style=\"text-align: right;\">\n",
       "      <th></th>\n",
       "      <th>Occupation</th>\n",
       "      <th>Marital_Status</th>\n",
       "      <th>Purchase</th>\n",
       "      <th>Gender_M</th>\n",
       "      <th>Age_18-25</th>\n",
       "      <th>Age_26-35</th>\n",
       "      <th>Age_36-45</th>\n",
       "      <th>Age_46-50</th>\n",
       "      <th>Age_51-55</th>\n",
       "      <th>Age_55+</th>\n",
       "      <th>...</th>\n",
       "      <th>Product_Category_3_9.0</th>\n",
       "      <th>Product_Category_3_10.0</th>\n",
       "      <th>Product_Category_3_11.0</th>\n",
       "      <th>Product_Category_3_12.0</th>\n",
       "      <th>Product_Category_3_13.0</th>\n",
       "      <th>Product_Category_3_14.0</th>\n",
       "      <th>Product_Category_3_15.0</th>\n",
       "      <th>Product_Category_3_16.0</th>\n",
       "      <th>Product_Category_3_17.0</th>\n",
       "      <th>Product_Category_3_18.0</th>\n",
       "    </tr>\n",
       "  </thead>\n",
       "  <tbody>\n",
       "    <tr>\n",
       "      <th>0</th>\n",
       "      <td>10</td>\n",
       "      <td>0</td>\n",
       "      <td>8370</td>\n",
       "      <td>0</td>\n",
       "      <td>0</td>\n",
       "      <td>0</td>\n",
       "      <td>0</td>\n",
       "      <td>0</td>\n",
       "      <td>0</td>\n",
       "      <td>0</td>\n",
       "      <td>...</td>\n",
       "      <td>0</td>\n",
       "      <td>0</td>\n",
       "      <td>0</td>\n",
       "      <td>0</td>\n",
       "      <td>0</td>\n",
       "      <td>0</td>\n",
       "      <td>0</td>\n",
       "      <td>0</td>\n",
       "      <td>0</td>\n",
       "      <td>0</td>\n",
       "    </tr>\n",
       "    <tr>\n",
       "      <th>1</th>\n",
       "      <td>10</td>\n",
       "      <td>0</td>\n",
       "      <td>15200</td>\n",
       "      <td>0</td>\n",
       "      <td>0</td>\n",
       "      <td>0</td>\n",
       "      <td>0</td>\n",
       "      <td>0</td>\n",
       "      <td>0</td>\n",
       "      <td>0</td>\n",
       "      <td>...</td>\n",
       "      <td>0</td>\n",
       "      <td>0</td>\n",
       "      <td>0</td>\n",
       "      <td>0</td>\n",
       "      <td>0</td>\n",
       "      <td>1</td>\n",
       "      <td>0</td>\n",
       "      <td>0</td>\n",
       "      <td>0</td>\n",
       "      <td>0</td>\n",
       "    </tr>\n",
       "    <tr>\n",
       "      <th>2</th>\n",
       "      <td>10</td>\n",
       "      <td>0</td>\n",
       "      <td>1422</td>\n",
       "      <td>0</td>\n",
       "      <td>0</td>\n",
       "      <td>0</td>\n",
       "      <td>0</td>\n",
       "      <td>0</td>\n",
       "      <td>0</td>\n",
       "      <td>0</td>\n",
       "      <td>...</td>\n",
       "      <td>0</td>\n",
       "      <td>0</td>\n",
       "      <td>0</td>\n",
       "      <td>0</td>\n",
       "      <td>0</td>\n",
       "      <td>0</td>\n",
       "      <td>0</td>\n",
       "      <td>0</td>\n",
       "      <td>0</td>\n",
       "      <td>0</td>\n",
       "    </tr>\n",
       "    <tr>\n",
       "      <th>3</th>\n",
       "      <td>10</td>\n",
       "      <td>0</td>\n",
       "      <td>1057</td>\n",
       "      <td>0</td>\n",
       "      <td>0</td>\n",
       "      <td>0</td>\n",
       "      <td>0</td>\n",
       "      <td>0</td>\n",
       "      <td>0</td>\n",
       "      <td>0</td>\n",
       "      <td>...</td>\n",
       "      <td>0</td>\n",
       "      <td>0</td>\n",
       "      <td>0</td>\n",
       "      <td>0</td>\n",
       "      <td>0</td>\n",
       "      <td>0</td>\n",
       "      <td>0</td>\n",
       "      <td>0</td>\n",
       "      <td>0</td>\n",
       "      <td>0</td>\n",
       "    </tr>\n",
       "    <tr>\n",
       "      <th>4</th>\n",
       "      <td>16</td>\n",
       "      <td>0</td>\n",
       "      <td>7969</td>\n",
       "      <td>1</td>\n",
       "      <td>0</td>\n",
       "      <td>0</td>\n",
       "      <td>0</td>\n",
       "      <td>0</td>\n",
       "      <td>0</td>\n",
       "      <td>1</td>\n",
       "      <td>...</td>\n",
       "      <td>0</td>\n",
       "      <td>0</td>\n",
       "      <td>0</td>\n",
       "      <td>0</td>\n",
       "      <td>0</td>\n",
       "      <td>0</td>\n",
       "      <td>0</td>\n",
       "      <td>0</td>\n",
       "      <td>0</td>\n",
       "      <td>0</td>\n",
       "    </tr>\n",
       "  </tbody>\n",
       "</table>\n",
       "<p>5 rows × 65 columns</p>\n",
       "</div>"
      ],
      "text/plain": [
       "   Occupation  Marital_Status  Purchase  Gender_M  Age_18-25  Age_26-35  \\\n",
       "0          10               0      8370         0          0          0   \n",
       "1          10               0     15200         0          0          0   \n",
       "2          10               0      1422         0          0          0   \n",
       "3          10               0      1057         0          0          0   \n",
       "4          16               0      7969         1          0          0   \n",
       "\n",
       "   Age_36-45  Age_46-50  Age_51-55  Age_55+           ...             \\\n",
       "0          0          0          0        0           ...              \n",
       "1          0          0          0        0           ...              \n",
       "2          0          0          0        0           ...              \n",
       "3          0          0          0        0           ...              \n",
       "4          0          0          0        1           ...              \n",
       "\n",
       "   Product_Category_3_9.0  Product_Category_3_10.0  Product_Category_3_11.0  \\\n",
       "0                       0                        0                        0   \n",
       "1                       0                        0                        0   \n",
       "2                       0                        0                        0   \n",
       "3                       0                        0                        0   \n",
       "4                       0                        0                        0   \n",
       "\n",
       "   Product_Category_3_12.0  Product_Category_3_13.0  Product_Category_3_14.0  \\\n",
       "0                        0                        0                        0   \n",
       "1                        0                        0                        1   \n",
       "2                        0                        0                        0   \n",
       "3                        0                        0                        0   \n",
       "4                        0                        0                        0   \n",
       "\n",
       "   Product_Category_3_15.0  Product_Category_3_16.0  Product_Category_3_17.0  \\\n",
       "0                        0                        0                        0   \n",
       "1                        0                        0                        0   \n",
       "2                        0                        0                        0   \n",
       "3                        0                        0                        0   \n",
       "4                        0                        0                        0   \n",
       "\n",
       "   Product_Category_3_18.0  \n",
       "0                        0  \n",
       "1                        0  \n",
       "2                        0  \n",
       "3                        0  \n",
       "4                        0  \n",
       "\n",
       "[5 rows x 65 columns]"
      ]
     },
     "execution_count": 8,
     "metadata": {},
     "output_type": "execute_result"
    }
   ],
   "source": [
    "dataEncoded.head()"
   ]
  },
  {
   "cell_type": "code",
   "execution_count": 9,
   "metadata": {},
   "outputs": [
    {
     "name": "stderr",
     "output_type": "stream",
     "text": [
      "C:\\Users\\Aakash\\Anaconda3\\lib\\site-packages\\statsmodels\\compat\\pandas.py:56: FutureWarning: The pandas.core.datetools module is deprecated and will be removed in a future version. Please use the pandas.tseries module instead.\n",
      "  from pandas.core import datetools\n"
     ]
    }
   ],
   "source": [
    "import statsmodels.api as sm\n",
    "\n",
    "dataCleaned = sm.add_constant(dataEncoded)"
   ]
  },
  {
   "cell_type": "code",
   "execution_count": 10,
   "metadata": {
    "collapsed": true
   },
   "outputs": [],
   "source": [
    "results = sm.OLS(dataCleaned[\"Purchase\"], dataCleaned.drop([\"Purchase\"] ,axis = 1)).fit()"
   ]
  },
  {
   "cell_type": "code",
   "execution_count": 11,
   "metadata": {},
   "outputs": [
    {
     "name": "stdout",
     "output_type": "stream",
     "text": [
      "                            OLS Regression Results                            \n",
      "==============================================================================\n",
      "Dep. Variable:               Purchase   R-squared:                       0.647\n",
      "Model:                            OLS   Adj. R-squared:                  0.647\n",
      "Method:                 Least Squares   F-statistic:                 1.577e+04\n",
      "Date:                Sun, 08 Dec 2019   Prob (F-statistic):               0.00\n",
      "Time:                        20:28:45   Log-Likelihood:            -5.1815e+06\n",
      "No. Observations:              550068   AIC:                         1.036e+07\n",
      "Df Residuals:                  550003   BIC:                         1.036e+07\n",
      "Df Model:                          64                                         \n",
      "Covariance Type:            nonrobust                                         \n",
      "=================================================================================================\n",
      "                                    coef    std err          t      P>|t|      [0.025      0.975]\n",
      "-------------------------------------------------------------------------------------------------\n",
      "const                           1.32e+04     30.969    426.149      0.000    1.31e+04    1.33e+04\n",
      "Occupation                        2.0651      0.626      3.297      0.001       0.837       3.293\n",
      "Marital_Status                  -53.8798      8.714     -6.183      0.000     -70.958     -36.801\n",
      "Gender_M                        -45.0399      9.521     -4.731      0.000     -63.701     -26.379\n",
      "Age_18-25                       -22.9705     26.257     -0.875      0.382     -74.433      28.492\n",
      "Age_26-35                        44.1287     25.519      1.729      0.084      -5.889      94.146\n",
      "Age_36-45                       158.5154     26.231      6.043      0.000     107.104     209.926\n",
      "Age_46-50                       161.0890     28.803      5.593      0.000     104.636     217.542\n",
      "Age_51-55                       390.3672     29.462     13.250      0.000     332.623     448.111\n",
      "Age_55+                         261.0928     32.308      8.081      0.000     197.770     324.416\n",
      "City_Category_B                 142.4705     10.010     14.233      0.000     122.852     162.089\n",
      "City_Category_C                 551.5343     10.821     50.967      0.000     530.325     572.744\n",
      "Stay_In_Current_City_Years_1      6.6528     12.910      0.515      0.606     -18.651      31.957\n",
      "Stay_In_Current_City_Years_2     53.2963     14.408      3.699      0.000      25.057      81.536\n",
      "Stay_In_Current_City_Years_3     10.4840     14.651      0.716      0.474     -18.231      39.199\n",
      "Stay_In_Current_City_Years_4+    29.3398     15.017      1.954      0.051      -0.092      58.772\n",
      "Product_Category_1_2          -1774.8097     27.080    -65.539      0.000   -1827.886   -1721.733\n",
      "Product_Category_1_3          -2202.5883     38.067    -57.861      0.000   -2277.199   -2127.978\n",
      "Product_Category_1_4          -1.095e+04     34.153   -320.503      0.000    -1.1e+04   -1.09e+04\n",
      "Product_Category_1_5          -7309.8146     13.826   -528.696      0.000   -7336.913   -7282.716\n",
      "Product_Category_1_6           2106.2929     25.924     81.249      0.000    2055.483    2157.103\n",
      "Product_Category_1_7           2888.0304     50.486     57.204      0.000    2789.079    2986.982\n",
      "Product_Category_1_8          -6052.9662     14.558   -415.786      0.000   -6081.499   -6024.433\n",
      "Product_Category_1_9           2209.7122    148.506     14.880      0.000    1918.646    2500.779\n",
      "Product_Category_1_10          6209.3804     44.478    139.605      0.000    6122.204    6296.556\n",
      "Product_Category_1_11         -8767.7655     22.028   -398.036      0.000   -8810.939   -8724.592\n",
      "Product_Category_1_12          -1.22e+04     49.416   -246.826      0.000   -1.23e+04   -1.21e+04\n",
      "Product_Category_1_13         -1.279e+04     42.090   -303.792      0.000   -1.29e+04   -1.27e+04\n",
      "Product_Category_1_14          -403.0320     77.355     -5.210      0.000    -554.645    -251.419\n",
      "Product_Category_1_15          1168.7923     39.479     29.605      0.000    1091.414    1246.170\n",
      "Product_Category_1_16          1268.7687     32.640     38.872      0.000    1204.795    1332.742\n",
      "Product_Category_1_17         -3419.5643    124.778    -27.405      0.000   -3664.125   -3175.003\n",
      "Product_Category_1_18         -1.057e+04     54.875   -192.618      0.000   -1.07e+04   -1.05e+04\n",
      "Product_Category_1_19         -1.359e+04     75.610   -179.723      0.000   -1.37e+04   -1.34e+04\n",
      "Product_Category_1_20         -1.324e+04     60.450   -219.055      0.000   -1.34e+04   -1.31e+04\n",
      "Product_Category_2_3.0         1503.7408     86.033     17.479      0.000    1335.119    1672.362\n",
      "Product_Category_2_4.0        -1695.8963     37.166    -45.630      0.000   -1768.740   -1623.052\n",
      "Product_Category_2_5.0         -669.7735     25.978    -25.782      0.000    -720.690    -618.857\n",
      "Product_Category_2_6.0           51.3434     26.411      1.944      0.052      -0.421     103.108\n",
      "Product_Category_2_7.0          706.4759    119.633      5.905      0.000     471.998     940.954\n",
      "Product_Category_2_8.0          290.1081     15.790     18.373      0.000     259.161     321.055\n",
      "Product_Category_2_9.0         -160.3399     41.845     -3.832      0.000    -242.355     -78.325\n",
      "Product_Category_2_10.0        1447.0294     62.007     23.337      0.000    1325.498    1568.561\n",
      "Product_Category_2_11.0        -273.4643     26.515    -10.313      0.000    -325.434    -221.495\n",
      "Product_Category_2_12.0        -432.2053     41.362    -10.449      0.000    -513.273    -351.137\n",
      "Product_Category_2_13.0        -139.0031     31.851     -4.364      0.000    -201.429     -76.577\n",
      "Product_Category_2_14.0        -146.5379     15.131     -9.684      0.000    -176.195    -116.881\n",
      "Product_Category_2_15.0        -178.9991     18.329     -9.766      0.000    -214.924    -143.075\n",
      "Product_Category_2_16.0          30.6384     17.210      1.780      0.075      -3.092      64.369\n",
      "Product_Category_2_17.0         569.9567     27.131     21.007      0.000     516.780     623.133\n",
      "Product_Category_2_18.0         560.7648     57.248      9.795      0.000     448.560     672.969\n",
      "Product_Category_3_4.0        -3608.5982     91.345    -39.505      0.000   -3787.632   -3429.564\n",
      "Product_Category_3_5.0          587.0200     27.570     21.292      0.000     532.983     641.057\n",
      "Product_Category_3_6.0          108.7173     46.298      2.348      0.019      17.974     199.460\n",
      "Product_Category_3_8.0         1674.2873     30.729     54.486      0.000    1614.059    1734.515\n",
      "Product_Category_3_9.0          388.7548     31.057     12.518      0.000     327.885     449.625\n",
      "Product_Category_3_10.0        -904.5611     87.199    -10.373      0.000   -1075.469    -733.653\n",
      "Product_Category_3_11.0        -535.7635     71.136     -7.532      0.000    -675.187    -396.340\n",
      "Product_Category_3_12.0         363.5450     34.935     10.406      0.000     295.074     432.016\n",
      "Product_Category_3_13.0        -755.0167     45.264    -16.680      0.000    -843.733    -666.300\n",
      "Product_Category_3_14.0         136.6655     24.172      5.654      0.000      89.289     184.042\n",
      "Product_Category_3_15.0        -372.0362     21.111    -17.623      0.000    -413.413    -330.659\n",
      "Product_Category_3_16.0          81.8435     19.749      4.144      0.000      43.137     120.550\n",
      "Product_Category_3_17.0        1021.6229     25.375     40.261      0.000     971.889    1071.357\n",
      "Product_Category_3_18.0         155.7086     45.559      3.418      0.001      66.415     245.003\n",
      "==============================================================================\n",
      "Omnibus:                    44665.361   Durbin-Watson:                   1.690\n",
      "Prob(Omnibus):                  0.000   Jarque-Bera (JB):            70287.613\n",
      "Skew:                          -0.630   Prob(JB):                         0.00\n",
      "Kurtosis:                       4.217   Cond. No.                         386.\n",
      "==============================================================================\n",
      "\n",
      "Warnings:\n",
      "[1] Standard Errors assume that the covariance matrix of the errors is correctly specified.\n"
     ]
    }
   ],
   "source": [
    "print(results.summary())\n",
    "#from initial results drop age, stay in current city years, "
   ]
  },
  {
   "cell_type": "code",
   "execution_count": 12,
   "metadata": {},
   "outputs": [
    {
     "name": "stdout",
     "output_type": "stream",
     "text": [
      "                            OLS Regression Results                            \n",
      "==============================================================================\n",
      "Dep. Variable:               Purchase   R-squared:                       0.647\n",
      "Model:                            OLS   Adj. R-squared:                  0.647\n",
      "Method:                 Least Squares   F-statistic:                 1.737e+04\n",
      "Date:                Sun, 08 Dec 2019   Prob (F-statistic):               0.00\n",
      "Time:                        20:28:49   Log-Likelihood:            -5.1818e+06\n",
      "No. Observations:              550068   AIC:                         1.036e+07\n",
      "Df Residuals:                  550009   BIC:                         1.036e+07\n",
      "Df Model:                          58                                         \n",
      "Covariance Type:            nonrobust                                         \n",
      "=================================================================================================\n",
      "                                    coef    std err          t      P>|t|      [0.025      0.975]\n",
      "-------------------------------------------------------------------------------------------------\n",
      "const                          1.323e+04     19.694    671.857      0.000    1.32e+04    1.33e+04\n",
      "Occupation                        3.4858      0.623      5.599      0.000       2.265       4.706\n",
      "Marital_Status                    5.6737      8.204      0.692      0.489     -10.405      21.753\n",
      "Gender_M                        -47.9888      9.514     -5.044      0.000     -66.636     -29.341\n",
      "City_Category_B                 159.3859      9.963     15.998      0.000     139.859     178.913\n",
      "City_Category_C                 583.3263     10.651     54.769      0.000     562.451     604.201\n",
      "Stay_In_Current_City_Years_1     16.4332     12.901      1.274      0.203      -8.852      41.718\n",
      "Stay_In_Current_City_Years_2     54.7259     14.409      3.798      0.000      26.484      82.968\n",
      "Stay_In_Current_City_Years_3     13.2546     14.631      0.906      0.365     -15.423      41.932\n",
      "Stay_In_Current_City_Years_4+    32.4754     15.015      2.163      0.031       3.046      61.905\n",
      "Product_Category_1_2          -1760.4913     27.090    -64.988      0.000   -1813.586   -1707.397\n",
      "Product_Category_1_3          -2203.7291     38.089    -57.857      0.000   -2278.383   -2129.075\n",
      "Product_Category_1_4          -1.094e+04     34.157   -320.428      0.000    -1.1e+04   -1.09e+04\n",
      "Product_Category_1_5          -7309.6982     13.834   -528.381      0.000   -7336.813   -7282.584\n",
      "Product_Category_1_6           2105.8668     25.939     81.185      0.000    2055.027    2156.706\n",
      "Product_Category_1_7           2899.4797     50.511     57.403      0.000    2800.479    2998.480\n",
      "Product_Category_1_8          -6038.3457     14.551   -414.992      0.000   -6066.864   -6009.827\n",
      "Product_Category_1_9           2218.9269    148.594     14.933      0.000    1927.688    2510.166\n",
      "Product_Category_1_10          6238.9619     44.487    140.243      0.000    6151.769    6326.155\n",
      "Product_Category_1_11         -8766.3005     22.039   -397.766      0.000   -8809.496   -8723.105\n",
      "Product_Category_1_12         -1.216e+04     49.412   -246.057      0.000   -1.23e+04   -1.21e+04\n",
      "Product_Category_1_13         -1.276e+04     42.099   -303.095      0.000   -1.28e+04   -1.27e+04\n",
      "Product_Category_1_14          -380.7637     77.396     -4.920      0.000    -532.458    -229.069\n",
      "Product_Category_1_15          1182.4180     39.498     29.936      0.000    1105.003    1259.833\n",
      "Product_Category_1_16          1276.0175     32.657     39.074      0.000    1212.012    1340.023\n",
      "Product_Category_1_17         -3341.5861    124.810    -26.773      0.000   -3586.209   -3096.963\n",
      "Product_Category_1_18         -1.053e+04     54.878   -191.798      0.000   -1.06e+04   -1.04e+04\n",
      "Product_Category_1_19         -1.358e+04     75.653   -179.461      0.000   -1.37e+04   -1.34e+04\n",
      "Product_Category_1_20         -1.323e+04     60.484   -218.783      0.000   -1.34e+04   -1.31e+04\n",
      "Product_Category_2_3.0         1469.0802     86.073     17.068      0.000    1300.380    1637.780\n",
      "Product_Category_2_4.0        -1709.3898     37.175    -45.983      0.000   -1782.251   -1636.529\n",
      "Product_Category_2_5.0         -678.3193     25.991    -26.098      0.000    -729.261    -627.378\n",
      "Product_Category_2_6.0           50.5483     26.426      1.913      0.056      -1.246     102.343\n",
      "Product_Category_2_7.0          713.0252    119.704      5.957      0.000     478.409     947.642\n",
      "Product_Category_2_8.0          296.7004     15.795     18.784      0.000     265.743     327.658\n",
      "Product_Category_2_9.0         -169.9725     41.867     -4.060      0.000    -252.031     -87.914\n",
      "Product_Category_2_10.0        1476.7132     62.032     23.806      0.000    1355.133    1598.294\n",
      "Product_Category_2_11.0        -279.6218     26.530    -10.540      0.000    -331.619    -227.624\n",
      "Product_Category_2_12.0        -419.0091     41.382    -10.125      0.000    -500.117    -337.901\n",
      "Product_Category_2_13.0        -128.3012     31.866     -4.026      0.000    -190.758     -65.845\n",
      "Product_Category_2_14.0        -143.4428     15.139     -9.475      0.000    -173.115    -113.771\n",
      "Product_Category_2_15.0        -177.9748     18.338     -9.705      0.000    -213.917    -142.033\n",
      "Product_Category_2_16.0          25.6573     17.219      1.490      0.136      -8.090      59.405\n",
      "Product_Category_2_17.0         584.3306     27.140     21.530      0.000     531.136     637.525\n",
      "Product_Category_2_18.0         600.7980     57.260     10.493      0.000     488.571     713.025\n",
      "Product_Category_3_4.0        -3609.0374     91.398    -39.487      0.000   -3788.174   -3429.901\n",
      "Product_Category_3_5.0          584.2535     27.585     21.180      0.000     530.187     638.320\n",
      "Product_Category_3_6.0          106.0295     46.325      2.289      0.022      15.234     196.825\n",
      "Product_Category_3_8.0         1686.7813     30.742     54.869      0.000    1626.528    1747.035\n",
      "Product_Category_3_9.0          384.1508     31.074     12.362      0.000     323.247     445.055\n",
      "Product_Category_3_10.0        -874.4371     87.243    -10.023      0.000   -1045.430    -703.444\n",
      "Product_Category_3_11.0        -536.9327     71.178     -7.544      0.000    -676.439    -397.426\n",
      "Product_Category_3_12.0         370.1369     34.953     10.589      0.000     301.630     438.644\n",
      "Product_Category_3_13.0        -761.2927     45.291    -16.809      0.000    -850.061    -672.524\n",
      "Product_Category_3_14.0         141.6939     24.185      5.859      0.000      94.292     189.096\n",
      "Product_Category_3_15.0        -370.9824     21.122    -17.564      0.000    -412.380    -329.584\n",
      "Product_Category_3_16.0          75.9258     19.759      3.843      0.000      37.199     114.653\n",
      "Product_Category_3_17.0        1030.2694     25.387     40.583      0.000     980.512    1080.027\n",
      "Product_Category_3_18.0         170.8333     45.582      3.748      0.000      81.494     260.173\n",
      "==============================================================================\n",
      "Omnibus:                    45131.607   Durbin-Watson:                   1.688\n",
      "Prob(Omnibus):                  0.000   Jarque-Bera (JB):            71124.556\n",
      "Skew:                          -0.634   Prob(JB):                         0.00\n",
      "Kurtosis:                       4.223   Cond. No.                         386.\n",
      "==============================================================================\n",
      "\n",
      "Warnings:\n",
      "[1] Standard Errors assume that the covariance matrix of the errors is correctly specified.\n"
     ]
    }
   ],
   "source": [
    "results2 = sm.OLS(dataCleaned[\"Purchase\"], dataCleaned.drop([\"Purchase\", 'Age_18-25', 'Age_26-35','Age_36-45','Age_46-50','Age_51-55',\n",
    "                                                             'Age_55+'] ,axis = 1)).fit()\n",
    "print(results2.summary())"
   ]
  },
  {
   "cell_type": "code",
   "execution_count": 13,
   "metadata": {},
   "outputs": [
    {
     "name": "stdout",
     "output_type": "stream",
     "text": [
      "                            OLS Regression Results                            \n",
      "==============================================================================\n",
      "Dep. Variable:               Purchase   R-squared:                       0.647\n",
      "Model:                            OLS   Adj. R-squared:                  0.647\n",
      "Method:                 Least Squares   F-statistic:                 1.768e+04\n",
      "Date:                Sun, 08 Dec 2019   Prob (F-statistic):               0.00\n",
      "Time:                        20:28:52   Log-Likelihood:            -5.1818e+06\n",
      "No. Observations:              550068   AIC:                         1.036e+07\n",
      "Df Residuals:                  550010   BIC:                         1.036e+07\n",
      "Df Model:                          57                                         \n",
      "Covariance Type:            nonrobust                                         \n",
      "=================================================================================================\n",
      "                                    coef    std err          t      P>|t|      [0.025      0.975]\n",
      "-------------------------------------------------------------------------------------------------\n",
      "const                          1.323e+04     19.472    679.641      0.000    1.32e+04    1.33e+04\n",
      "Occupation                        3.4963      0.622      5.617      0.000       2.276       4.716\n",
      "Gender_M                        -48.0683      9.513     -5.053      0.000     -66.714     -29.422\n",
      "City_Category_B                 159.5290      9.961     16.016      0.000     140.006     179.051\n",
      "City_Category_C                 583.6117     10.643     54.837      0.000     562.752     604.471\n",
      "Stay_In_Current_City_Years_1     16.5953     12.899      1.287      0.198      -8.686      41.876\n",
      "Stay_In_Current_City_Years_2     54.7496     14.409      3.800      0.000      26.508      82.992\n",
      "Stay_In_Current_City_Years_3     13.2288     14.631      0.904      0.366     -15.448      41.906\n",
      "Stay_In_Current_City_Years_4+    32.4855     15.015      2.164      0.031       3.056      61.915\n",
      "Product_Category_1_2          -1760.3565     27.089    -64.985      0.000   -1813.450   -1707.263\n",
      "Product_Category_1_3          -2203.6376     38.089    -57.855      0.000   -2278.291   -2128.984\n",
      "Product_Category_1_4          -1.094e+04     34.157   -320.430      0.000    -1.1e+04   -1.09e+04\n",
      "Product_Category_1_5          -7309.6830     13.834   -528.380      0.000   -7336.797   -7282.569\n",
      "Product_Category_1_6           2105.8272     25.939     81.184      0.000    2054.988    2156.667\n",
      "Product_Category_1_7           2899.7826     50.509     57.411      0.000    2800.786    2998.779\n",
      "Product_Category_1_8          -6038.2043     14.549   -415.023      0.000   -6066.720   -6009.689\n",
      "Product_Category_1_9           2218.8975    148.594     14.933      0.000    1927.659    2510.136\n",
      "Product_Category_1_10          6239.2894     44.484    140.258      0.000    6152.102    6326.477\n",
      "Product_Category_1_11         -8766.3040     22.039   -397.767      0.000   -8809.499   -8723.109\n",
      "Product_Category_1_12         -1.216e+04     49.407   -246.071      0.000   -1.23e+04   -1.21e+04\n",
      "Product_Category_1_13         -1.276e+04     42.098   -303.099      0.000   -1.28e+04   -1.27e+04\n",
      "Product_Category_1_14          -380.5098     77.395     -4.916      0.000    -532.202    -228.817\n",
      "Product_Category_1_15          1182.5750     39.498     29.940      0.000    1105.161    1259.989\n",
      "Product_Category_1_16          1276.1209     32.656     39.077      0.000    1212.116    1340.126\n",
      "Product_Category_1_17         -3341.1119    124.808    -26.770      0.000   -3585.731   -3096.493\n",
      "Product_Category_1_18         -1.053e+04     54.875   -191.802      0.000   -1.06e+04   -1.04e+04\n",
      "Product_Category_1_19         -1.358e+04     75.653   -179.462      0.000   -1.37e+04   -1.34e+04\n",
      "Product_Category_1_20         -1.323e+04     60.484   -218.782      0.000   -1.34e+04   -1.31e+04\n",
      "Product_Category_2_3.0         1468.7187     86.071     17.064      0.000    1300.022    1637.416\n",
      "Product_Category_2_4.0        -1709.5677     37.174    -45.988      0.000   -1782.427   -1636.708\n",
      "Product_Category_2_5.0         -678.3800     25.991    -26.101      0.000    -729.321    -627.439\n",
      "Product_Category_2_6.0           50.5584     26.426      1.913      0.056      -1.236     102.353\n",
      "Product_Category_2_7.0          713.0813    119.704      5.957      0.000     478.465     947.698\n",
      "Product_Category_2_8.0          296.7777     15.795     18.790      0.000     265.821     327.735\n",
      "Product_Category_2_9.0         -170.0549     41.867     -4.062      0.000    -252.113     -87.996\n",
      "Product_Category_2_10.0        1477.1156     62.029     23.813      0.000    1355.540    1598.691\n",
      "Product_Category_2_11.0        -279.6938     26.530    -10.543      0.000    -331.691    -227.697\n",
      "Product_Category_2_12.0        -418.8841     41.382    -10.122      0.000    -499.991    -337.777\n",
      "Product_Category_2_13.0        -128.2334     31.866     -4.024      0.000    -190.690     -65.777\n",
      "Product_Category_2_14.0        -143.4631     15.139     -9.476      0.000    -173.135    -113.791\n",
      "Product_Category_2_15.0        -177.9618     18.338     -9.705      0.000    -213.904    -142.020\n",
      "Product_Category_2_16.0          25.5861     17.218      1.486      0.137      -8.161      59.333\n",
      "Product_Category_2_17.0         584.3817     27.140     21.532      0.000     531.188     637.576\n",
      "Product_Category_2_18.0         601.0768     57.258     10.498      0.000     488.852     713.301\n",
      "Product_Category_3_4.0        -3609.1227     91.398    -39.488      0.000   -3788.259   -3429.986\n",
      "Product_Category_3_5.0          584.1900     27.585     21.178      0.000     530.124     638.256\n",
      "Product_Category_3_6.0          105.9262     46.325      2.287      0.022      15.131     196.721\n",
      "Product_Category_3_8.0         1686.8515     30.742     54.872      0.000    1626.599    1747.104\n",
      "Product_Category_3_9.0          384.0559     31.074     12.359      0.000     323.152     444.960\n",
      "Product_Category_3_10.0        -874.0837     87.241    -10.019      0.000   -1045.074    -703.094\n",
      "Product_Category_3_11.0        -537.0071     71.178     -7.545      0.000    -676.513    -397.501\n",
      "Product_Category_3_12.0         370.1665     34.953     10.590      0.000     301.659     438.674\n",
      "Product_Category_3_13.0        -761.3926     45.291    -16.811      0.000    -850.161    -672.625\n",
      "Product_Category_3_14.0         141.7303     24.185      5.860      0.000      94.329     189.132\n",
      "Product_Category_3_15.0        -370.9620     21.122    -17.563      0.000    -412.360    -329.564\n",
      "Product_Category_3_16.0          75.8568     19.759      3.839      0.000      37.131     114.583\n",
      "Product_Category_3_17.0        1030.3202     25.387     40.585      0.000     980.563    1080.077\n",
      "Product_Category_3_18.0         170.8858     45.582      3.749      0.000      81.547     260.225\n",
      "==============================================================================\n",
      "Omnibus:                    45135.531   Durbin-Watson:                   1.688\n",
      "Prob(Omnibus):                  0.000   Jarque-Bera (JB):            71132.210\n",
      "Skew:                          -0.634   Prob(JB):                         0.00\n",
      "Kurtosis:                       4.223   Cond. No.                         386.\n",
      "==============================================================================\n",
      "\n",
      "Warnings:\n",
      "[1] Standard Errors assume that the covariance matrix of the errors is correctly specified.\n"
     ]
    }
   ],
   "source": [
    "results3 = sm.OLS(dataCleaned[\"Purchase\"], dataCleaned.drop([\"Purchase\", 'Age_18-25', 'Age_26-35','Age_36-45','Age_46-50','Age_51-55',\n",
    "                                                             'Age_55+', 'Marital_Status'] ,axis = 1)).fit()\n",
    "print(results3.summary())"
   ]
  },
  {
   "cell_type": "code",
   "execution_count": 14,
   "metadata": {},
   "outputs": [
    {
     "name": "stdout",
     "output_type": "stream",
     "text": [
      "                            OLS Regression Results                            \n",
      "==============================================================================\n",
      "Dep. Variable:               Purchase   R-squared:                       0.647\n",
      "Model:                            OLS   Adj. R-squared:                  0.647\n",
      "Method:                 Least Squares   F-statistic:                 1.901e+04\n",
      "Date:                Sun, 08 Dec 2019   Prob (F-statistic):               0.00\n",
      "Time:                        20:28:56   Log-Likelihood:            -5.1818e+06\n",
      "No. Observations:              550068   AIC:                         1.036e+07\n",
      "Df Residuals:                  550014   BIC:                         1.036e+07\n",
      "Df Model:                          53                                         \n",
      "Covariance Type:            nonrobust                                         \n",
      "===========================================================================================\n",
      "                              coef    std err          t      P>|t|      [0.025      0.975]\n",
      "-------------------------------------------------------------------------------------------\n",
      "const                    1.326e+04     16.756    791.152      0.000    1.32e+04    1.33e+04\n",
      "Occupation                  3.4910      0.622      5.613      0.000       2.272       4.710\n",
      "Gender_M                  -47.5786      9.505     -5.005      0.000     -66.209     -28.948\n",
      "City_Category_B           159.9977      9.949     16.083      0.000     140.499     179.497\n",
      "City_Category_C           584.7728     10.633     54.997      0.000     563.933     605.613\n",
      "Product_Category_1_2    -1760.3172     27.089    -64.983      0.000   -1813.410   -1707.224\n",
      "Product_Category_1_3    -2203.5770     38.089    -57.853      0.000   -2278.230   -2128.924\n",
      "Product_Category_1_4    -1.095e+04     34.157   -320.434      0.000    -1.1e+04   -1.09e+04\n",
      "Product_Category_1_5    -7309.8280     13.834   -528.395      0.000   -7336.942   -7282.714\n",
      "Product_Category_1_6     2105.8074     25.939     81.183      0.000    2054.968    2156.647\n",
      "Product_Category_1_7     2898.6427     50.509     57.389      0.000    2799.647    2997.639\n",
      "Product_Category_1_8    -6038.4553     14.548   -415.076      0.000   -6066.969   -6009.942\n",
      "Product_Category_1_9     2219.2007    148.595     14.935      0.000    1927.960    2510.442\n",
      "Product_Category_1_10    6238.9847     44.485    140.250      0.000    6151.796    6326.173\n",
      "Product_Category_1_11   -8766.1098     22.038   -397.781      0.000   -8809.303   -8722.917\n",
      "Product_Category_1_12   -1.216e+04     49.407   -246.073      0.000   -1.23e+04   -1.21e+04\n",
      "Product_Category_1_13   -1.276e+04     42.098   -303.109      0.000   -1.28e+04   -1.27e+04\n",
      "Product_Category_1_14    -381.1949     77.395     -4.925      0.000    -532.887    -229.503\n",
      "Product_Category_1_15    1182.2816     39.498     29.933      0.000    1104.868    1259.696\n",
      "Product_Category_1_16    1276.1093     32.656     39.077      0.000    1212.104    1340.114\n",
      "Product_Category_1_17   -3340.9322    124.809    -26.768      0.000   -3585.553   -3096.311\n",
      "Product_Category_1_18   -1.053e+04     54.874   -191.818      0.000   -1.06e+04   -1.04e+04\n",
      "Product_Category_1_19   -1.358e+04     75.654   -179.461      0.000   -1.37e+04   -1.34e+04\n",
      "Product_Category_1_20   -1.323e+04     60.484   -218.772      0.000   -1.34e+04   -1.31e+04\n",
      "Product_Category_2_3.0   1468.4807     86.072     17.061      0.000    1299.782    1637.180\n",
      "Product_Category_2_4.0  -1709.5862     37.174    -45.989      0.000   -1782.446   -1636.727\n",
      "Product_Category_2_5.0   -678.3742     25.991    -26.100      0.000    -729.316    -627.432\n",
      "Product_Category_2_6.0     50.8101     26.427      1.923      0.055      -0.985     102.605\n",
      "Product_Category_2_7.0    713.3064    119.705      5.959      0.000     478.688     947.925\n",
      "Product_Category_2_8.0    296.8047     15.795     18.792      0.000     265.848     327.762\n",
      "Product_Category_2_9.0   -169.7437     41.868     -4.054      0.000    -251.803     -87.685\n",
      "Product_Category_2_10.0  1476.4113     62.030     23.802      0.000    1354.835    1597.987\n",
      "Product_Category_2_11.0  -279.4075     26.530    -10.532      0.000    -331.405    -227.410\n",
      "Product_Category_2_12.0  -419.0711     41.382    -10.127      0.000    -500.179    -337.963\n",
      "Product_Category_2_13.0  -128.3225     31.866     -4.027      0.000    -190.779     -65.866\n",
      "Product_Category_2_14.0  -143.2113     15.139     -9.460      0.000    -172.884    -113.539\n",
      "Product_Category_2_15.0  -178.0794     18.338     -9.711      0.000    -214.022    -142.137\n",
      "Product_Category_2_16.0    25.5808     17.218      1.486      0.137      -8.167      59.328\n",
      "Product_Category_2_17.0   584.4635     27.140     21.535      0.000     531.269     637.658\n",
      "Product_Category_2_18.0   600.9638     57.259     10.496      0.000     488.739     713.189\n",
      "Product_Category_3_4.0  -3608.6018     91.399    -39.482      0.000   -3787.740   -3429.464\n",
      "Product_Category_3_5.0    584.2127     27.585     21.178      0.000     530.146     638.279\n",
      "Product_Category_3_6.0    105.9501     46.325      2.287      0.022      15.155     196.746\n",
      "Product_Category_3_8.0   1686.8932     30.742     54.873      0.000    1626.640    1747.146\n",
      "Product_Category_3_9.0    384.4434     31.074     12.372      0.000     323.540     445.347\n",
      "Product_Category_3_10.0  -874.1140     87.242    -10.019      0.000   -1045.106    -703.122\n",
      "Product_Category_3_11.0  -536.9347     71.179     -7.543      0.000    -676.443    -397.427\n",
      "Product_Category_3_12.0   370.0778     34.954     10.588      0.000     301.570     438.586\n",
      "Product_Category_3_13.0  -761.0491     45.291    -16.804      0.000    -849.818    -672.280\n",
      "Product_Category_3_14.0   141.7135     24.185      5.860      0.000      94.312     189.115\n",
      "Product_Category_3_15.0  -371.0623     21.122    -17.568      0.000    -412.461    -329.664\n",
      "Product_Category_3_16.0    75.9154     19.759      3.842      0.000      37.189     114.642\n",
      "Product_Category_3_17.0  1030.2600     25.387     40.582      0.000     980.502    1080.018\n",
      "Product_Category_3_18.0   170.7148     45.582      3.745      0.000      81.375     260.055\n",
      "==============================================================================\n",
      "Omnibus:                    45138.255   Durbin-Watson:                   1.688\n",
      "Prob(Omnibus):                  0.000   Jarque-Bera (JB):            71138.652\n",
      "Skew:                          -0.634   Prob(JB):                         0.00\n",
      "Kurtosis:                       4.223   Cond. No.                         386.\n",
      "==============================================================================\n",
      "\n",
      "Warnings:\n",
      "[1] Standard Errors assume that the covariance matrix of the errors is correctly specified.\n"
     ]
    }
   ],
   "source": [
    "results4 = sm.OLS(dataCleaned[\"Purchase\"], dataCleaned.drop([\"Purchase\", 'Age_18-25', 'Age_26-35','Age_36-45','Age_46-50','Age_51-55',\n",
    "                                                             'Age_55+', 'Marital_Status','Stay_In_Current_City_Years_1','Stay_In_Current_City_Years_2',\n",
    "                                                             'Stay_In_Current_City_Years_3', 'Stay_In_Current_City_Years_4+'] ,axis = 1)).fit()\n",
    "print(results4.summary())"
   ]
  },
  {
   "cell_type": "code",
   "execution_count": 15,
   "metadata": {},
   "outputs": [
    {
     "name": "stdout",
     "output_type": "stream",
     "text": [
      "                            OLS Regression Results                            \n",
      "==============================================================================\n",
      "Dep. Variable:               Purchase   R-squared:                       0.647\n",
      "Model:                            OLS   Adj. R-squared:                  0.647\n",
      "Method:                 Least Squares   F-statistic:                 1.682e+04\n",
      "Date:                Sun, 08 Dec 2019   Prob (F-statistic):               0.00\n",
      "Time:                        20:29:00   Log-Likelihood:            -5.1815e+06\n",
      "No. Observations:              550068   AIC:                         1.036e+07\n",
      "Df Residuals:                  550007   BIC:                         1.036e+07\n",
      "Df Model:                          60                                         \n",
      "Covariance Type:            nonrobust                                         \n",
      "===========================================================================================\n",
      "                              coef    std err          t      P>|t|      [0.025      0.975]\n",
      "-------------------------------------------------------------------------------------------\n",
      "const                    1.322e+04     29.388    449.708      0.000    1.32e+04    1.33e+04\n",
      "Occupation                  2.0564      0.626      3.285      0.001       0.829       3.283\n",
      "Marital_Status            -53.9693      8.713     -6.194      0.000     -71.046     -36.892\n",
      "Gender_M                  -44.2801      9.513     -4.655      0.000     -62.926     -25.634\n",
      "Age_18-25                 -23.8849     26.247     -0.910      0.363     -75.327      27.558\n",
      "Age_26-35                  43.0631     25.506      1.688      0.091      -6.928      93.055\n",
      "Age_36-45                 157.4362     26.223      6.004      0.000     106.039     208.833\n",
      "Age_46-50                 159.2123     28.786      5.531      0.000     102.792     215.632\n",
      "Age_51-55                 387.9957     29.434     13.182      0.000     330.306     445.685\n",
      "Age_55+                   260.4218     32.299      8.063      0.000     197.116     323.727\n",
      "City_Category_B           142.7073      9.997     14.275      0.000     123.114     162.301\n",
      "City_Category_C           552.4956     10.811     51.105      0.000     531.306     573.685\n",
      "Product_Category_1_2    -1774.7091     27.080    -65.535      0.000   -1827.786   -1721.633\n",
      "Product_Category_1_3    -2202.4419     38.067    -57.857      0.000   -2277.052   -2127.832\n",
      "Product_Category_1_4    -1.095e+04     34.153   -320.507      0.000    -1.1e+04   -1.09e+04\n",
      "Product_Category_1_5    -7309.9419     13.826   -528.707      0.000   -7337.041   -7282.843\n",
      "Product_Category_1_6     2106.2375     25.924     81.246      0.000    2055.427    2157.048\n",
      "Product_Category_1_7     2886.9769     50.486     57.183      0.000    2788.025    2985.928\n",
      "Product_Category_1_8    -6053.2395     14.557   -415.835      0.000   -6081.770   -6024.709\n",
      "Product_Category_1_9     2210.3059    148.507     14.883      0.000    1919.236    2501.376\n",
      "Product_Category_1_10    6209.0576     44.479    139.596      0.000    6121.880    6296.235\n",
      "Product_Category_1_11   -8767.4352     22.026   -398.044      0.000   -8810.606   -8724.264\n",
      "Product_Category_1_12    -1.22e+04     49.417   -246.825      0.000   -1.23e+04   -1.21e+04\n",
      "Product_Category_1_13   -1.279e+04     42.090   -303.801      0.000   -1.29e+04   -1.27e+04\n",
      "Product_Category_1_14    -403.8020     77.355     -5.220      0.000    -555.415    -252.189\n",
      "Product_Category_1_15    1168.5886     39.479     29.600      0.000    1091.210    1245.967\n",
      "Product_Category_1_16    1268.7230     32.640     38.870      0.000    1204.750    1332.696\n",
      "Product_Category_1_17   -3418.6675    124.778    -27.398      0.000   -3663.229   -3174.106\n",
      "Product_Category_1_18   -1.057e+04     54.875   -192.635      0.000   -1.07e+04   -1.05e+04\n",
      "Product_Category_1_19   -1.359e+04     75.610   -179.724      0.000   -1.37e+04   -1.34e+04\n",
      "Product_Category_1_20   -1.324e+04     60.450   -219.043      0.000   -1.34e+04   -1.31e+04\n",
      "Product_Category_2_3.0   1503.4649     86.034     17.475      0.000    1334.841    1672.089\n",
      "Product_Category_2_4.0  -1695.9950     37.166    -45.633      0.000   -1768.839   -1623.151\n",
      "Product_Category_2_5.0   -669.8094     25.978    -25.783      0.000    -720.726    -618.892\n",
      "Product_Category_2_6.0     51.5836     26.411      1.953      0.051      -0.181     103.348\n",
      "Product_Category_2_7.0    706.9831    119.635      5.910      0.000     472.503     941.463\n",
      "Product_Category_2_8.0    290.1232     15.790     18.374      0.000     259.176     321.070\n",
      "Product_Category_2_9.0   -160.0719     41.846     -3.825      0.000    -242.088     -78.056\n",
      "Product_Category_2_10.0  1446.4417     62.007     23.327      0.000    1324.909    1567.974\n",
      "Product_Category_2_11.0  -273.1265     26.516    -10.301      0.000    -325.096    -221.157\n",
      "Product_Category_2_12.0  -432.4414     41.362    -10.455      0.000    -513.511    -351.372\n",
      "Product_Category_2_13.0  -139.1201     31.851     -4.368      0.000    -201.547     -76.693\n",
      "Product_Category_2_14.0  -146.2860     15.131     -9.668      0.000    -175.943    -116.629\n",
      "Product_Category_2_15.0  -179.1033     18.329     -9.771      0.000    -215.028    -143.178\n",
      "Product_Category_2_16.0    30.6110     17.210      1.779      0.075      -3.120      64.342\n",
      "Product_Category_2_17.0   570.0559     27.132     21.011      0.000     516.879     623.233\n",
      "Product_Category_2_18.0   560.6578     57.249      9.793      0.000     448.452     672.864\n",
      "Product_Category_3_4.0  -3608.0657     91.347    -39.499      0.000   -3787.102   -3429.029\n",
      "Product_Category_3_5.0    587.0323     27.570     21.292      0.000     532.995     641.069\n",
      "Product_Category_3_6.0    108.8202     46.299      2.350      0.019      18.076     199.564\n",
      "Product_Category_3_8.0   1674.3277     30.729     54.486      0.000    1614.099    1734.556\n",
      "Product_Category_3_9.0    389.2150     31.057     12.532      0.000     328.345     450.085\n",
      "Product_Category_3_10.0  -904.5735     87.201    -10.373      0.000   -1075.484    -733.663\n",
      "Product_Category_3_11.0  -535.5815     71.137     -7.529      0.000    -675.007    -396.156\n",
      "Product_Category_3_12.0   363.4617     34.935     10.404      0.000     294.990     431.933\n",
      "Product_Category_3_13.0  -754.6629     45.265    -16.672      0.000    -843.381    -665.945\n",
      "Product_Category_3_14.0   136.6939     24.172      5.655      0.000      89.317     184.070\n",
      "Product_Category_3_15.0  -372.0686     21.111    -17.624      0.000    -413.446    -330.691\n",
      "Product_Category_3_16.0    81.9422     19.749      4.149      0.000      43.235     120.650\n",
      "Product_Category_3_17.0  1021.5564     25.375     40.258      0.000     971.822    1071.291\n",
      "Product_Category_3_18.0   155.4603     45.559      3.412      0.001      66.165     244.755\n",
      "==============================================================================\n",
      "Omnibus:                    44668.434   Durbin-Watson:                   1.690\n",
      "Prob(Omnibus):                  0.000   Jarque-Bera (JB):            70291.709\n",
      "Skew:                          -0.630   Prob(JB):                         0.00\n",
      "Kurtosis:                       4.217   Cond. No.                         386.\n",
      "==============================================================================\n",
      "\n",
      "Warnings:\n",
      "[1] Standard Errors assume that the covariance matrix of the errors is correctly specified.\n"
     ]
    }
   ],
   "source": [
    "results5 = sm.OLS(dataCleaned[\"Purchase\"], dataCleaned.drop([\"Purchase\", 'Stay_In_Current_City_Years_1','Stay_In_Current_City_Years_2',\n",
    "                                                             'Stay_In_Current_City_Years_3', 'Stay_In_Current_City_Years_4+'] ,axis = 1)).fit()\n",
    "print(results5.summary())"
   ]
  },
  {
   "cell_type": "code",
   "execution_count": 16,
   "metadata": {},
   "outputs": [
    {
     "data": {
      "text/plain": [
       "Index(['const', 'Occupation', 'Marital_Status', 'Purchase', 'Gender_M',\n",
       "       'Age_18-25', 'Age_26-35', 'Age_36-45', 'Age_46-50', 'Age_51-55',\n",
       "       'Age_55+', 'City_Category_B', 'City_Category_C',\n",
       "       'Stay_In_Current_City_Years_1', 'Stay_In_Current_City_Years_2',\n",
       "       'Stay_In_Current_City_Years_3', 'Stay_In_Current_City_Years_4+',\n",
       "       'Product_Category_1_2', 'Product_Category_1_3', 'Product_Category_1_4',\n",
       "       'Product_Category_1_5', 'Product_Category_1_6', 'Product_Category_1_7',\n",
       "       'Product_Category_1_8', 'Product_Category_1_9', 'Product_Category_1_10',\n",
       "       'Product_Category_1_11', 'Product_Category_1_12',\n",
       "       'Product_Category_1_13', 'Product_Category_1_14',\n",
       "       'Product_Category_1_15', 'Product_Category_1_16',\n",
       "       'Product_Category_1_17', 'Product_Category_1_18',\n",
       "       'Product_Category_1_19', 'Product_Category_1_20',\n",
       "       'Product_Category_2_3.0', 'Product_Category_2_4.0',\n",
       "       'Product_Category_2_5.0', 'Product_Category_2_6.0',\n",
       "       'Product_Category_2_7.0', 'Product_Category_2_8.0',\n",
       "       'Product_Category_2_9.0', 'Product_Category_2_10.0',\n",
       "       'Product_Category_2_11.0', 'Product_Category_2_12.0',\n",
       "       'Product_Category_2_13.0', 'Product_Category_2_14.0',\n",
       "       'Product_Category_2_15.0', 'Product_Category_2_16.0',\n",
       "       'Product_Category_2_17.0', 'Product_Category_2_18.0',\n",
       "       'Product_Category_3_4.0', 'Product_Category_3_5.0',\n",
       "       'Product_Category_3_6.0', 'Product_Category_3_8.0',\n",
       "       'Product_Category_3_9.0', 'Product_Category_3_10.0',\n",
       "       'Product_Category_3_11.0', 'Product_Category_3_12.0',\n",
       "       'Product_Category_3_13.0', 'Product_Category_3_14.0',\n",
       "       'Product_Category_3_15.0', 'Product_Category_3_16.0',\n",
       "       'Product_Category_3_17.0', 'Product_Category_3_18.0'],\n",
       "      dtype='object')"
      ]
     },
     "execution_count": 16,
     "metadata": {},
     "output_type": "execute_result"
    }
   ],
   "source": [
    "dataCleaned.columns"
   ]
  },
  {
   "cell_type": "code",
   "execution_count": 17,
   "metadata": {
    "scrolled": true
   },
   "outputs": [
    {
     "name": "stdout",
     "output_type": "stream",
     "text": [
      "                            OLS Regression Results                            \n",
      "==============================================================================\n",
      "Dep. Variable:               Purchase   R-squared:                       0.643\n",
      "Model:                            OLS   Adj. R-squared:                  0.643\n",
      "Method:                 Least Squares   F-statistic:                 2.683e+04\n",
      "Date:                Sun, 08 Dec 2019   Prob (F-statistic):               0.00\n",
      "Time:                        20:29:02   Log-Likelihood:            -5.1844e+06\n",
      "No. Observations:              550068   AIC:                         1.037e+07\n",
      "Df Residuals:                  550030   BIC:                         1.037e+07\n",
      "Df Model:                          37                                         \n",
      "Covariance Type:            nonrobust                                         \n",
      "===========================================================================================\n",
      "                              coef    std err          t      P>|t|      [0.025      0.975]\n",
      "-------------------------------------------------------------------------------------------\n",
      "const                    1.325e+04     15.536    853.026      0.000    1.32e+04    1.33e+04\n",
      "Occupation                  3.6578      0.625      5.854      0.000       2.433       4.883\n",
      "Gender_M                  -32.1033      9.520     -3.372      0.001     -50.761     -13.445\n",
      "City_Category_B           158.5807      9.996     15.865      0.000     138.990     178.172\n",
      "City_Category_C           592.4212     10.680     55.472      0.000     571.489     613.353\n",
      "Product_Category_1_2    -2287.1814     21.931   -104.291      0.000   -2330.165   -2244.198\n",
      "Product_Category_1_3    -3531.4253     25.527   -138.341      0.000   -3581.457   -3481.393\n",
      "Product_Category_1_4    -1.129e+04     29.621   -381.205      0.000   -1.13e+04   -1.12e+04\n",
      "Product_Category_1_5    -7294.9606     12.843   -568.022      0.000   -7320.132   -7269.789\n",
      "Product_Category_1_6     2380.3468     23.591    100.899      0.000    2334.108    2426.585\n",
      "Product_Category_1_7     2897.4903     50.358     57.538      0.000    2798.791    2996.190\n",
      "Product_Category_1_8    -6046.4268     13.684   -441.862      0.000   -6073.247   -6019.607\n",
      "Product_Category_1_9     2029.6381    148.528     13.665      0.000    1738.528    2320.748\n",
      "Product_Category_1_10    6148.0555     43.147    142.492      0.000    6063.489    6232.622\n",
      "Product_Category_1_11   -8816.0855     21.856   -403.367      0.000   -8858.923   -8773.248\n",
      "Product_Category_1_12    -1.22e+04     48.949   -249.285      0.000   -1.23e+04   -1.21e+04\n",
      "Product_Category_1_13   -1.278e+04     41.511   -307.913      0.000   -1.29e+04   -1.27e+04\n",
      "Product_Category_1_14    -345.2003     77.650     -4.446      0.000    -497.392    -193.009\n",
      "Product_Category_1_15    1249.0190     39.298     31.783      0.000    1171.995    1326.043\n",
      "Product_Category_1_16    1265.4965     32.138     39.377      0.000    1202.507    1328.486\n",
      "Product_Category_1_17   -3353.9601    125.232    -26.782      0.000   -3599.411   -3108.509\n",
      "Product_Category_1_18   -1.054e+04     54.737   -192.530      0.000   -1.06e+04   -1.04e+04\n",
      "Product_Category_1_19   -1.359e+04     75.726   -179.450      0.000   -1.37e+04   -1.34e+04\n",
      "Product_Category_1_20   -1.324e+04     60.410   -219.236      0.000   -1.34e+04   -1.31e+04\n",
      "Product_Category_3_4.0  -2215.1879     70.987    -31.206      0.000   -2354.319   -2076.056\n",
      "Product_Category_3_5.0    277.4113     26.436     10.494      0.000     225.598     329.224\n",
      "Product_Category_3_6.0   -317.4127     44.235     -7.176      0.000    -404.112    -230.714\n",
      "Product_Category_3_8.0   1462.3798     28.437     51.426      0.000    1406.645    1518.115\n",
      "Product_Category_3_9.0     53.5871     29.766      1.800      0.072      -4.753     111.927\n",
      "Product_Category_3_10.0   267.5590     73.970      3.617      0.000     122.580     412.538\n",
      "Product_Category_3_11.0  -544.2247     71.256     -7.638      0.000    -683.885    -404.565\n",
      "Product_Category_3_12.0     2.0404     34.205      0.060      0.952     -65.000      69.081\n",
      "Product_Category_3_13.0  -445.9917     42.359    -10.529      0.000    -529.013    -362.970\n",
      "Product_Category_3_14.0   220.4658     23.045      9.567      0.000     175.297     265.634\n",
      "Product_Category_3_15.0  -421.1221     20.341    -20.703      0.000    -460.990    -381.255\n",
      "Product_Category_3_16.0    17.2517     18.343      0.941      0.347     -18.700      53.203\n",
      "Product_Category_3_17.0  1065.6736     24.221     43.997      0.000    1018.201    1113.147\n",
      "Product_Category_3_18.0    33.3731     44.873      0.744      0.457     -54.576     121.322\n",
      "==============================================================================\n",
      "Omnibus:                    45253.167   Durbin-Watson:                   1.684\n",
      "Prob(Omnibus):                  0.000   Jarque-Bera (JB):            70774.242\n",
      "Skew:                          -0.638   Prob(JB):                         0.00\n",
      "Kurtosis:                       4.208   Cond. No.                         384.\n",
      "==============================================================================\n",
      "\n",
      "Warnings:\n",
      "[1] Standard Errors assume that the covariance matrix of the errors is correctly specified.\n"
     ]
    }
   ],
   "source": [
    "results6 = sm.OLS(dataCleaned[\"Purchase\"], dataCleaned.drop([\"Purchase\", 'Stay_In_Current_City_Years_1',\n",
    "'Stay_In_Current_City_Years_2','Stay_In_Current_City_Years_3', 'Stay_In_Current_City_Years_4+', \n",
    "'Product_Category_2_3.0', 'Product_Category_2_4.0',\n",
    "'Product_Category_2_5.0', 'Product_Category_2_6.0',\n",
    "'Product_Category_2_7.0', 'Product_Category_2_8.0',\n",
    "'Product_Category_2_9.0', 'Product_Category_2_10.0',\n",
    "'Product_Category_2_11.0', 'Product_Category_2_12.0',\n",
    "'Product_Category_2_13.0', 'Product_Category_2_14.0',\n",
    "'Product_Category_2_15.0', 'Product_Category_2_16.0',\n",
    "'Product_Category_2_17.0', 'Product_Category_2_18.0', \n",
    "'Age_18-25', 'Age_26-35','Age_36-45','Age_46-50','Age_51-55',\n",
    "'Age_55+', 'Marital_Status' ] ,axis = 1)).fit()\n",
    "print(results6.summary())"
   ]
  },
  {
   "cell_type": "code",
   "execution_count": 18,
   "metadata": {
    "collapsed": true
   },
   "outputs": [],
   "source": [
    "##make plots"
   ]
  },
  {
   "cell_type": "code",
   "execution_count": 19,
   "metadata": {},
   "outputs": [
    {
     "data": {
      "text/plain": [
       "Index(['const', 'Occupation', 'Marital_Status', 'Purchase', 'Gender_M',\n",
       "       'Age_18-25', 'Age_26-35', 'Age_36-45', 'Age_46-50', 'Age_51-55',\n",
       "       'Age_55+', 'City_Category_B', 'City_Category_C',\n",
       "       'Stay_In_Current_City_Years_1', 'Stay_In_Current_City_Years_2',\n",
       "       'Stay_In_Current_City_Years_3', 'Stay_In_Current_City_Years_4+',\n",
       "       'Product_Category_1_2', 'Product_Category_1_3', 'Product_Category_1_4',\n",
       "       'Product_Category_1_5', 'Product_Category_1_6', 'Product_Category_1_7',\n",
       "       'Product_Category_1_8', 'Product_Category_1_9', 'Product_Category_1_10',\n",
       "       'Product_Category_1_11', 'Product_Category_1_12',\n",
       "       'Product_Category_1_13', 'Product_Category_1_14',\n",
       "       'Product_Category_1_15', 'Product_Category_1_16',\n",
       "       'Product_Category_1_17', 'Product_Category_1_18',\n",
       "       'Product_Category_1_19', 'Product_Category_1_20',\n",
       "       'Product_Category_2_3.0', 'Product_Category_2_4.0',\n",
       "       'Product_Category_2_5.0', 'Product_Category_2_6.0',\n",
       "       'Product_Category_2_7.0', 'Product_Category_2_8.0',\n",
       "       'Product_Category_2_9.0', 'Product_Category_2_10.0',\n",
       "       'Product_Category_2_11.0', 'Product_Category_2_12.0',\n",
       "       'Product_Category_2_13.0', 'Product_Category_2_14.0',\n",
       "       'Product_Category_2_15.0', 'Product_Category_2_16.0',\n",
       "       'Product_Category_2_17.0', 'Product_Category_2_18.0',\n",
       "       'Product_Category_3_4.0', 'Product_Category_3_5.0',\n",
       "       'Product_Category_3_6.0', 'Product_Category_3_8.0',\n",
       "       'Product_Category_3_9.0', 'Product_Category_3_10.0',\n",
       "       'Product_Category_3_11.0', 'Product_Category_3_12.0',\n",
       "       'Product_Category_3_13.0', 'Product_Category_3_14.0',\n",
       "       'Product_Category_3_15.0', 'Product_Category_3_16.0',\n",
       "       'Product_Category_3_17.0', 'Product_Category_3_18.0'],\n",
       "      dtype='object')"
      ]
     },
     "execution_count": 19,
     "metadata": {},
     "output_type": "execute_result"
    }
   ],
   "source": [
    "dataCleaned.columns"
   ]
  },
  {
   "cell_type": "code",
   "execution_count": 20,
   "metadata": {},
   "outputs": [
    {
     "name": "stdout",
     "output_type": "stream",
     "text": [
      "                            OLS Regression Results                            \n",
      "==============================================================================\n",
      "Dep. Variable:               Purchase   R-squared:                       0.639\n",
      "Model:                            OLS   Adj. R-squared:                  0.639\n",
      "Method:                 Least Squares   F-statistic:                 4.232e+04\n",
      "Date:                Sun, 08 Dec 2019   Prob (F-statistic):               0.00\n",
      "Time:                        20:29:05   Log-Likelihood:            -5.1879e+06\n",
      "No. Observations:              550068   AIC:                         1.038e+07\n",
      "Df Residuals:                  550044   BIC:                         1.038e+07\n",
      "Df Model:                          23                                         \n",
      "Covariance Type:            nonrobust                                         \n",
      "=========================================================================================\n",
      "                            coef    std err          t      P>|t|      [0.025      0.975]\n",
      "-----------------------------------------------------------------------------------------\n",
      "const                  1.334e+04     13.849    963.380      0.000    1.33e+04    1.34e+04\n",
      "Occupation                3.7369      0.629      5.943      0.000       2.505       4.969\n",
      "Gender_M                -43.0795      9.573     -4.500      0.000     -61.841     -24.318\n",
      "City_Category_B         160.9483     10.058     16.002      0.000     141.235     180.662\n",
      "City_Category_C         604.3584     10.742     56.262      0.000     583.305     625.412\n",
      "Product_Category_1_2  -2342.4112     21.144   -110.784      0.000   -2383.853   -2300.970\n",
      "Product_Category_1_3  -3512.0893     22.736   -154.471      0.000   -3556.652   -3467.527\n",
      "Product_Category_1_4  -1.126e+04     29.013   -388.172      0.000   -1.13e+04   -1.12e+04\n",
      "Product_Category_1_5  -7347.0177     11.240   -653.660      0.000   -7369.047   -7324.988\n",
      "Product_Category_1_6   2242.9443     22.589     99.292      0.000    2198.670    2287.219\n",
      "Product_Category_1_7   2811.9494     50.146     56.075      0.000    2713.664    2910.235\n",
      "Product_Category_1_8  -6090.1154     12.094   -503.563      0.000   -6113.819   -6066.411\n",
      "Product_Category_1_9   1944.1449    149.283     13.023      0.000    1651.555    2236.735\n",
      "Product_Category_1_10  6067.5973     42.927    141.345      0.000    5983.461    6151.734\n",
      "Product_Category_1_11 -8900.2701     20.980   -424.222      0.000   -8941.391   -8859.150\n",
      "Product_Category_1_12 -1.225e+04     48.756   -251.188      0.000   -1.23e+04   -1.22e+04\n",
      "Product_Category_1_13 -1.286e+04     41.322   -311.329      0.000   -1.29e+04   -1.28e+04\n",
      "Product_Category_1_14  -432.7351     77.795     -5.562      0.000    -585.211    -280.259\n",
      "Product_Category_1_15  1189.1901     38.903     30.568      0.000    1112.942    1265.438\n",
      "Product_Category_1_16  1179.3801     31.503     37.437      0.000    1117.635    1241.126\n",
      "Product_Category_1_17 -3439.1094    125.807    -27.336      0.000   -3685.688   -3192.531\n",
      "Product_Category_1_18 -1.062e+04     54.594   -194.591      0.000   -1.07e+04   -1.05e+04\n",
      "Product_Category_1_19 -1.368e+04     75.845   -180.342      0.000   -1.38e+04   -1.35e+04\n",
      "Product_Category_1_20 -1.333e+04     60.343   -220.955      0.000   -1.35e+04   -1.32e+04\n",
      "==============================================================================\n",
      "Omnibus:                    45028.148   Durbin-Watson:                   1.679\n",
      "Prob(Omnibus):                  0.000   Jarque-Bera (JB):            70227.772\n",
      "Skew:                          -0.637   Prob(JB):                         0.00\n",
      "Kurtosis:                       4.201   Cond. No.                         383.\n",
      "==============================================================================\n",
      "\n",
      "Warnings:\n",
      "[1] Standard Errors assume that the covariance matrix of the errors is correctly specified.\n"
     ]
    }
   ],
   "source": [
    "results7 = sm.OLS(dataCleaned[\"Purchase\"], dataCleaned.drop([\"Purchase\", 'Stay_In_Current_City_Years_1',\n",
    "'Stay_In_Current_City_Years_2','Stay_In_Current_City_Years_3', 'Stay_In_Current_City_Years_4+', \n",
    "'Product_Category_2_3.0', 'Product_Category_2_4.0',\n",
    "'Product_Category_2_5.0', 'Product_Category_2_6.0',\n",
    "'Product_Category_2_7.0', 'Product_Category_2_8.0',\n",
    "'Product_Category_2_9.0', 'Product_Category_2_10.0',\n",
    "'Product_Category_2_11.0', 'Product_Category_2_12.0',\n",
    "'Product_Category_2_13.0', 'Product_Category_2_14.0',\n",
    "'Product_Category_2_15.0', 'Product_Category_2_16.0',\n",
    "'Product_Category_2_17.0', 'Product_Category_2_18.0', \n",
    "'Age_18-25', 'Age_26-35','Age_36-45','Age_46-50','Age_51-55',\n",
    "'Age_55+', 'Marital_Status', 'Product_Category_3_4.0', 'Product_Category_3_5.0',\n",
    "'Product_Category_3_6.0', 'Product_Category_3_8.0',\n",
    "'Product_Category_3_9.0', 'Product_Category_3_10.0',\n",
    "'Product_Category_3_11.0', 'Product_Category_3_12.0',\n",
    "'Product_Category_3_13.0', 'Product_Category_3_14.0',\n",
    "'Product_Category_3_15.0', 'Product_Category_3_16.0',\n",
    "'Product_Category_3_17.0', 'Product_Category_3_18.0' ] ,axis = 1)).fit()\n",
    "print(results7.summary())"
   ]
  },
  {
   "cell_type": "code",
   "execution_count": 21,
   "metadata": {
    "collapsed": true
   },
   "outputs": [],
   "source": [
    "from sklearn.model_selection import train_test_split\n",
    "#x = dataScaled['age', 'bmi', 'children', 'sex_male', 'smoker_yes',\n",
    "       #'region_northwest', 'region_southeast', 'region_southwest']\n",
    "\n",
    "x = dataCleaned[['Occupation','Gender_M',\n",
    "                 'City_Category_B', 'City_Category_C',\n",
    "       'Product_Category_1_2', 'Product_Category_1_3', 'Product_Category_1_4',\n",
    "       'Product_Category_1_5', 'Product_Category_1_6', 'Product_Category_1_7',\n",
    "       'Product_Category_1_8', 'Product_Category_1_9', 'Product_Category_1_10',\n",
    "       'Product_Category_1_11', 'Product_Category_1_12',\n",
    "       'Product_Category_1_13', 'Product_Category_1_14',\n",
    "       'Product_Category_1_15', 'Product_Category_1_16',\n",
    "       'Product_Category_1_17', 'Product_Category_1_18',\n",
    "       'Product_Category_1_19', 'Product_Category_1_20',\n",
    "       'Product_Category_2_3.0', 'Product_Category_2_4.0',\n",
    "       'Product_Category_2_5.0', 'Product_Category_2_6.0',\n",
    "       'Product_Category_2_7.0', 'Product_Category_2_8.0',\n",
    "       'Product_Category_2_9.0', 'Product_Category_2_10.0',\n",
    "       'Product_Category_2_11.0', 'Product_Category_2_12.0',\n",
    "       'Product_Category_2_13.0', 'Product_Category_2_14.0',\n",
    "       'Product_Category_2_15.0', 'Product_Category_2_16.0',\n",
    "       'Product_Category_2_17.0', 'Product_Category_2_18.0',\n",
    "       'Product_Category_3_4.0', 'Product_Category_3_5.0',\n",
    "       'Product_Category_3_6.0', 'Product_Category_3_8.0',\n",
    "       'Product_Category_3_9.0', 'Product_Category_3_10.0',\n",
    "       'Product_Category_3_11.0', 'Product_Category_3_12.0',\n",
    "       'Product_Category_3_13.0', 'Product_Category_3_14.0',\n",
    "       'Product_Category_3_15.0', 'Product_Category_3_16.0',\n",
    "       'Product_Category_3_17.0', 'Product_Category_3_18.0']]\n",
    "y = dataCleaned[\"Purchase\"]\n",
    "\n",
    "#split data into training and test set\n",
    "x_train, x_test, y_train, y_test = train_test_split(x,y,test_size=0.25 ,random_state = 0)"
   ]
  },
  {
   "cell_type": "code",
   "execution_count": 22,
   "metadata": {},
   "outputs": [
    {
     "data": {
      "text/plain": [
       "LinearRegression(copy_X=True, fit_intercept=True, n_jobs=1, normalize=False)"
      ]
     },
     "execution_count": 22,
     "metadata": {},
     "output_type": "execute_result"
    }
   ],
   "source": [
    "from sklearn.linear_model import LinearRegression\n",
    "\n",
    "lr = LinearRegression()\n",
    "\n",
    "lr.fit(x_train,y_train)"
   ]
  },
  {
   "cell_type": "code",
   "execution_count": 23,
   "metadata": {},
   "outputs": [
    {
     "data": {
      "text/plain": [
       "0.64686220522305515"
      ]
     },
     "execution_count": 23,
     "metadata": {},
     "output_type": "execute_result"
    }
   ],
   "source": [
    "lr.score(x_test,y_test)"
   ]
  },
  {
   "cell_type": "code",
   "execution_count": 24,
   "metadata": {},
   "outputs": [
    {
     "data": {
      "text/plain": [
       "array([  3.63068479e+00,  -4.68165427e+01,   1.59287800e+02,\n",
       "         5.79408015e+02,  -1.75574133e+03,  -2.21425926e+03,\n",
       "        -1.09450095e+04,  -7.30737329e+03,   2.09488744e+03,\n",
       "         2.83510979e+03,  -6.04134815e+03,   2.29162704e+03,\n",
       "         6.29765750e+03,  -8.76023540e+03,  -1.21553341e+04,\n",
       "        -1.27634118e+04,  -4.13223691e+02,   1.24801493e+03,\n",
       "         1.25316845e+03,  -3.28171568e+03,  -1.05281874e+04,\n",
       "        -1.35757496e+04,  -1.32304308e+04,   1.47472200e+03,\n",
       "        -1.71212490e+03,  -6.66746684e+02,   7.51696453e+01,\n",
       "         6.26396243e+02,   2.97114915e+02,  -1.40174481e+02,\n",
       "         1.46289561e+03,  -2.88690941e+02,  -4.28020318e+02,\n",
       "        -1.16761782e+02,  -1.49176264e+02,  -1.86616622e+02,\n",
       "         3.54970928e+01,   5.88780459e+02,   5.85046290e+02,\n",
       "        -3.66646555e+03,   6.08280427e+02,   6.33657663e+01,\n",
       "         1.65762786e+03,   3.91421468e+02,  -8.82386774e+02,\n",
       "        -5.40947899e+02,   3.72807944e+02,  -7.75617144e+02,\n",
       "         1.25761994e+02,  -3.64703219e+02,   6.10673890e+01,\n",
       "         1.00841573e+03,   2.28154692e+02])"
      ]
     },
     "execution_count": 24,
     "metadata": {},
     "output_type": "execute_result"
    }
   ],
   "source": [
    "lr.coef_"
   ]
  },
  {
   "cell_type": "code",
   "execution_count": 25,
   "metadata": {},
   "outputs": [
    {
     "data": {
      "text/plain": [
       "13256.229462642161"
      ]
     },
     "execution_count": 25,
     "metadata": {},
     "output_type": "execute_result"
    }
   ],
   "source": [
    "lr.intercept_"
   ]
  },
  {
   "cell_type": "code",
   "execution_count": 26,
   "metadata": {},
   "outputs": [
    {
     "data": {
      "text/plain": [
       "GradientBoostingRegressor(alpha=0.9, criterion='friedman_mse', init=None,\n",
       "             learning_rate=0.1, loss='ls', max_depth=3, max_features=None,\n",
       "             max_leaf_nodes=None, min_impurity_decrease=0.0,\n",
       "             min_impurity_split=None, min_samples_leaf=1,\n",
       "             min_samples_split=2, min_weight_fraction_leaf=0.0,\n",
       "             n_estimators=100, presort='auto', random_state=None,\n",
       "             subsample=1.0, verbose=0, warm_start=False)"
      ]
     },
     "execution_count": 26,
     "metadata": {},
     "output_type": "execute_result"
    }
   ],
   "source": [
    "from sklearn.ensemble import GradientBoostingRegressor\n",
    "XGRegressor = GradientBoostingRegressor()\n",
    "XGRegressor.fit(x_train,y_train)\n",
    "#no confusion matrix because its not classification\n",
    "\n"
   ]
  },
  {
   "cell_type": "code",
   "execution_count": 27,
   "metadata": {
    "collapsed": true
   },
   "outputs": [],
   "source": [
    "y_pred = XGRegressor.predict(x_test)"
   ]
  },
  {
   "cell_type": "code",
   "execution_count": 28,
   "metadata": {
    "collapsed": true
   },
   "outputs": [],
   "source": [
    "#compare to y_test\n"
   ]
  },
  {
   "cell_type": "code",
   "execution_count": 29,
   "metadata": {},
   "outputs": [
    {
     "data": {
      "text/plain": [
       "0.62949675818724282"
      ]
     },
     "execution_count": 29,
     "metadata": {},
     "output_type": "execute_result"
    }
   ],
   "source": [
    "XGRegressor.score(x_test,y_test)"
   ]
  },
  {
   "cell_type": "code",
   "execution_count": 30,
   "metadata": {},
   "outputs": [
    {
     "ename": "ModuleNotFoundError",
     "evalue": "No module named 'xgboost'",
     "output_type": "error",
     "traceback": [
      "\u001b[1;31m---------------------------------------------------------------------------\u001b[0m",
      "\u001b[1;31mModuleNotFoundError\u001b[0m                       Traceback (most recent call last)",
      "\u001b[1;32m<ipython-input-30-1f991d4b040e>\u001b[0m in \u001b[0;36m<module>\u001b[1;34m()\u001b[0m\n\u001b[1;32m----> 1\u001b[1;33m \u001b[1;32mfrom\u001b[0m \u001b[0mxgboost\u001b[0m \u001b[1;32mimport\u001b[0m \u001b[0mXGBClassifier\u001b[0m\u001b[1;33m\u001b[0m\u001b[0m\n\u001b[0m\u001b[0;32m      2\u001b[0m \u001b[0mclassifier\u001b[0m \u001b[1;33m=\u001b[0m \u001b[0mXGBClassifier\u001b[0m\u001b[1;33m(\u001b[0m\u001b[1;33m)\u001b[0m\u001b[1;33m\u001b[0m\u001b[0m\n\u001b[0;32m      3\u001b[0m \u001b[0mclassifier\u001b[0m\u001b[1;33m.\u001b[0m\u001b[0mfit\u001b[0m\u001b[1;33m(\u001b[0m\u001b[0mx_train\u001b[0m\u001b[1;33m,\u001b[0m \u001b[0my_train\u001b[0m\u001b[1;33m)\u001b[0m\u001b[1;33m\u001b[0m\u001b[0m\n\u001b[0;32m      4\u001b[0m \u001b[1;33m\u001b[0m\u001b[0m\n",
      "\u001b[1;31mModuleNotFoundError\u001b[0m: No module named 'xgboost'"
     ]
    }
   ],
   "source": [
    "from xgboost import XGBClassifier\n",
    "classifier = XGBClassifier()\n",
    "classifier.fit(x_train, y_train)\n",
    "\n"
   ]
  },
  {
   "cell_type": "code",
   "execution_count": null,
   "metadata": {},
   "outputs": [],
   "source": [
    "#predicting the test set results\n",
    "y_pred = classifier.predict(x_test)"
   ]
  },
  {
   "cell_type": "code",
   "execution_count": null,
   "metadata": {},
   "outputs": [],
   "source": [
    "#making the confusion matrix\n",
    "from sklearn.metrics import confusion_matrix\n",
    "cm = confusion_matrix(y_test, y_pred)"
   ]
  },
  {
   "cell_type": "code",
   "execution_count": null,
   "metadata": {},
   "outputs": [],
   "source": [
    "#apply k_fold cross validation\n",
    "from sklearn.model.selection import cross_val_score\n",
    "accuracies = cross_val_score(estimator = classifier, X=x_train, y = y_train, cv=10)\n",
    "accuracies.mean()\n",
    "accuracies.std()"
   ]
  },
  {
   "cell_type": "code",
   "execution_count": null,
   "metadata": {},
   "outputs": [],
   "source": []
  },
  {
   "cell_type": "code",
   "execution_count": null,
   "metadata": {
    "collapsed": true
   },
   "outputs": [],
   "source": []
  }
 ],
 "metadata": {
  "kernelspec": {
   "display_name": "Python 3",
   "language": "python",
   "name": "python3"
  },
  "language_info": {
   "codemirror_mode": {
    "name": "ipython",
    "version": 3
   },
   "file_extension": ".py",
   "mimetype": "text/x-python",
   "name": "python",
   "nbconvert_exporter": "python",
   "pygments_lexer": "ipython3",
   "version": "3.6.2"
  }
 },
 "nbformat": 4,
 "nbformat_minor": 2
}
