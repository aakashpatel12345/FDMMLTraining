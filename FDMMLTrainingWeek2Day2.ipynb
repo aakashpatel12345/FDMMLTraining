{
 "cells": [
  {
   "cell_type": "code",
   "execution_count": 62,
   "metadata": {},
   "outputs": [],
   "source": [
    "import pandas as pd\n",
    "import numpy as np\n",
    "import matplotlib.pyplot as plt\n",
    "import seaborn as sns\n",
    "from sklearn.model_selection import train_test_split\n",
    "from sklearn.linear_model import LogisticRegression\n",
    "from sklearn.preprocessing import StandardScaler\n",
    "from sklearn.preprocessing import LabelEncoder\n",
    "from sklearn.tree import DecisionTreeClassifier\n",
    "from sklearn.ensemble import RandomForestClassifier\n",
    "import graphviz as gv\n",
    "from sklearn.tree import export_graphviz\n",
    "from sklearn.model_selection import KFold\n",
    "from sklearn.cluster import KMeans\n",
    "import datetime\n",
    "import sklearn.metrics as skmetrics\n",
    "#from sklearn.ensemble import GradientBoostingRegressor\n",
    "from sklearn.ensemble import GradientBoostingClassifier\n",
    "from sklearn.model_selection import GridSearchCV"
   ]
  },
  {
   "cell_type": "code",
   "execution_count": 2,
   "metadata": {},
   "outputs": [],
   "source": [
    "data = pd.read_csv('./data/car_insurance_cold_calls.csv')"
   ]
  },
  {
   "cell_type": "code",
   "execution_count": 3,
   "metadata": {},
   "outputs": [
    {
     "data": {
      "text/plain": [
       "(4000, 19)"
      ]
     },
     "execution_count": 3,
     "metadata": {},
     "output_type": "execute_result"
    }
   ],
   "source": [
    "data.shape"
   ]
  },
  {
   "cell_type": "code",
   "execution_count": 4,
   "metadata": {},
   "outputs": [
    {
     "data": {
      "text/html": [
       "<div>\n",
       "<style scoped>\n",
       "    .dataframe tbody tr th:only-of-type {\n",
       "        vertical-align: middle;\n",
       "    }\n",
       "\n",
       "    .dataframe tbody tr th {\n",
       "        vertical-align: top;\n",
       "    }\n",
       "\n",
       "    .dataframe thead th {\n",
       "        text-align: right;\n",
       "    }\n",
       "</style>\n",
       "<table border=\"1\" class=\"dataframe\">\n",
       "  <thead>\n",
       "    <tr style=\"text-align: right;\">\n",
       "      <th></th>\n",
       "      <th>Id</th>\n",
       "      <th>Age</th>\n",
       "      <th>Job</th>\n",
       "      <th>Marital</th>\n",
       "      <th>Education</th>\n",
       "      <th>Default</th>\n",
       "      <th>Balance</th>\n",
       "      <th>HHInsurance</th>\n",
       "      <th>CarLoan</th>\n",
       "      <th>Communication</th>\n",
       "      <th>LastContactDay</th>\n",
       "      <th>LastContactMonth</th>\n",
       "      <th>NoOfContacts</th>\n",
       "      <th>DaysPassed</th>\n",
       "      <th>PrevAttempts</th>\n",
       "      <th>Outcome</th>\n",
       "      <th>CallStart</th>\n",
       "      <th>CallEnd</th>\n",
       "      <th>CarInsurance</th>\n",
       "    </tr>\n",
       "  </thead>\n",
       "  <tbody>\n",
       "    <tr>\n",
       "      <th>0</th>\n",
       "      <td>1</td>\n",
       "      <td>32</td>\n",
       "      <td>management</td>\n",
       "      <td>single</td>\n",
       "      <td>tertiary</td>\n",
       "      <td>0</td>\n",
       "      <td>1218</td>\n",
       "      <td>1</td>\n",
       "      <td>0</td>\n",
       "      <td>telephone</td>\n",
       "      <td>28</td>\n",
       "      <td>jan</td>\n",
       "      <td>2</td>\n",
       "      <td>-1</td>\n",
       "      <td>0</td>\n",
       "      <td>NaN</td>\n",
       "      <td>13:45:20</td>\n",
       "      <td>13:46:30</td>\n",
       "      <td>0</td>\n",
       "    </tr>\n",
       "    <tr>\n",
       "      <th>1</th>\n",
       "      <td>2</td>\n",
       "      <td>32</td>\n",
       "      <td>blue-collar</td>\n",
       "      <td>married</td>\n",
       "      <td>primary</td>\n",
       "      <td>0</td>\n",
       "      <td>1156</td>\n",
       "      <td>1</td>\n",
       "      <td>0</td>\n",
       "      <td>NaN</td>\n",
       "      <td>26</td>\n",
       "      <td>may</td>\n",
       "      <td>5</td>\n",
       "      <td>-1</td>\n",
       "      <td>0</td>\n",
       "      <td>NaN</td>\n",
       "      <td>14:49:03</td>\n",
       "      <td>14:52:08</td>\n",
       "      <td>0</td>\n",
       "    </tr>\n",
       "    <tr>\n",
       "      <th>2</th>\n",
       "      <td>3</td>\n",
       "      <td>29</td>\n",
       "      <td>management</td>\n",
       "      <td>single</td>\n",
       "      <td>tertiary</td>\n",
       "      <td>0</td>\n",
       "      <td>637</td>\n",
       "      <td>1</td>\n",
       "      <td>0</td>\n",
       "      <td>cellular</td>\n",
       "      <td>3</td>\n",
       "      <td>jun</td>\n",
       "      <td>1</td>\n",
       "      <td>119</td>\n",
       "      <td>1</td>\n",
       "      <td>failure</td>\n",
       "      <td>16:30:24</td>\n",
       "      <td>16:36:04</td>\n",
       "      <td>1</td>\n",
       "    </tr>\n",
       "    <tr>\n",
       "      <th>3</th>\n",
       "      <td>4</td>\n",
       "      <td>25</td>\n",
       "      <td>student</td>\n",
       "      <td>single</td>\n",
       "      <td>primary</td>\n",
       "      <td>0</td>\n",
       "      <td>373</td>\n",
       "      <td>1</td>\n",
       "      <td>0</td>\n",
       "      <td>cellular</td>\n",
       "      <td>11</td>\n",
       "      <td>may</td>\n",
       "      <td>2</td>\n",
       "      <td>-1</td>\n",
       "      <td>0</td>\n",
       "      <td>NaN</td>\n",
       "      <td>12:06:43</td>\n",
       "      <td>12:20:22</td>\n",
       "      <td>1</td>\n",
       "    </tr>\n",
       "    <tr>\n",
       "      <th>4</th>\n",
       "      <td>5</td>\n",
       "      <td>30</td>\n",
       "      <td>management</td>\n",
       "      <td>married</td>\n",
       "      <td>tertiary</td>\n",
       "      <td>0</td>\n",
       "      <td>2694</td>\n",
       "      <td>0</td>\n",
       "      <td>0</td>\n",
       "      <td>cellular</td>\n",
       "      <td>3</td>\n",
       "      <td>jun</td>\n",
       "      <td>1</td>\n",
       "      <td>-1</td>\n",
       "      <td>0</td>\n",
       "      <td>NaN</td>\n",
       "      <td>14:35:44</td>\n",
       "      <td>14:38:56</td>\n",
       "      <td>0</td>\n",
       "    </tr>\n",
       "  </tbody>\n",
       "</table>\n",
       "</div>"
      ],
      "text/plain": [
       "   Id  Age          Job  Marital Education  Default  Balance  HHInsurance  \\\n",
       "0   1   32   management   single  tertiary        0     1218            1   \n",
       "1   2   32  blue-collar  married   primary        0     1156            1   \n",
       "2   3   29   management   single  tertiary        0      637            1   \n",
       "3   4   25      student   single   primary        0      373            1   \n",
       "4   5   30   management  married  tertiary        0     2694            0   \n",
       "\n",
       "   CarLoan Communication  LastContactDay LastContactMonth  NoOfContacts  \\\n",
       "0        0     telephone              28              jan             2   \n",
       "1        0           NaN              26              may             5   \n",
       "2        0      cellular               3              jun             1   \n",
       "3        0      cellular              11              may             2   \n",
       "4        0      cellular               3              jun             1   \n",
       "\n",
       "   DaysPassed  PrevAttempts  Outcome CallStart   CallEnd  CarInsurance  \n",
       "0          -1             0      NaN  13:45:20  13:46:30             0  \n",
       "1          -1             0      NaN  14:49:03  14:52:08             0  \n",
       "2         119             1  failure  16:30:24  16:36:04             1  \n",
       "3          -1             0      NaN  12:06:43  12:20:22             1  \n",
       "4          -1             0      NaN  14:35:44  14:38:56             0  "
      ]
     },
     "execution_count": 4,
     "metadata": {},
     "output_type": "execute_result"
    }
   ],
   "source": [
    "data.head()"
   ]
  },
  {
   "cell_type": "markdown",
   "metadata": {},
   "source": [
    "$$Exploratory Testing$$"
   ]
  },
  {
   "cell_type": "code",
   "execution_count": 5,
   "metadata": {},
   "outputs": [
    {
     "data": {
      "text/plain": [
       "<matplotlib.axes._subplots.AxesSubplot at 0x254025e6148>"
      ]
     },
     "execution_count": 5,
     "metadata": {},
     "output_type": "execute_result"
    },
    {
     "data": {
      "image/png": "[encoded data removed]",
      "text/plain": [
       "<Figure size 864x576 with 1 Axes>"
      ]
     },
     "metadata": {
      "needs_background": "light"
     },
     "output_type": "display_data"
    }
   ],
   "source": [
    "plt.figure(figsize=(12, 8))\n",
    "plt.subplot(2,2,1)\n",
    "sns.scatterplot(data['Age'], data['CarInsurance'])\n",
    "\n",
    "#plt.subplot(2,2,2)\n",
    "#sns.scatterplot(data['Marital'], data['CarInsurance'])\n"
   ]
  },
  {
   "cell_type": "code",
   "execution_count": 6,
   "metadata": {},
   "outputs": [
    {
     "name": "stdout",
     "output_type": "stream",
     "text": [
      "1604\n",
      "2396\n"
     ]
    }
   ],
   "source": [
    "numOfTrue = 0\n",
    "numOfFalse = 0\n",
    "\n",
    "for value in data['CarInsurance']:\n",
    "    if value == True:\n",
    "        numOfTrue +=1\n",
    "    else:\n",
    "        numOfFalse +=1\n",
    "print(numOfTrue)\n",
    "print(numOfFalse)"
   ]
  },
  {
   "cell_type": "code",
   "execution_count": 7,
   "metadata": {},
   "outputs": [
    {
     "data": {
      "text/plain": [
       "\"Did_They_Buy_Car_Insurance_factor = {}\\nfor c in data.columns[1:-1]:\\n    #c is key - column names\\n    #data.groupby(c)['CarInsurance'].sum() is value\\n    Did_They_Buy_Car_Insurance_factor[c] = data.groupby(c)['CarInsurance'].sum()\""
      ]
     },
     "execution_count": 7,
     "metadata": {},
     "output_type": "execute_result"
    }
   ],
   "source": [
    "'''Did_They_Buy_Car_Insurance_factor = {}\n",
    "for c in data.columns[1:-1]:\n",
    "    #c is key - column names\n",
    "    #data.groupby(c)['CarInsurance'].sum() is value\n",
    "    Did_They_Buy_Car_Insurance_factor[c] = data.groupby(c)['CarInsurance'].sum()'''"
   ]
  },
  {
   "cell_type": "code",
   "execution_count": 8,
   "metadata": {},
   "outputs": [
    {
     "data": {
      "text/plain": [
       "\"i = 1\\nplt.figure(figsize=(14, 35))\\nfor c, p in Did_They_Buy_Car_Insurance_factor.items():\\n    #10 rows of plots, 2 columns\\n    plt.subplot(10, 2, i)\\n    i += 1\\n    plt.bar(p.index, p.values)\\n    plt.title('Did They Buy Car Insurance Against {}'.format(c))\""
      ]
     },
     "execution_count": 8,
     "metadata": {},
     "output_type": "execute_result"
    }
   ],
   "source": [
    "'''i = 1\n",
    "plt.figure(figsize=(14, 35))\n",
    "for c, p in Did_They_Buy_Car_Insurance_factor.items():\n",
    "    #10 rows of plots, 2 columns\n",
    "    plt.subplot(10, 2, i)\n",
    "    i += 1\n",
    "    plt.bar(p.index, p.values)\n",
    "    plt.title('Did They Buy Car Insurance Against {}'.format(c))'''"
   ]
  },
  {
   "cell_type": "code",
   "execution_count": 9,
   "metadata": {},
   "outputs": [],
   "source": [
    "#plt.figure(figsize=(12, 8))\n",
    "#plt.bar(data['Job'], data.groupby('Job')['CarInsurance'].sum())"
   ]
  },
  {
   "cell_type": "code",
   "execution_count": 10,
   "metadata": {},
   "outputs": [
    {
     "data": {
      "text/plain": [
       "\"#Amazing!!!!!\\nsns.countplot('HHInsurance', hue='CarInsurance', data=data)\""
      ]
     },
     "execution_count": 10,
     "metadata": {},
     "output_type": "execute_result"
    }
   ],
   "source": [
    "'''#Amazing!!!!!\n",
    "sns.countplot('HHInsurance', hue='CarInsurance', data=data)'''"
   ]
  },
  {
   "cell_type": "code",
   "execution_count": 11,
   "metadata": {},
   "outputs": [
    {
     "data": {
      "text/plain": [
       "\"plt.figure(figsize=(18,8))\\nsns.countplot('Age', hue='CarInsurance', data=data)\""
      ]
     },
     "execution_count": 11,
     "metadata": {},
     "output_type": "execute_result"
    }
   ],
   "source": [
    "'''plt.figure(figsize=(18,8))\n",
    "sns.countplot('Age', hue='CarInsurance', data=data)'''"
   ]
  },
  {
   "cell_type": "code",
   "execution_count": 12,
   "metadata": {},
   "outputs": [
    {
     "data": {
      "text/plain": [
       "\"plt.figure(figsize=(14,8))\\nsns.countplot('Job', hue='CarInsurance', data=data)\""
      ]
     },
     "execution_count": 12,
     "metadata": {},
     "output_type": "execute_result"
    }
   ],
   "source": [
    "'''plt.figure(figsize=(14,8))\n",
    "sns.countplot('Job', hue='CarInsurance', data=data)'''"
   ]
  },
  {
   "cell_type": "code",
   "execution_count": 13,
   "metadata": {},
   "outputs": [
    {
     "data": {
      "text/plain": [
       "\"plt.figure(figsize=(14,8))\\nsns.countplot('Marital', hue='CarInsurance', data=data)\""
      ]
     },
     "execution_count": 13,
     "metadata": {},
     "output_type": "execute_result"
    }
   ],
   "source": [
    "'''plt.figure(figsize=(14,8))\n",
    "sns.countplot('Marital', hue='CarInsurance', data=data)'''"
   ]
  },
  {
   "cell_type": "code",
   "execution_count": 14,
   "metadata": {},
   "outputs": [
    {
     "data": {
      "text/plain": [
       "\"plt.figure(figsize=(14,8))\\nsns.countplot('Education', hue='CarInsurance', data=data)\""
      ]
     },
     "execution_count": 14,
     "metadata": {},
     "output_type": "execute_result"
    }
   ],
   "source": [
    "'''plt.figure(figsize=(14,8))\n",
    "sns.countplot('Education', hue='CarInsurance', data=data)'''"
   ]
  },
  {
   "cell_type": "code",
   "execution_count": 15,
   "metadata": {},
   "outputs": [
    {
     "data": {
      "text/plain": [
       "\"plt.figure(figsize=(14,8))\\nsns.countplot('Default', hue='CarInsurance', data=data)\""
      ]
     },
     "execution_count": 15,
     "metadata": {},
     "output_type": "execute_result"
    }
   ],
   "source": [
    "'''plt.figure(figsize=(14,8))\n",
    "sns.countplot('Default', hue='CarInsurance', data=data)'''"
   ]
  },
  {
   "cell_type": "code",
   "execution_count": 16,
   "metadata": {},
   "outputs": [
    {
     "data": {
      "text/plain": [
       "\"plt.figure(figsize=(14,8))\\nsns.countplot('Balance', hue='CarInsurance', data=data)\""
      ]
     },
     "execution_count": 16,
     "metadata": {},
     "output_type": "execute_result"
    }
   ],
   "source": [
    "'''plt.figure(figsize=(14,8))\n",
    "sns.countplot('Balance', hue='CarInsurance', data=data)'''"
   ]
  },
  {
   "cell_type": "code",
   "execution_count": 17,
   "metadata": {},
   "outputs": [
    {
     "data": {
      "text/plain": [
       "\"plt.figure(figsize=(14,8))\\nsns.countplot('HHInsurance', hue='CarInsurance', data=data)\""
      ]
     },
     "execution_count": 17,
     "metadata": {},
     "output_type": "execute_result"
    }
   ],
   "source": [
    "'''plt.figure(figsize=(14,8))\n",
    "sns.countplot('HHInsurance', hue='CarInsurance', data=data)'''"
   ]
  },
  {
   "cell_type": "code",
   "execution_count": 18,
   "metadata": {},
   "outputs": [
    {
     "data": {
      "text/plain": [
       "\"plt.figure(figsize=(14,8))\\nsns.countplot('CarLoan', hue='CarInsurance', data=data)\""
      ]
     },
     "execution_count": 18,
     "metadata": {},
     "output_type": "execute_result"
    }
   ],
   "source": [
    "'''plt.figure(figsize=(14,8))\n",
    "sns.countplot('CarLoan', hue='CarInsurance', data=data)'''"
   ]
  },
  {
   "cell_type": "code",
   "execution_count": 19,
   "metadata": {},
   "outputs": [
    {
     "data": {
      "text/plain": [
       "\"plt.figure(figsize=(14,8))\\nsns.countplot('Communication', hue='CarInsurance', data=data)\""
      ]
     },
     "execution_count": 19,
     "metadata": {},
     "output_type": "execute_result"
    }
   ],
   "source": [
    "'''plt.figure(figsize=(14,8))\n",
    "sns.countplot('Communication', hue='CarInsurance', data=data)'''"
   ]
  },
  {
   "cell_type": "code",
   "execution_count": 20,
   "metadata": {},
   "outputs": [
    {
     "data": {
      "text/plain": [
       "\"plt.figure(figsize=(14,8))\\nsns.countplot('NoOfContacts', hue='CarInsurance', data=data)\""
      ]
     },
     "execution_count": 20,
     "metadata": {},
     "output_type": "execute_result"
    }
   ],
   "source": [
    "'''plt.figure(figsize=(14,8))\n",
    "sns.countplot('NoOfContacts', hue='CarInsurance', data=data)'''"
   ]
  },
  {
   "cell_type": "code",
   "execution_count": 21,
   "metadata": {},
   "outputs": [
    {
     "data": {
      "text/plain": [
       "\"plt.figure(figsize=(14,8))\\nsns.countplot('DaysPassed', hue='CarInsurance', data=data)\""
      ]
     },
     "execution_count": 21,
     "metadata": {},
     "output_type": "execute_result"
    }
   ],
   "source": [
    "'''plt.figure(figsize=(14,8))\n",
    "sns.countplot('DaysPassed', hue='CarInsurance', data=data)'''"
   ]
  },
  {
   "cell_type": "code",
   "execution_count": 22,
   "metadata": {},
   "outputs": [
    {
     "data": {
      "text/plain": [
       "\"plt.figure(figsize=(14,8))\\nsns.countplot('PrevAttempts', hue='CarInsurance', data=data)\""
      ]
     },
     "execution_count": 22,
     "metadata": {},
     "output_type": "execute_result"
    }
   ],
   "source": [
    "'''plt.figure(figsize=(14,8))\n",
    "sns.countplot('PrevAttempts', hue='CarInsurance', data=data)'''"
   ]
  },
  {
   "cell_type": "code",
   "execution_count": 23,
   "metadata": {},
   "outputs": [
    {
     "data": {
      "text/plain": [
       "\"plt.figure(figsize=(14,8))\\nsns.countplot('Outcome', hue='CarInsurance', data=data)\""
      ]
     },
     "execution_count": 23,
     "metadata": {},
     "output_type": "execute_result"
    }
   ],
   "source": [
    "'''plt.figure(figsize=(14,8))\n",
    "sns.countplot('Outcome', hue='CarInsurance', data=data)'''"
   ]
  },
  {
   "cell_type": "code",
   "execution_count": 24,
   "metadata": {},
   "outputs": [
    {
     "data": {
      "text/plain": [
       "<matplotlib.axes._subplots.AxesSubplot at 0x254022ad988>"
      ]
     },
     "execution_count": 24,
     "metadata": {},
     "output_type": "execute_result"
    },
    {
     "data": {
      "image/png": "[encoded data removed]",
      "text/plain": [
       "<Figure size 1008x576 with 1 Axes>"
      ]
     },
     "metadata": {
      "needs_background": "light"
     },
     "output_type": "display_data"
    }
   ],
   "source": [
    "plt.figure(figsize=(14,8))\n",
    "sns.countplot('LastContactMonth', hue='CarInsurance', data=data)"
   ]
  },
  {
   "cell_type": "code",
   "execution_count": 25,
   "metadata": {},
   "outputs": [
    {
     "data": {
      "text/plain": [
       "<matplotlib.axes._subplots.AxesSubplot at 0x25402510d88>"
      ]
     },
     "execution_count": 25,
     "metadata": {},
     "output_type": "execute_result"
    },
    {
     "data": {
      "image/png": "[encoded data removed]",
      "text/plain": [
       "<Figure size 1008x576 with 1 Axes>"
      ]
     },
     "metadata": {
      "needs_background": "light"
     },
     "output_type": "display_data"
    }
   ],
   "source": [
    "plt.figure(figsize=(14,8))\n",
    "sns.countplot('LastContactMonth', hue='CarInsurance', data=data)"
   ]
  },
  {
   "cell_type": "code",
   "execution_count": null,
   "metadata": {},
   "outputs": [],
   "source": []
  },
  {
   "cell_type": "code",
   "execution_count": 26,
   "metadata": {},
   "outputs": [],
   "source": [
    "#Encode the data\n",
    "dataEncoded = pd.get_dummies(data,columns = ['Job'], drop_first=True)\n",
    "##Encode Job, Marital, Education, Communication,\n",
    "#combine last contact day + last contact month , outcome\n",
    "dataEncoded = pd.get_dummies(dataEncoded,columns = ['Marital'], drop_first=True)\n",
    "\n",
    "dataEncoded = pd.get_dummies(dataEncoded,columns = ['Education'], drop_first=True)\n",
    "\n",
    "dataEncoded = pd.get_dummies(dataEncoded,columns = ['Communication'], drop_first=True)\n",
    "\n",
    "dataEncoded = pd.get_dummies(dataEncoded,columns = ['Outcome'], drop_first=True)\n"
   ]
  },
  {
   "cell_type": "code",
   "execution_count": 27,
   "metadata": {},
   "outputs": [
    {
     "data": {
      "text/plain": [
       "(4000, 31)"
      ]
     },
     "execution_count": 27,
     "metadata": {},
     "output_type": "execute_result"
    }
   ],
   "source": [
    "dataEncoded.shape"
   ]
  },
  {
   "cell_type": "code",
   "execution_count": 28,
   "metadata": {},
   "outputs": [
    {
     "data": {
      "text/plain": [
       "Index(['Id', 'Age', 'Default', 'Balance', 'HHInsurance', 'CarLoan',\n",
       "       'LastContactDay', 'LastContactMonth', 'NoOfContacts', 'DaysPassed',\n",
       "       'PrevAttempts', 'CallStart', 'CallEnd', 'CarInsurance',\n",
       "       'Job_blue-collar', 'Job_entrepreneur', 'Job_housemaid',\n",
       "       'Job_management', 'Job_retired', 'Job_self-employed', 'Job_services',\n",
       "       'Job_student', 'Job_technician', 'Job_unemployed', 'Marital_married',\n",
       "       'Marital_single', 'Education_secondary', 'Education_tertiary',\n",
       "       'Communication_telephone', 'Outcome_other', 'Outcome_success'],\n",
       "      dtype='object')"
      ]
     },
     "execution_count": 28,
     "metadata": {},
     "output_type": "execute_result"
    }
   ],
   "source": [
    "dataEncoded.columns"
   ]
  },
  {
   "cell_type": "code",
   "execution_count": 29,
   "metadata": {},
   "outputs": [],
   "source": [
    "#dataEncoded['CallEnd']=pd.Timedelta(dataEncoded['CallEnd'])\n",
    "dataEncoded['CallEnd']=pd.to_datetime(dataEncoded['CallEnd'])\n",
    "dataEncoded['CallStart']=pd.to_datetime(dataEncoded['CallStart'])\n",
    "dataEncoded['CallDuration'] = dataEncoded['CallEnd'] - dataEncoded['CallStart']"
   ]
  },
  {
   "cell_type": "code",
   "execution_count": 30,
   "metadata": {},
   "outputs": [],
   "source": [
    "dataEncoded['CallDuration'].describe()\n",
    "data['CallDuration']=dataEncoded['CallDuration']"
   ]
  },
  {
   "cell_type": "code",
   "execution_count": 31,
   "metadata": {},
   "outputs": [],
   "source": [
    "valuesToAddToDF = []\n",
    "for calldurationstamp in dataEncoded['CallDuration']:\n",
    "    \n",
    "    formattedCallDurationStamp = (str(calldurationstamp).split(' ')[2])\n",
    "    ftr = [3600,60,1]\n",
    "    valueToAdd = sum([a*b for a,b in zip(ftr, map(int,formattedCallDurationStamp.split(':')))])\n",
    "    valuesToAddToDF.append(valueToAdd)\n",
    "\n",
    "\n",
    "dataEncoded['CallDurationSeconds'] = valuesToAddToDF"
   ]
  },
  {
   "cell_type": "code",
   "execution_count": 32,
   "metadata": {},
   "outputs": [
    {
     "data": {
      "text/html": [
       "<div>\n",
       "<style scoped>\n",
       "    .dataframe tbody tr th:only-of-type {\n",
       "        vertical-align: middle;\n",
       "    }\n",
       "\n",
       "    .dataframe tbody tr th {\n",
       "        vertical-align: top;\n",
       "    }\n",
       "\n",
       "    .dataframe thead th {\n",
       "        text-align: right;\n",
       "    }\n",
       "</style>\n",
       "<table border=\"1\" class=\"dataframe\">\n",
       "  <thead>\n",
       "    <tr style=\"text-align: right;\">\n",
       "      <th></th>\n",
       "      <th>Id</th>\n",
       "      <th>Age</th>\n",
       "      <th>Default</th>\n",
       "      <th>Balance</th>\n",
       "      <th>HHInsurance</th>\n",
       "      <th>CarLoan</th>\n",
       "      <th>LastContactDay</th>\n",
       "      <th>LastContactMonth</th>\n",
       "      <th>NoOfContacts</th>\n",
       "      <th>DaysPassed</th>\n",
       "      <th>...</th>\n",
       "      <th>Job_unemployed</th>\n",
       "      <th>Marital_married</th>\n",
       "      <th>Marital_single</th>\n",
       "      <th>Education_secondary</th>\n",
       "      <th>Education_tertiary</th>\n",
       "      <th>Communication_telephone</th>\n",
       "      <th>Outcome_other</th>\n",
       "      <th>Outcome_success</th>\n",
       "      <th>CallDuration</th>\n",
       "      <th>CallDurationSeconds</th>\n",
       "    </tr>\n",
       "  </thead>\n",
       "  <tbody>\n",
       "    <tr>\n",
       "      <th>0</th>\n",
       "      <td>1</td>\n",
       "      <td>32</td>\n",
       "      <td>0</td>\n",
       "      <td>1218</td>\n",
       "      <td>1</td>\n",
       "      <td>0</td>\n",
       "      <td>28</td>\n",
       "      <td>jan</td>\n",
       "      <td>2</td>\n",
       "      <td>-1</td>\n",
       "      <td>...</td>\n",
       "      <td>0</td>\n",
       "      <td>0</td>\n",
       "      <td>1</td>\n",
       "      <td>0</td>\n",
       "      <td>1</td>\n",
       "      <td>1</td>\n",
       "      <td>0</td>\n",
       "      <td>0</td>\n",
       "      <td>00:01:10</td>\n",
       "      <td>70</td>\n",
       "    </tr>\n",
       "    <tr>\n",
       "      <th>1</th>\n",
       "      <td>2</td>\n",
       "      <td>32</td>\n",
       "      <td>0</td>\n",
       "      <td>1156</td>\n",
       "      <td>1</td>\n",
       "      <td>0</td>\n",
       "      <td>26</td>\n",
       "      <td>may</td>\n",
       "      <td>5</td>\n",
       "      <td>-1</td>\n",
       "      <td>...</td>\n",
       "      <td>0</td>\n",
       "      <td>1</td>\n",
       "      <td>0</td>\n",
       "      <td>0</td>\n",
       "      <td>0</td>\n",
       "      <td>0</td>\n",
       "      <td>0</td>\n",
       "      <td>0</td>\n",
       "      <td>00:03:05</td>\n",
       "      <td>185</td>\n",
       "    </tr>\n",
       "    <tr>\n",
       "      <th>2</th>\n",
       "      <td>3</td>\n",
       "      <td>29</td>\n",
       "      <td>0</td>\n",
       "      <td>637</td>\n",
       "      <td>1</td>\n",
       "      <td>0</td>\n",
       "      <td>3</td>\n",
       "      <td>jun</td>\n",
       "      <td>1</td>\n",
       "      <td>119</td>\n",
       "      <td>...</td>\n",
       "      <td>0</td>\n",
       "      <td>0</td>\n",
       "      <td>1</td>\n",
       "      <td>0</td>\n",
       "      <td>1</td>\n",
       "      <td>0</td>\n",
       "      <td>0</td>\n",
       "      <td>0</td>\n",
       "      <td>00:05:40</td>\n",
       "      <td>340</td>\n",
       "    </tr>\n",
       "    <tr>\n",
       "      <th>3</th>\n",
       "      <td>4</td>\n",
       "      <td>25</td>\n",
       "      <td>0</td>\n",
       "      <td>373</td>\n",
       "      <td>1</td>\n",
       "      <td>0</td>\n",
       "      <td>11</td>\n",
       "      <td>may</td>\n",
       "      <td>2</td>\n",
       "      <td>-1</td>\n",
       "      <td>...</td>\n",
       "      <td>0</td>\n",
       "      <td>0</td>\n",
       "      <td>1</td>\n",
       "      <td>0</td>\n",
       "      <td>0</td>\n",
       "      <td>0</td>\n",
       "      <td>0</td>\n",
       "      <td>0</td>\n",
       "      <td>00:13:39</td>\n",
       "      <td>819</td>\n",
       "    </tr>\n",
       "    <tr>\n",
       "      <th>4</th>\n",
       "      <td>5</td>\n",
       "      <td>30</td>\n",
       "      <td>0</td>\n",
       "      <td>2694</td>\n",
       "      <td>0</td>\n",
       "      <td>0</td>\n",
       "      <td>3</td>\n",
       "      <td>jun</td>\n",
       "      <td>1</td>\n",
       "      <td>-1</td>\n",
       "      <td>...</td>\n",
       "      <td>0</td>\n",
       "      <td>1</td>\n",
       "      <td>0</td>\n",
       "      <td>0</td>\n",
       "      <td>1</td>\n",
       "      <td>0</td>\n",
       "      <td>0</td>\n",
       "      <td>0</td>\n",
       "      <td>00:03:12</td>\n",
       "      <td>192</td>\n",
       "    </tr>\n",
       "  </tbody>\n",
       "</table>\n",
       "<p>5 rows × 33 columns</p>\n",
       "</div>"
      ],
      "text/plain": [
       "   Id  Age  Default  Balance  HHInsurance  CarLoan  LastContactDay  \\\n",
       "0   1   32        0     1218            1        0              28   \n",
       "1   2   32        0     1156            1        0              26   \n",
       "2   3   29        0      637            1        0               3   \n",
       "3   4   25        0      373            1        0              11   \n",
       "4   5   30        0     2694            0        0               3   \n",
       "\n",
       "  LastContactMonth  NoOfContacts  DaysPassed  ...  Job_unemployed  \\\n",
       "0              jan             2          -1  ...               0   \n",
       "1              may             5          -1  ...               0   \n",
       "2              jun             1         119  ...               0   \n",
       "3              may             2          -1  ...               0   \n",
       "4              jun             1          -1  ...               0   \n",
       "\n",
       "  Marital_married Marital_single  Education_secondary  Education_tertiary  \\\n",
       "0               0              1                    0                   1   \n",
       "1               1              0                    0                   0   \n",
       "2               0              1                    0                   1   \n",
       "3               0              1                    0                   0   \n",
       "4               1              0                    0                   1   \n",
       "\n",
       "   Communication_telephone  Outcome_other  Outcome_success  CallDuration  \\\n",
       "0                        1              0                0      00:01:10   \n",
       "1                        0              0                0      00:03:05   \n",
       "2                        0              0                0      00:05:40   \n",
       "3                        0              0                0      00:13:39   \n",
       "4                        0              0                0      00:03:12   \n",
       "\n",
       "   CallDurationSeconds  \n",
       "0                   70  \n",
       "1                  185  \n",
       "2                  340  \n",
       "3                  819  \n",
       "4                  192  \n",
       "\n",
       "[5 rows x 33 columns]"
      ]
     },
     "execution_count": 32,
     "metadata": {},
     "output_type": "execute_result"
    }
   ],
   "source": [
    "dataEncoded.head()"
   ]
  },
  {
   "cell_type": "code",
   "execution_count": 33,
   "metadata": {},
   "outputs": [
    {
     "data": {
      "image/png": "[encoded data removed]",
      "text/plain": [
       "<Figure size 2448x1080 with 1 Axes>"
      ]
     },
     "metadata": {
      "needs_background": "light"
     },
     "output_type": "display_data"
    }
   ],
   "source": [
    "dataEncoded.sort_values(\"CallDurationSeconds\", axis = 0, ascending = True, \n",
    "                 inplace = True, na_position ='last')\n",
    "\n",
    "valuesToAddToDF.sort()\n",
    "\n",
    "callDurationBins=pd.cut(dataEncoded['CallDurationSeconds'],15)\n",
    "#print(callDurationBins)\n",
    "plt.figure(figsize=(34,15))\n",
    "sns.countplot(callDurationBins, hue='CarInsurance', data=dataEncoded)\n",
    "plt.yscale('log')\n",
    "\n",
    "#sns.countplot(call\n",
    "#plt.figure(figsize=(34,15))\n",
    "#plt.hist(dataEncoded[\"CallDuration\"], bins=10)\n",
    "#plt.scatter(dataEncoded[\"CallDuration\"], dataEncoded[\"CarInsurance\"])\n",
    "\n",
    "#DurationBins, hue='CarInsurance', data=data)"
   ]
  },
  {
   "cell_type": "code",
   "execution_count": 34,
   "metadata": {},
   "outputs": [
    {
     "name": "stdout",
     "output_type": "stream",
     "text": [
      "2821        (1.752, 221.533]\n",
      "254         (1.752, 221.533]\n",
      "329         (1.752, 221.533]\n",
      "3037        (1.752, 221.533]\n",
      "2628        (1.752, 221.533]\n",
      "                ...         \n",
      "1317    (2170.333, 2386.867]\n",
      "3112      (2386.867, 2603.4]\n",
      "1341      (2603.4, 2819.933]\n",
      "2051    (2819.933, 3036.467]\n",
      "1310      (3036.467, 3253.0]\n",
      "Name: CallDurationSeconds, Length: 4000, dtype: category\n",
      "Categories (15, interval[float64]): [(1.752, 221.533] < (221.533, 438.067] < (438.067, 654.6] < (654.6, 871.133] ... (2386.867, 2603.4] < (2603.4, 2819.933] < (2819.933, 3036.467] < (3036.467, 3253.0]]\n"
     ]
    }
   ],
   "source": [
    "print(callDurationBins)"
   ]
  },
  {
   "cell_type": "code",
   "execution_count": 35,
   "metadata": {},
   "outputs": [
    {
     "data": {
      "text/html": [
       "<div>\n",
       "<style scoped>\n",
       "    .dataframe tbody tr th:only-of-type {\n",
       "        vertical-align: middle;\n",
       "    }\n",
       "\n",
       "    .dataframe tbody tr th {\n",
       "        vertical-align: top;\n",
       "    }\n",
       "\n",
       "    .dataframe thead th {\n",
       "        text-align: right;\n",
       "    }\n",
       "</style>\n",
       "<table border=\"1\" class=\"dataframe\">\n",
       "  <thead>\n",
       "    <tr style=\"text-align: right;\">\n",
       "      <th></th>\n",
       "      <th>Id</th>\n",
       "      <th>Age</th>\n",
       "      <th>Default</th>\n",
       "      <th>Balance</th>\n",
       "      <th>HHInsurance</th>\n",
       "      <th>CarLoan</th>\n",
       "      <th>LastContactDay</th>\n",
       "      <th>LastContactMonth</th>\n",
       "      <th>NoOfContacts</th>\n",
       "      <th>DaysPassed</th>\n",
       "      <th>...</th>\n",
       "      <th>Job_unemployed</th>\n",
       "      <th>Marital_married</th>\n",
       "      <th>Marital_single</th>\n",
       "      <th>Education_secondary</th>\n",
       "      <th>Education_tertiary</th>\n",
       "      <th>Communication_telephone</th>\n",
       "      <th>Outcome_other</th>\n",
       "      <th>Outcome_success</th>\n",
       "      <th>CallDuration</th>\n",
       "      <th>CallDurationSeconds</th>\n",
       "    </tr>\n",
       "  </thead>\n",
       "  <tbody>\n",
       "    <tr>\n",
       "      <th>2821</th>\n",
       "      <td>2822</td>\n",
       "      <td>21</td>\n",
       "      <td>0</td>\n",
       "      <td>519</td>\n",
       "      <td>0</td>\n",
       "      <td>0</td>\n",
       "      <td>4</td>\n",
       "      <td>oct</td>\n",
       "      <td>1</td>\n",
       "      <td>-1</td>\n",
       "      <td>...</td>\n",
       "      <td>0</td>\n",
       "      <td>0</td>\n",
       "      <td>1</td>\n",
       "      <td>1</td>\n",
       "      <td>0</td>\n",
       "      <td>0</td>\n",
       "      <td>0</td>\n",
       "      <td>0</td>\n",
       "      <td>00:00:05</td>\n",
       "      <td>5</td>\n",
       "    </tr>\n",
       "    <tr>\n",
       "      <th>254</th>\n",
       "      <td>255</td>\n",
       "      <td>58</td>\n",
       "      <td>0</td>\n",
       "      <td>0</td>\n",
       "      <td>1</td>\n",
       "      <td>0</td>\n",
       "      <td>31</td>\n",
       "      <td>jul</td>\n",
       "      <td>25</td>\n",
       "      <td>-1</td>\n",
       "      <td>...</td>\n",
       "      <td>0</td>\n",
       "      <td>1</td>\n",
       "      <td>0</td>\n",
       "      <td>0</td>\n",
       "      <td>0</td>\n",
       "      <td>0</td>\n",
       "      <td>0</td>\n",
       "      <td>0</td>\n",
       "      <td>00:00:05</td>\n",
       "      <td>5</td>\n",
       "    </tr>\n",
       "    <tr>\n",
       "      <th>329</th>\n",
       "      <td>330</td>\n",
       "      <td>29</td>\n",
       "      <td>0</td>\n",
       "      <td>-105</td>\n",
       "      <td>1</td>\n",
       "      <td>0</td>\n",
       "      <td>27</td>\n",
       "      <td>may</td>\n",
       "      <td>3</td>\n",
       "      <td>-1</td>\n",
       "      <td>...</td>\n",
       "      <td>0</td>\n",
       "      <td>0</td>\n",
       "      <td>1</td>\n",
       "      <td>1</td>\n",
       "      <td>0</td>\n",
       "      <td>0</td>\n",
       "      <td>0</td>\n",
       "      <td>0</td>\n",
       "      <td>00:00:05</td>\n",
       "      <td>5</td>\n",
       "    </tr>\n",
       "    <tr>\n",
       "      <th>3037</th>\n",
       "      <td>3038</td>\n",
       "      <td>48</td>\n",
       "      <td>0</td>\n",
       "      <td>10655</td>\n",
       "      <td>0</td>\n",
       "      <td>0</td>\n",
       "      <td>31</td>\n",
       "      <td>jul</td>\n",
       "      <td>3</td>\n",
       "      <td>-1</td>\n",
       "      <td>...</td>\n",
       "      <td>0</td>\n",
       "      <td>1</td>\n",
       "      <td>0</td>\n",
       "      <td>1</td>\n",
       "      <td>0</td>\n",
       "      <td>1</td>\n",
       "      <td>0</td>\n",
       "      <td>0</td>\n",
       "      <td>00:00:05</td>\n",
       "      <td>5</td>\n",
       "    </tr>\n",
       "    <tr>\n",
       "      <th>2628</th>\n",
       "      <td>2629</td>\n",
       "      <td>36</td>\n",
       "      <td>0</td>\n",
       "      <td>2347</td>\n",
       "      <td>1</td>\n",
       "      <td>0</td>\n",
       "      <td>21</td>\n",
       "      <td>nov</td>\n",
       "      <td>3</td>\n",
       "      <td>-1</td>\n",
       "      <td>...</td>\n",
       "      <td>1</td>\n",
       "      <td>1</td>\n",
       "      <td>0</td>\n",
       "      <td>0</td>\n",
       "      <td>0</td>\n",
       "      <td>0</td>\n",
       "      <td>0</td>\n",
       "      <td>0</td>\n",
       "      <td>00:00:05</td>\n",
       "      <td>5</td>\n",
       "    </tr>\n",
       "  </tbody>\n",
       "</table>\n",
       "<p>5 rows × 33 columns</p>\n",
       "</div>"
      ],
      "text/plain": [
       "        Id  Age  Default  Balance  HHInsurance  CarLoan  LastContactDay  \\\n",
       "2821  2822   21        0      519            0        0               4   \n",
       "254    255   58        0        0            1        0              31   \n",
       "329    330   29        0     -105            1        0              27   \n",
       "3037  3038   48        0    10655            0        0              31   \n",
       "2628  2629   36        0     2347            1        0              21   \n",
       "\n",
       "     LastContactMonth  NoOfContacts  DaysPassed  ...  Job_unemployed  \\\n",
       "2821              oct             1          -1  ...               0   \n",
       "254               jul            25          -1  ...               0   \n",
       "329               may             3          -1  ...               0   \n",
       "3037              jul             3          -1  ...               0   \n",
       "2628              nov             3          -1  ...               1   \n",
       "\n",
       "     Marital_married Marital_single  Education_secondary  Education_tertiary  \\\n",
       "2821               0              1                    1                   0   \n",
       "254                1              0                    0                   0   \n",
       "329                0              1                    1                   0   \n",
       "3037               1              0                    1                   0   \n",
       "2628               1              0                    0                   0   \n",
       "\n",
       "      Communication_telephone  Outcome_other  Outcome_success  CallDuration  \\\n",
       "2821                        0              0                0      00:00:05   \n",
       "254                         0              0                0      00:00:05   \n",
       "329                         0              0                0      00:00:05   \n",
       "3037                        1              0                0      00:00:05   \n",
       "2628                        0              0                0      00:00:05   \n",
       "\n",
       "      CallDurationSeconds  \n",
       "2821                    5  \n",
       "254                     5  \n",
       "329                     5  \n",
       "3037                    5  \n",
       "2628                    5  \n",
       "\n",
       "[5 rows x 33 columns]"
      ]
     },
     "execution_count": 35,
     "metadata": {},
     "output_type": "execute_result"
    }
   ],
   "source": [
    "dataEncoded.head()"
   ]
  },
  {
   "cell_type": "code",
   "execution_count": 36,
   "metadata": {},
   "outputs": [
    {
     "data": {
      "text/plain": [
       "Index(['Id', 'Age', 'Default', 'Balance', 'HHInsurance', 'CarLoan',\n",
       "       'LastContactDay', 'LastContactMonth', 'NoOfContacts', 'DaysPassed',\n",
       "       'PrevAttempts', 'CallStart', 'CallEnd', 'CarInsurance',\n",
       "       'Job_blue-collar', 'Job_entrepreneur', 'Job_housemaid',\n",
       "       'Job_management', 'Job_retired', 'Job_self-employed', 'Job_services',\n",
       "       'Job_student', 'Job_technician', 'Job_unemployed', 'Marital_married',\n",
       "       'Marital_single', 'Education_secondary', 'Education_tertiary',\n",
       "       'Communication_telephone', 'Outcome_other', 'Outcome_success',\n",
       "       'CallDuration', 'CallDurationSeconds'],\n",
       "      dtype='object')"
      ]
     },
     "execution_count": 36,
     "metadata": {},
     "output_type": "execute_result"
    }
   ],
   "source": [
    "dataEncoded.columns"
   ]
  },
  {
   "cell_type": "code",
   "execution_count": 58,
   "metadata": {},
   "outputs": [],
   "source": [
    "#drop id\n",
    "#drop callStart and CallEnd\n",
    "#dataEncoded['CallEnd']=pd.Timedelta(dataEncoded['CallEnd'])\n",
    "#drop last contact day and month\n",
    "x=dataEncoded[['Age', 'Balance', 'HHInsurance', 'CarLoan',\n",
    "        'NoOfContacts', 'DaysPassed',\n",
    "       'PrevAttempts', 'Job_blue-collar', 'Job_entrepreneur', 'Job_housemaid',\n",
    "       'Job_management', 'Job_retired', 'Job_self-employed', 'Job_services',\n",
    "       'Job_student', 'Job_technician', 'Job_unemployed',\n",
    "       'Communication_telephone', 'Outcome_other', 'Outcome_success', 'CallDurationSeconds']]\n",
    "y=dataEncoded['CarInsurance']\n",
    "#drop last contact day and month\n",
    "\n",
    "#x=dataEncoded['CallDurationSeconds']\n",
    "#y=dataEncoded['CarInsurance']\n",
    "\n",
    "#data.groupby(c)['CarInsurance'].sum()\n",
    "#dataEncoded['CarInsurance']\n",
    "#x_train, x_test, y_train, y_test = train_test_split(x,y,test_size=0.25 ,random_state = 20 )"
   ]
  },
  {
   "cell_type": "code",
   "execution_count": 59,
   "metadata": {},
   "outputs": [],
   "source": [
    "#x.loc[x['Age'] == 20]"
   ]
  },
  {
   "cell_type": "code",
   "execution_count": 60,
   "metadata": {},
   "outputs": [],
   "source": [
    "lr = LogisticRegression(solver='lbfgs', max_iter=10000)\n",
    "dtr5 = DecisionTreeClassifier(max_depth=5)\n",
    "dtr10=DecisionTreeClassifier(max_depth=10)\n",
    "rfr = RandomForestClassifier(max_depth=12, random_state=0)\n",
    "gb = GradientBoostingClassifier(max_depth=5)\n"
   ]
  },
  {
   "cell_type": "code",
   "execution_count": 70,
   "metadata": {},
   "outputs": [
    {
     "name": "stderr",
     "output_type": "stream",
     "text": [
      "c:\\users\\aakash.patel\\appdata\\local\\continuum\\miniconda3\\lib\\site-packages\\sklearn\\model_selection\\_split.py:1978: FutureWarning: The default value of cv will change from 3 to 5 in version 0.22. Specify it explicitly to silence this warning.\n",
      "  warnings.warn(CV_WARNING, FutureWarning)\n"
     ]
    },
    {
     "name": "stdout",
     "output_type": "stream",
     "text": [
      "CONFUSION MATRIX for GradientBoostingClassifier(criterion='friedman_mse', init=None,\n",
      "                           learning_rate=0.1, loss='deviance', max_depth=5,\n",
      "                           max_features=None, max_leaf_nodes=None,\n",
      "                           min_impurity_decrease=0.0, min_impurity_split=None,\n",
      "                           min_samples_leaf=1, min_samples_split=2,\n",
      "                           min_weight_fraction_leaf=0.0, n_estimators=100,\n",
      "                           n_iter_no_change=None, presort='auto',\n",
      "                           random_state=None, subsample=1.0, tol=0.0001,\n",
      "                           validation_fraction=0.1, verbose=0,\n",
      "                           warm_start=False) ==== \n",
      "[[309  59]\n",
      " [ 78 220]]\n",
      "Our model has correctly classified 79.42942942942943% of all observations in the test data\n"
     ]
    }
   ],
   "source": [
    "parameters = {'max_depth':np.asarray([6,12]), 'random_state':np.asarray([0,1])}\n",
    "gs = GridSearchCV(rfr, parameters)\n",
    "gs.fit(x_train, y_train)\n",
    "y_predicted = regressor.predict(x_test)\n",
    "print(\"CONFUSION MATRIX for \" + str(regressor) + \" ==== \\n\" + str(skmetrics.confusion_matrix(y_test, y_predicted)))\n",
    "print('Our model has correctly classified {0}% of all observations in the test data' \\\n",
    "                .format(skmetrics.accuracy_score(y_test, y_predicted) * 100))\n",
    "#gs = GridSearchCV()\n"
   ]
  },
  {
   "cell_type": "code",
   "execution_count": 61,
   "metadata": {},
   "outputs": [
    {
     "name": "stdout",
     "output_type": "stream",
     "text": [
      "+++++++++++++++++++++++++++++++++++++++++++++++++++++++++++++++++++++++++++++\n",
      "===============================================================\n",
      "CONFUSION MATRIX for LogisticRegression(C=1.0, class_weight=None, dual=False, fit_intercept=True,\n",
      "                   intercept_scaling=1, l1_ratio=None, max_iter=10000,\n",
      "                   multi_class='warn', n_jobs=None, penalty='l2',\n",
      "                   random_state=None, solver='lbfgs', tol=0.0001, verbose=0,\n",
      "                   warm_start=False) ==== \n",
      "[[354  45]\n",
      " [ 81 187]]\n",
      "Our model has correctly classified 81.10944527736132% of all observations in the test data\n",
      "===============================================================\n",
      "===============================================================\n",
      "CONFUSION MATRIX for LogisticRegression(C=1.0, class_weight=None, dual=False, fit_intercept=True,\n",
      "                   intercept_scaling=1, l1_ratio=None, max_iter=10000,\n",
      "                   multi_class='warn', n_jobs=None, penalty='l2',\n",
      "                   random_state=None, solver='lbfgs', tol=0.0001, verbose=0,\n",
      "                   warm_start=False) ==== \n",
      "[[330  48]\n",
      " [ 85 204]]\n",
      "Our model has correctly classified 80.0599700149925% of all observations in the test data\n",
      "===============================================================\n",
      "===============================================================\n",
      "CONFUSION MATRIX for LogisticRegression(C=1.0, class_weight=None, dual=False, fit_intercept=True,\n",
      "                   intercept_scaling=1, l1_ratio=None, max_iter=10000,\n",
      "                   multi_class='warn', n_jobs=None, penalty='l2',\n",
      "                   random_state=None, solver='lbfgs', tol=0.0001, verbose=0,\n",
      "                   warm_start=False) ==== \n",
      "[[369  49]\n",
      " [ 71 178]]\n",
      "Our model has correctly classified 82.00899550224887% of all observations in the test data\n",
      "===============================================================\n",
      "===============================================================\n",
      "CONFUSION MATRIX for LogisticRegression(C=1.0, class_weight=None, dual=False, fit_intercept=True,\n",
      "                   intercept_scaling=1, l1_ratio=None, max_iter=10000,\n",
      "                   multi_class='warn', n_jobs=None, penalty='l2',\n",
      "                   random_state=None, solver='lbfgs', tol=0.0001, verbose=0,\n",
      "                   warm_start=False) ==== \n",
      "[[375  37]\n",
      " [ 83 172]]\n",
      "Our model has correctly classified 82.00899550224887% of all observations in the test data\n",
      "===============================================================\n",
      "===============================================================\n",
      "CONFUSION MATRIX for LogisticRegression(C=1.0, class_weight=None, dual=False, fit_intercept=True,\n",
      "                   intercept_scaling=1, l1_ratio=None, max_iter=10000,\n",
      "                   multi_class='warn', n_jobs=None, penalty='l2',\n",
      "                   random_state=None, solver='lbfgs', tol=0.0001, verbose=0,\n",
      "                   warm_start=False) ==== \n",
      "[[337  57]\n",
      " [ 89 183]]\n",
      "Our model has correctly classified 78.07807807807808% of all observations in the test data\n",
      "===============================================================\n",
      "===============================================================\n",
      "CONFUSION MATRIX for LogisticRegression(C=1.0, class_weight=None, dual=False, fit_intercept=True,\n",
      "                   intercept_scaling=1, l1_ratio=None, max_iter=10000,\n",
      "                   multi_class='warn', n_jobs=None, penalty='l2',\n",
      "                   random_state=None, solver='lbfgs', tol=0.0001, verbose=0,\n",
      "                   warm_start=False) ==== \n",
      "[[350  45]\n",
      " [ 91 180]]\n",
      "Our model has correctly classified 79.57957957957959% of all observations in the test data\n",
      "===============================================================\n",
      "+++++++++++++++++++++++++++++++++++++++++++++++++++++++++++++++++++++++++++++\n",
      "+++++++++++++++++++++++++++++++++++++++++++++++++++++++++++++++++++++++++++++\n",
      "===============================================================\n",
      "CONFUSION MATRIX for DecisionTreeClassifier(class_weight=None, criterion='gini', max_depth=5,\n",
      "                       max_features=None, max_leaf_nodes=None,\n",
      "                       min_impurity_decrease=0.0, min_impurity_split=None,\n",
      "                       min_samples_leaf=1, min_samples_split=2,\n",
      "                       min_weight_fraction_leaf=0.0, presort=False,\n",
      "                       random_state=None, splitter='best') ==== \n",
      "[[364  45]\n",
      " [ 84 174]]\n",
      "Our model has correctly classified 80.65967016491754% of all observations in the test data\n",
      "===============================================================\n",
      "===============================================================\n",
      "CONFUSION MATRIX for DecisionTreeClassifier(class_weight=None, criterion='gini', max_depth=5,\n",
      "                       max_features=None, max_leaf_nodes=None,\n",
      "                       min_impurity_decrease=0.0, min_impurity_split=None,\n",
      "                       min_samples_leaf=1, min_samples_split=2,\n",
      "                       min_weight_fraction_leaf=0.0, presort=False,\n",
      "                       random_state=None, splitter='best') ==== \n",
      "[[312  83]\n",
      " [ 52 220]]\n",
      "Our model has correctly classified 79.76011994002998% of all observations in the test data\n",
      "===============================================================\n",
      "===============================================================\n",
      "CONFUSION MATRIX for DecisionTreeClassifier(class_weight=None, criterion='gini', max_depth=5,\n",
      "                       max_features=None, max_leaf_nodes=None,\n",
      "                       min_impurity_decrease=0.0, min_impurity_split=None,\n",
      "                       min_samples_leaf=1, min_samples_split=2,\n",
      "                       min_weight_fraction_leaf=0.0, presort=False,\n",
      "                       random_state=None, splitter='best') ==== \n",
      "[[319  77]\n",
      " [ 64 207]]\n",
      "Our model has correctly classified 78.86056971514243% of all observations in the test data\n",
      "===============================================================\n",
      "===============================================================\n",
      "CONFUSION MATRIX for DecisionTreeClassifier(class_weight=None, criterion='gini', max_depth=5,\n",
      "                       max_features=None, max_leaf_nodes=None,\n",
      "                       min_impurity_decrease=0.0, min_impurity_split=None,\n",
      "                       min_samples_leaf=1, min_samples_split=2,\n",
      "                       min_weight_fraction_leaf=0.0, presort=False,\n",
      "                       random_state=None, splitter='best') ==== \n",
      "[[337  53]\n",
      " [ 77 200]]\n",
      "Our model has correctly classified 80.50974512743629% of all observations in the test data\n",
      "===============================================================\n",
      "===============================================================\n",
      "CONFUSION MATRIX for DecisionTreeClassifier(class_weight=None, criterion='gini', max_depth=5,\n",
      "                       max_features=None, max_leaf_nodes=None,\n",
      "                       min_impurity_decrease=0.0, min_impurity_split=None,\n",
      "                       min_samples_leaf=1, min_samples_split=2,\n",
      "                       min_weight_fraction_leaf=0.0, presort=False,\n",
      "                       random_state=None, splitter='best') ==== \n",
      "[[352  53]\n",
      " [ 81 180]]\n",
      "Our model has correctly classified 79.87987987987988% of all observations in the test data\n",
      "===============================================================\n",
      "===============================================================\n",
      "CONFUSION MATRIX for DecisionTreeClassifier(class_weight=None, criterion='gini', max_depth=5,\n",
      "                       max_features=None, max_leaf_nodes=None,\n",
      "                       min_impurity_decrease=0.0, min_impurity_split=None,\n",
      "                       min_samples_leaf=1, min_samples_split=2,\n",
      "                       min_weight_fraction_leaf=0.0, presort=False,\n",
      "                       random_state=None, splitter='best') ==== \n",
      "[[299 102]\n",
      " [ 63 202]]\n",
      "Our model has correctly classified 75.22522522522522% of all observations in the test data\n",
      "===============================================================\n",
      "+++++++++++++++++++++++++++++++++++++++++++++++++++++++++++++++++++++++++++++\n",
      "+++++++++++++++++++++++++++++++++++++++++++++++++++++++++++++++++++++++++++++\n",
      "===============================================================\n",
      "CONFUSION MATRIX for DecisionTreeClassifier(class_weight=None, criterion='gini', max_depth=10,\n",
      "                       max_features=None, max_leaf_nodes=None,\n",
      "                       min_impurity_decrease=0.0, min_impurity_split=None,\n",
      "                       min_samples_leaf=1, min_samples_split=2,\n",
      "                       min_weight_fraction_leaf=0.0, presort=False,\n",
      "                       random_state=None, splitter='best') ==== \n",
      "[[350  54]\n",
      " [ 89 174]]\n",
      "Our model has correctly classified 78.56071964017991% of all observations in the test data\n",
      "===============================================================\n",
      "===============================================================\n",
      "CONFUSION MATRIX for DecisionTreeClassifier(class_weight=None, criterion='gini', max_depth=10,\n",
      "                       max_features=None, max_leaf_nodes=None,\n",
      "                       min_impurity_decrease=0.0, min_impurity_split=None,\n",
      "                       min_samples_leaf=1, min_samples_split=2,\n",
      "                       min_weight_fraction_leaf=0.0, presort=False,\n",
      "                       random_state=None, splitter='best') ==== \n",
      "[[337  63]\n",
      " [ 80 187]]\n",
      "Our model has correctly classified 78.56071964017991% of all observations in the test data\n",
      "===============================================================\n",
      "===============================================================\n",
      "CONFUSION MATRIX for DecisionTreeClassifier(class_weight=None, criterion='gini', max_depth=10,\n",
      "                       max_features=None, max_leaf_nodes=None,\n",
      "                       min_impurity_decrease=0.0, min_impurity_split=None,\n",
      "                       min_samples_leaf=1, min_samples_split=2,\n",
      "                       min_weight_fraction_leaf=0.0, presort=False,\n",
      "                       random_state=None, splitter='best') ==== \n",
      "[[331  50]\n",
      " [ 86 200]]\n",
      "Our model has correctly classified 79.61019490254873% of all observations in the test data\n",
      "===============================================================\n",
      "===============================================================\n",
      "CONFUSION MATRIX for DecisionTreeClassifier(class_weight=None, criterion='gini', max_depth=10,\n",
      "                       max_features=None, max_leaf_nodes=None,\n",
      "                       min_impurity_decrease=0.0, min_impurity_split=None,\n",
      "                       min_samples_leaf=1, min_samples_split=2,\n",
      "                       min_weight_fraction_leaf=0.0, presort=False,\n",
      "                       random_state=None, splitter='best') ==== \n",
      "[[309  93]\n",
      " [ 70 195]]\n",
      "Our model has correctly classified 75.56221889055472% of all observations in the test data\n",
      "===============================================================\n",
      "===============================================================\n",
      "CONFUSION MATRIX for DecisionTreeClassifier(class_weight=None, criterion='gini', max_depth=10,\n",
      "                       max_features=None, max_leaf_nodes=None,\n",
      "                       min_impurity_decrease=0.0, min_impurity_split=None,\n",
      "                       min_samples_leaf=1, min_samples_split=2,\n",
      "                       min_weight_fraction_leaf=0.0, presort=False,\n",
      "                       random_state=None, splitter='best') ==== \n",
      "[[324  71]\n",
      " [ 79 192]]\n",
      "Our model has correctly classified 77.47747747747748% of all observations in the test data\n",
      "===============================================================\n",
      "===============================================================\n",
      "CONFUSION MATRIX for DecisionTreeClassifier(class_weight=None, criterion='gini', max_depth=10,\n",
      "                       max_features=None, max_leaf_nodes=None,\n",
      "                       min_impurity_decrease=0.0, min_impurity_split=None,\n",
      "                       min_samples_leaf=1, min_samples_split=2,\n",
      "                       min_weight_fraction_leaf=0.0, presort=False,\n",
      "                       random_state=None, splitter='best') ==== \n",
      "[[362  52]\n",
      " [ 68 184]]\n",
      "Our model has correctly classified 81.98198198198197% of all observations in the test data\n",
      "===============================================================\n",
      "+++++++++++++++++++++++++++++++++++++++++++++++++++++++++++++++++++++++++++++\n",
      "+++++++++++++++++++++++++++++++++++++++++++++++++++++++++++++++++++++++++++++\n",
      "===============================================================\n",
      "CONFUSION MATRIX for RandomForestClassifier(bootstrap=True, class_weight=None, criterion='gini',\n",
      "                       max_depth=12, max_features='auto', max_leaf_nodes=None,\n",
      "                       min_impurity_decrease=0.0, min_impurity_split=None,\n",
      "                       min_samples_leaf=1, min_samples_split=2,\n",
      "                       min_weight_fraction_leaf=0.0, n_estimators=10,\n",
      "                       n_jobs=None, oob_score=False, random_state=0, verbose=0,\n",
      "                       warm_start=False) ==== \n",
      "[[342  65]\n",
      " [ 78 182]]\n",
      "Our model has correctly classified 78.56071964017991% of all observations in the test data\n",
      "===============================================================\n",
      "===============================================================\n",
      "CONFUSION MATRIX for RandomForestClassifier(bootstrap=True, class_weight=None, criterion='gini',\n",
      "                       max_depth=12, max_features='auto', max_leaf_nodes=None,\n",
      "                       min_impurity_decrease=0.0, min_impurity_split=None,\n",
      "                       min_samples_leaf=1, min_samples_split=2,\n",
      "                       min_weight_fraction_leaf=0.0, n_estimators=10,\n",
      "                       n_jobs=None, oob_score=False, random_state=0, verbose=0,\n",
      "                       warm_start=False) ==== \n",
      "[[335  54]\n",
      " [ 83 195]]\n",
      "Our model has correctly classified 79.46026986506747% of all observations in the test data\n",
      "===============================================================\n",
      "===============================================================\n",
      "CONFUSION MATRIX for RandomForestClassifier(bootstrap=True, class_weight=None, criterion='gini',\n",
      "                       max_depth=12, max_features='auto', max_leaf_nodes=None,\n",
      "                       min_impurity_decrease=0.0, min_impurity_split=None,\n",
      "                       min_samples_leaf=1, min_samples_split=2,\n",
      "                       min_weight_fraction_leaf=0.0, n_estimators=10,\n",
      "                       n_jobs=None, oob_score=False, random_state=0, verbose=0,\n",
      "                       warm_start=False) ==== \n",
      "[[337  57]\n",
      " [ 61 212]]\n",
      "Our model has correctly classified 82.3088455772114% of all observations in the test data\n",
      "===============================================================\n"
     ]
    },
    {
     "name": "stderr",
     "output_type": "stream",
     "text": [
      "c:\\users\\aakash.patel\\appdata\\local\\continuum\\miniconda3\\lib\\site-packages\\sklearn\\ensemble\\forest.py:245: FutureWarning: The default value of n_estimators will change from 10 in version 0.20 to 100 in 0.22.\n",
      "  \"10 in version 0.20 to 100 in 0.22.\", FutureWarning)\n"
     ]
    },
    {
     "name": "stdout",
     "output_type": "stream",
     "text": [
      "===============================================================\n",
      "CONFUSION MATRIX for RandomForestClassifier(bootstrap=True, class_weight=None, criterion='gini',\n",
      "                       max_depth=12, max_features='auto', max_leaf_nodes=None,\n",
      "                       min_impurity_decrease=0.0, min_impurity_split=None,\n",
      "                       min_samples_leaf=1, min_samples_split=2,\n",
      "                       min_weight_fraction_leaf=0.0, n_estimators=10,\n",
      "                       n_jobs=None, oob_score=False, random_state=0, verbose=0,\n",
      "                       warm_start=False) ==== \n",
      "[[331  73]\n",
      " [ 63 200]]\n",
      "Our model has correctly classified 79.61019490254873% of all observations in the test data\n",
      "===============================================================\n",
      "===============================================================\n",
      "CONFUSION MATRIX for RandomForestClassifier(bootstrap=True, class_weight=None, criterion='gini',\n",
      "                       max_depth=12, max_features='auto', max_leaf_nodes=None,\n",
      "                       min_impurity_decrease=0.0, min_impurity_split=None,\n",
      "                       min_samples_leaf=1, min_samples_split=2,\n",
      "                       min_weight_fraction_leaf=0.0, n_estimators=10,\n",
      "                       n_jobs=None, oob_score=False, random_state=0, verbose=0,\n",
      "                       warm_start=False) ==== \n",
      "[[336  64]\n",
      " [ 66 200]]\n",
      "Our model has correctly classified 80.48048048048048% of all observations in the test data\n",
      "===============================================================\n",
      "===============================================================\n",
      "CONFUSION MATRIX for RandomForestClassifier(bootstrap=True, class_weight=None, criterion='gini',\n",
      "                       max_depth=12, max_features='auto', max_leaf_nodes=None,\n",
      "                       min_impurity_decrease=0.0, min_impurity_split=None,\n",
      "                       min_samples_leaf=1, min_samples_split=2,\n",
      "                       min_weight_fraction_leaf=0.0, n_estimators=10,\n",
      "                       n_jobs=None, oob_score=False, random_state=0, verbose=0,\n",
      "                       warm_start=False) ==== \n",
      "[[354  48]\n",
      " [ 72 192]]\n",
      "Our model has correctly classified 81.98198198198197% of all observations in the test data\n",
      "===============================================================\n",
      "+++++++++++++++++++++++++++++++++++++++++++++++++++++++++++++++++++++++++++++\n",
      "+++++++++++++++++++++++++++++++++++++++++++++++++++++++++++++++++++++++++++++\n",
      "===============================================================\n",
      "CONFUSION MATRIX for GradientBoostingClassifier(criterion='friedman_mse', init=None,\n",
      "                           learning_rate=0.1, loss='deviance', max_depth=5,\n",
      "                           max_features=None, max_leaf_nodes=None,\n",
      "                           min_impurity_decrease=0.0, min_impurity_split=None,\n",
      "                           min_samples_leaf=1, min_samples_split=2,\n",
      "                           min_weight_fraction_leaf=0.0, n_estimators=100,\n",
      "                           n_iter_no_change=None, presort='auto',\n",
      "                           random_state=None, subsample=1.0, tol=0.0001,\n",
      "                           validation_fraction=0.1, verbose=0,\n",
      "                           warm_start=False) ==== \n",
      "[[338  68]\n",
      " [ 54 207]]\n",
      "Our model has correctly classified 81.70914542728636% of all observations in the test data\n",
      "===============================================================\n",
      "===============================================================\n",
      "CONFUSION MATRIX for GradientBoostingClassifier(criterion='friedman_mse', init=None,\n",
      "                           learning_rate=0.1, loss='deviance', max_depth=5,\n",
      "                           max_features=None, max_leaf_nodes=None,\n",
      "                           min_impurity_decrease=0.0, min_impurity_split=None,\n",
      "                           min_samples_leaf=1, min_samples_split=2,\n",
      "                           min_weight_fraction_leaf=0.0, n_estimators=100,\n",
      "                           n_iter_no_change=None, presort='auto',\n",
      "                           random_state=None, subsample=1.0, tol=0.0001,\n",
      "                           validation_fraction=0.1, verbose=0,\n",
      "                           warm_start=False) ==== \n",
      "[[356  53]\n",
      " [ 67 191]]\n",
      "Our model has correctly classified 82.00899550224887% of all observations in the test data\n",
      "===============================================================\n",
      "===============================================================\n",
      "CONFUSION MATRIX for GradientBoostingClassifier(criterion='friedman_mse', init=None,\n",
      "                           learning_rate=0.1, loss='deviance', max_depth=5,\n",
      "                           max_features=None, max_leaf_nodes=None,\n",
      "                           min_impurity_decrease=0.0, min_impurity_split=None,\n",
      "                           min_samples_leaf=1, min_samples_split=2,\n",
      "                           min_weight_fraction_leaf=0.0, n_estimators=100,\n",
      "                           n_iter_no_change=None, presort='auto',\n",
      "                           random_state=None, subsample=1.0, tol=0.0001,\n",
      "                           validation_fraction=0.1, verbose=0,\n",
      "                           warm_start=False) ==== \n",
      "[[325  68]\n",
      " [ 66 208]]\n",
      "Our model has correctly classified 79.91004497751123% of all observations in the test data\n",
      "===============================================================\n",
      "===============================================================\n",
      "CONFUSION MATRIX for GradientBoostingClassifier(criterion='friedman_mse', init=None,\n",
      "                           learning_rate=0.1, loss='deviance', max_depth=5,\n",
      "                           max_features=None, max_leaf_nodes=None,\n",
      "                           min_impurity_decrease=0.0, min_impurity_split=None,\n",
      "                           min_samples_leaf=1, min_samples_split=2,\n",
      "                           min_weight_fraction_leaf=0.0, n_estimators=100,\n",
      "                           n_iter_no_change=None, presort='auto',\n",
      "                           random_state=None, subsample=1.0, tol=0.0001,\n",
      "                           validation_fraction=0.1, verbose=0,\n",
      "                           warm_start=False) ==== \n",
      "[[364  52]\n",
      " [ 56 195]]\n",
      "Our model has correctly classified 83.80809595202399% of all observations in the test data\n",
      "===============================================================\n",
      "===============================================================\n",
      "CONFUSION MATRIX for GradientBoostingClassifier(criterion='friedman_mse', init=None,\n",
      "                           learning_rate=0.1, loss='deviance', max_depth=5,\n",
      "                           max_features=None, max_leaf_nodes=None,\n",
      "                           min_impurity_decrease=0.0, min_impurity_split=None,\n",
      "                           min_samples_leaf=1, min_samples_split=2,\n",
      "                           min_weight_fraction_leaf=0.0, n_estimators=100,\n",
      "                           n_iter_no_change=None, presort='auto',\n",
      "                           random_state=None, subsample=1.0, tol=0.0001,\n",
      "                           validation_fraction=0.1, verbose=0,\n",
      "                           warm_start=False) ==== \n",
      "[[345  59]\n",
      " [ 66 196]]\n",
      "Our model has correctly classified 81.23123123123122% of all observations in the test data\n",
      "===============================================================\n",
      "===============================================================\n",
      "CONFUSION MATRIX for GradientBoostingClassifier(criterion='friedman_mse', init=None,\n",
      "                           learning_rate=0.1, loss='deviance', max_depth=5,\n",
      "                           max_features=None, max_leaf_nodes=None,\n",
      "                           min_impurity_decrease=0.0, min_impurity_split=None,\n",
      "                           min_samples_leaf=1, min_samples_split=2,\n",
      "                           min_weight_fraction_leaf=0.0, n_estimators=100,\n",
      "                           n_iter_no_change=None, presort='auto',\n",
      "                           random_state=None, subsample=1.0, tol=0.0001,\n",
      "                           validation_fraction=0.1, verbose=0,\n",
      "                           warm_start=False) ==== \n",
      "[[309  59]\n",
      " [ 78 220]]\n",
      "Our model has correctly classified 79.42942942942943% of all observations in the test data\n",
      "===============================================================\n",
      "+++++++++++++++++++++++++++++++++++++++++++++++++++++++++++++++++++++++++++++\n"
     ]
    }
   ],
   "source": [
    "regressor_dictionary = {'Logistic Regression':lr,\n",
    "                       'Decision Tree depth 5': dtr5,\n",
    "                       'Decision Tree depth 10': dtr10,\n",
    "                       'Random Forest': rfr,\n",
    "                       \"Gradient Boosting\": gb}\n",
    "kf = KFold(n_splits = 6, shuffle=True)\n",
    "\n",
    "\n",
    "for regressor in regressor_dictionary.values():\n",
    "    print(\"+++++++++++++++++++++++++++++++++++++++++++++++++++++++++++++++++++++++++++++\")\n",
    "    for train_idx, test_idx in kf.split(x, y):\n",
    "        x_train, y_train, x_test, y_test = x.iloc[train_idx], y.iloc[train_idx], \\\n",
    "        x.iloc[test_idx], y.iloc[test_idx]\n",
    "    \n",
    "        regressor.fit(x_train, y_train)\n",
    "        y_predicted = regressor.predict(x_test)\n",
    "        #print(y_test.value_counts())\n",
    "        print(\"===============================================================\")\n",
    "        print(\"CONFUSION MATRIX for \" + str(regressor) + \" ==== \\n\" + str(skmetrics.confusion_matrix(y_test, y_predicted)))\n",
    "        print('Our model has correctly classified {0}% of all observations in the test data' \\\n",
    "                .format(skmetrics.accuracy_score(y_test, y_predicted) * 100))\n",
    "        print(\"===============================================================\")\n",
    "    print(\"+++++++++++++++++++++++++++++++++++++++++++++++++++++++++++++++++++++++++++++\")\n"
   ]
  },
  {
   "cell_type": "code",
   "execution_count": null,
   "metadata": {},
   "outputs": [],
   "source": []
  },
  {
   "cell_type": "code",
   "execution_count": 41,
   "metadata": {},
   "outputs": [
    {
     "name": "stdout",
     "output_type": "stream",
     "text": [
      "CONFUSION MATRIX ==== \n",
      "[[355  46]\n",
      " [ 77 189]]\n",
      "Our model has correctly classified 81.55922038980509% of all observations in the test data\n",
      "CONFUSION MATRIX ==== \n",
      "[[353  46]\n",
      " [ 79 189]]\n",
      "Our model has correctly classified 81.25937031484258% of all observations in the test data\n",
      "CONFUSION MATRIX ==== \n",
      "[[346  45]\n",
      " [ 85 191]]\n",
      "Our model has correctly classified 80.50974512743629% of all observations in the test data\n",
      "CONFUSION MATRIX ==== \n",
      "[[371  47]\n",
      " [ 84 165]]\n",
      "Our model has correctly classified 80.35982008995502% of all observations in the test data\n",
      "CONFUSION MATRIX ==== \n",
      "[[349  44]\n",
      " [ 77 196]]\n",
      "Our model has correctly classified 81.83183183183183% of all observations in the test data\n",
      "CONFUSION MATRIX ==== \n",
      "[[334  60]\n",
      " [ 84 188]]\n",
      "Our model has correctly classified 78.37837837837837% of all observations in the test data\n"
     ]
    },
    {
     "data": {
      "text/plain": [
       "<Figure size 1008x2592 with 0 Axes>"
      ]
     },
     "metadata": {},
     "output_type": "display_data"
    }
   ],
   "source": [
    "# #instead of train test split use cross validation\n",
    "# kf = KFold(n_splits = 6, shuffle=True)\n",
    "\n",
    "# lr = LogisticRegression(solver='lbfgs', max_iter=10000)\n",
    "\n",
    "# plt.figure(figsize=(14, kf.get_n_splits() * 6))\n",
    "\n",
    "# for train_idx, test_idx in kf.split(x, y):\n",
    "#     #train_idx, test_idx = d[0], d[1]\n",
    "#     #print(train_idx.size)\n",
    "#     x_train, y_train, x_test, y_test = x.iloc[train_idx], y.iloc[train_idx], \\\n",
    "#         x.iloc[test_idx], y.iloc[test_idx]\n",
    "\n",
    "#     lr.fit(x_train, y_train)\n",
    "#     y_predicted = lr.predict(x_test)\n",
    "#     #print(y_test.value_counts())\n",
    "#     print(\"CONFUSION MATRIX ==== \\n\" + str(skmetrics.confusion_matrix(y_test, y_predicted)))\n",
    "#     print('Our model has correctly classified {0}% of all observations in the test data' \\\n",
    "#       .format(skmetrics.accuracy_score(y_test, y_predicted) * 100))\n",
    "    \n"
   ]
  },
  {
   "cell_type": "code",
   "execution_count": 42,
   "metadata": {},
   "outputs": [],
   "source": [
    "# #instead of train test split use cross validation\n",
    "# kf = KFold(n_splits = 6, shuffle=True)\n",
    "\n",
    "# lr = LogisticRegression(solver='lbfgs', max_iter=10000)\n",
    "\n",
    "# plt.figure(figsize=(14, kf.get_n_splits() * 6))\n",
    "\n",
    "# for i, d in enumerate(kf.split(x, y)):\n",
    "#     train_idx, test_idx = d[0], d[1]\n",
    "#     #print(train_idx.size)\n",
    "#     x_train, y_train, x_test, y_test = x[train_idx], y[train_idx], x[test_idx], y[test_idx]\n",
    "    \n",
    "#     # Show scatter plot of train data\n",
    "#     ax = plt.subplot(kf.get_n_splits(), 2, i * 2 + 1)\n",
    "#     plt.plot(x_train, y_train, '.')\n",
    "#     plt.xlabel('Call Duration(Seconds)')\n",
    "#     plt.ylabel('Did They Buy Car Insurance')\n",
    "#     #plt.ylim(y.min(), 4)\n",
    "#     plt.title('Train Data')\n",
    "#     lr.fit(x_train.values.reshape(-1,1), y_train)\n",
    "#     #t = '\\n'.join(['Iteration {}'.format(i + 1),\n",
    "#                  # 'gpa = {:.3f} + {:.3f}sat'.format(lr.intercept_[0], lr.coef_[0][0])])\n",
    "#     #plt.text(0.05, 0.95, t, transform=ax.transAxes, fontsize=12, verticalalignment='top')\n",
    "    \n",
    "#     y_predicted = lr.predict(x_test.values.reshape(-1,1))\n",
    "#     y_test.value_counts()\n",
    "#     skmetrics.confusion_matrix(y_test, y_predicted)\n",
    "    \n",
    "#     # Calculate Residual Sum of Squares (RSS) and Total Sum of Squares (TSS)\n",
    "#     #rss = ((y_test - y_predicted)**2).sum()\n",
    "#     #tss = ((y_test - y_test.mean())**2).sum()\n",
    "    \n",
    "#     # Show scatter plot of predicted data\n",
    "#     ax = plt.subplot(kf.get_n_splits(), 2, i * 2 + 2)\n",
    "#     plt.plot(x_test, y_test, '.', label='observed')\n",
    "#     plt.plot(x_test, y_predicted, c='r', label='predicted')\n",
    "#     plt.xlabel('Call Duration(Seconds)')\n",
    "#     plt.ylabel('Did They Buy Car Insurance')\n",
    "#     plt.ylim(y.min(), 4)\n",
    "#     plt.title('Test Data')\n",
    "#     plt.legend(loc='upper right')\n",
    "#    # t = 'rss={:.3f}, tss={:.3f}, r2={:.3f}'.format(rss, tss, 1.0 - rss/tss)\n",
    "#     #plt.text(0.05, 0.95, t, transform=ax.transAxes, fontsize=12, verticalalignment='top')\n",
    "    \n",
    "#     #r2.append(1.0 - rss / tss)\n",
    "\n",
    "# #print('Mean R-squared: {:.3f}'.format(np.mean(r2)))"
   ]
  },
  {
   "cell_type": "code",
   "execution_count": 43,
   "metadata": {},
   "outputs": [],
   "source": [
    "##as the dependent variable is a boolean will need to use a classification algorithm\n",
    "#consider\n",
    "#Logistic regression\n",
    "#Decision Tree\n",
    "#Random Forest\n",
    "#Gradient Boosting\n",
    "#k-means Clustering\n",
    "#hierarhcical clustering\n"
   ]
  },
  {
   "cell_type": "code",
   "execution_count": 44,
   "metadata": {},
   "outputs": [],
   "source": [
    "# lr = LogisticRegression(solver='lbfgs', max_iter=10000)\n",
    "# lr.fit(x_train, y_train)"
   ]
  },
  {
   "cell_type": "code",
   "execution_count": 45,
   "metadata": {},
   "outputs": [
    {
     "data": {
      "text/plain": [
       "0    394\n",
       "1    272\n",
       "Name: CarInsurance, dtype: int64"
      ]
     },
     "execution_count": 45,
     "metadata": {},
     "output_type": "execute_result"
    }
   ],
   "source": [
    "import sklearn.metrics as skmetrics\n",
    "y_test_predicted = lr.predict(x_test)\n",
    "y_test.value_counts() #tells you how many people did and did not buy car insurance"
   ]
  },
  {
   "cell_type": "code",
   "execution_count": 46,
   "metadata": {},
   "outputs": [
    {
     "data": {
      "text/plain": [
       "array([[334,  60],\n",
       "       [ 84, 188]], dtype=int64)"
      ]
     },
     "execution_count": 46,
     "metadata": {},
     "output_type": "execute_result"
    }
   ],
   "source": [
    "skmetrics.confusion_matrix(y_test, y_test_predicted)"
   ]
  },
  {
   "cell_type": "code",
   "execution_count": 47,
   "metadata": {},
   "outputs": [],
   "source": [
    "######DECISION TREE"
   ]
  },
  {
   "cell_type": "code",
   "execution_count": 48,
   "metadata": {},
   "outputs": [],
   "source": [
    "tree = DecisionTreeClassifier(max_depth=4)"
   ]
  },
  {
   "cell_type": "code",
   "execution_count": 49,
   "metadata": {},
   "outputs": [
    {
     "data": {
      "text/plain": [
       "DecisionTreeClassifier(class_weight=None, criterion='gini', max_depth=4,\n",
       "                       max_features=None, max_leaf_nodes=None,\n",
       "                       min_impurity_decrease=0.0, min_impurity_split=None,\n",
       "                       min_samples_leaf=1, min_samples_split=2,\n",
       "                       min_weight_fraction_leaf=0.0, presort=False,\n",
       "                       random_state=None, splitter='best')"
      ]
     },
     "execution_count": 49,
     "metadata": {},
     "output_type": "execute_result"
    }
   ],
   "source": [
    "tree.fit(x_train, y_train)"
   ]
  },
  {
   "cell_type": "code",
   "execution_count": 50,
   "metadata": {},
   "outputs": [
    {
     "data": {
      "image/svg+xml": [
       "<?xml version=\"1.0\" encoding=\"UTF-8\" standalone=\"no\"?>\r\n",
       "<!DOCTYPE svg PUBLIC \"-//W3C//DTD SVG 1.1//EN\"\r\n",
       " \"http://www.w3.org/Graphics/SVG/1.1/DTD/svg11.dtd\">\r\n",
       "<!-- Generated by graphviz version 2.38.0 (20140413.2041)\r\n",
       " -->\r\n",
       "<!-- Title: Tree Pages: 1 -->\r\n",
       "<svg width=\"2626pt\" height=\"552pt\"\r\n",
       " viewBox=\"0.00 0.00 2626.00 552.00\" xmlns=\"http://www.w3.org/2000/svg\" xmlns:xlink=\"http://www.w3.org/1999/xlink\">\r\n",
       "<g id=\"graph0\" class=\"graph\" transform=\"scale(1 1) rotate(0) translate(4 548)\">\r\n",
       "<title>Tree</title>\r\n",
       "<polygon fill=\"white\" stroke=\"none\" points=\"-4,4 -4,-548 2622,-548 2622,4 -4,4\"/>\r\n",
       "<!-- 0 -->\r\n",
       "<g id=\"node1\" class=\"node\"><title>0</title>\r\n",
       "<path fill=\"#f6d5bd\" stroke=\"black\" d=\"M1434,-544C1434,-544 1247,-544 1247,-544 1241,-544 1235,-538 1235,-532 1235,-532 1235,-473 1235,-473 1235,-467 1241,-461 1247,-461 1247,-461 1434,-461 1434,-461 1440,-461 1446,-467 1446,-473 1446,-473 1446,-532 1446,-532 1446,-538 1440,-544 1434,-544\"/>\r\n",
       "<text text-anchor=\"middle\" x=\"1340.5\" y=\"-528.8\" font-family=\"Helvetica,sans-Serif\" font-size=\"14.00\">CallDurationSeconds &lt;= 366.5</text>\r\n",
       "<text text-anchor=\"middle\" x=\"1340.5\" y=\"-513.8\" font-family=\"Helvetica,sans-Serif\" font-size=\"14.00\">gini = 0.48</text>\r\n",
       "<text text-anchor=\"middle\" x=\"1340.5\" y=\"-498.8\" font-family=\"Helvetica,sans-Serif\" font-size=\"14.00\">samples = 3334</text>\r\n",
       "<text text-anchor=\"middle\" x=\"1340.5\" y=\"-483.8\" font-family=\"Helvetica,sans-Serif\" font-size=\"14.00\">value = [2002, 1332]</text>\r\n",
       "<text text-anchor=\"middle\" x=\"1340.5\" y=\"-468.8\" font-family=\"Helvetica,sans-Serif\" font-size=\"14.00\">class = Not Purchased</text>\r\n",
       "</g>\r\n",
       "<!-- 1 -->\r\n",
       "<g id=\"node2\" class=\"node\"><title>1</title>\r\n",
       "<path fill=\"#eda877\" stroke=\"black\" d=\"M1102,-425C1102,-425 945,-425 945,-425 939,-425 933,-419 933,-413 933,-413 933,-354 933,-354 933,-348 939,-342 945,-342 945,-342 1102,-342 1102,-342 1108,-342 1114,-348 1114,-354 1114,-354 1114,-413 1114,-413 1114,-419 1108,-425 1102,-425\"/>\r\n",
       "<text text-anchor=\"middle\" x=\"1023.5\" y=\"-409.8\" font-family=\"Helvetica,sans-Serif\" font-size=\"14.00\">Outcome_success &lt;= 0.5</text>\r\n",
       "<text text-anchor=\"middle\" x=\"1023.5\" y=\"-394.8\" font-family=\"Helvetica,sans-Serif\" font-size=\"14.00\">gini = 0.362</text>\r\n",
       "<text text-anchor=\"middle\" x=\"1023.5\" y=\"-379.8\" font-family=\"Helvetica,sans-Serif\" font-size=\"14.00\">samples = 2242</text>\r\n",
       "<text text-anchor=\"middle\" x=\"1023.5\" y=\"-364.8\" font-family=\"Helvetica,sans-Serif\" font-size=\"14.00\">value = [1709, 533]</text>\r\n",
       "<text text-anchor=\"middle\" x=\"1023.5\" y=\"-349.8\" font-family=\"Helvetica,sans-Serif\" font-size=\"14.00\">class = Not Purchased</text>\r\n",
       "</g>\r\n",
       "<!-- 0&#45;&gt;1 -->\r\n",
       "<g id=\"edge1\" class=\"edge\"><title>0&#45;&gt;1</title>\r\n",
       "<path fill=\"none\" stroke=\"black\" d=\"M1234.94,-462.541C1198.98,-449.268 1158.92,-434.48 1123.41,-421.376\"/>\r\n",
       "<polygon fill=\"black\" stroke=\"black\" points=\"1124.6,-418.085 1114.01,-417.906 1122.18,-424.652 1124.6,-418.085\"/>\r\n",
       "<text text-anchor=\"middle\" x=\"1124.47\" y=\"-436.911\" font-family=\"Helvetica,sans-Serif\" font-size=\"14.00\">True</text>\r\n",
       "</g>\r\n",
       "<!-- 16 -->\r\n",
       "<g id=\"node17\" class=\"node\"><title>16</title>\r\n",
       "<path fill=\"#82c1ef\" stroke=\"black\" d=\"M1776,-425C1776,-425 1589,-425 1589,-425 1583,-425 1577,-419 1577,-413 1577,-413 1577,-354 1577,-354 1577,-348 1583,-342 1589,-342 1589,-342 1776,-342 1776,-342 1782,-342 1788,-348 1788,-354 1788,-354 1788,-413 1788,-413 1788,-419 1782,-425 1776,-425\"/>\r\n",
       "<text text-anchor=\"middle\" x=\"1682.5\" y=\"-409.8\" font-family=\"Helvetica,sans-Serif\" font-size=\"14.00\">CallDurationSeconds &lt;= 568.5</text>\r\n",
       "<text text-anchor=\"middle\" x=\"1682.5\" y=\"-394.8\" font-family=\"Helvetica,sans-Serif\" font-size=\"14.00\">gini = 0.393</text>\r\n",
       "<text text-anchor=\"middle\" x=\"1682.5\" y=\"-379.8\" font-family=\"Helvetica,sans-Serif\" font-size=\"14.00\">samples = 1092</text>\r\n",
       "<text text-anchor=\"middle\" x=\"1682.5\" y=\"-364.8\" font-family=\"Helvetica,sans-Serif\" font-size=\"14.00\">value = [293, 799]</text>\r\n",
       "<text text-anchor=\"middle\" x=\"1682.5\" y=\"-349.8\" font-family=\"Helvetica,sans-Serif\" font-size=\"14.00\">class = Purchased</text>\r\n",
       "</g>\r\n",
       "<!-- 0&#45;&gt;16 -->\r\n",
       "<g id=\"edge16\" class=\"edge\"><title>0&#45;&gt;16</title>\r\n",
       "<path fill=\"none\" stroke=\"black\" d=\"M1446.37,-465.282C1484.62,-452.196 1527.98,-437.362 1567.01,-424.009\"/>\r\n",
       "<polygon fill=\"black\" stroke=\"black\" points=\"1568.51,-427.196 1576.84,-420.648 1566.24,-420.573 1568.51,-427.196\"/>\r\n",
       "<text text-anchor=\"middle\" x=\"1565.83\" y=\"-439.396\" font-family=\"Helvetica,sans-Serif\" font-size=\"14.00\">False</text>\r\n",
       "</g>\r\n",
       "<!-- 2 -->\r\n",
       "<g id=\"node3\" class=\"node\"><title>2</title>\r\n",
       "<path fill=\"#eb9d66\" stroke=\"black\" d=\"M627,-306C627,-306 440,-306 440,-306 434,-306 428,-300 428,-294 428,-294 428,-235 428,-235 428,-229 434,-223 440,-223 440,-223 627,-223 627,-223 633,-223 639,-229 639,-235 639,-235 639,-294 639,-294 639,-300 633,-306 627,-306\"/>\r\n",
       "<text text-anchor=\"middle\" x=\"533.5\" y=\"-290.8\" font-family=\"Helvetica,sans-Serif\" font-size=\"14.00\">CallDurationSeconds &lt;= 129.5</text>\r\n",
       "<text text-anchor=\"middle\" x=\"533.5\" y=\"-275.8\" font-family=\"Helvetica,sans-Serif\" font-size=\"14.00\">gini = 0.3</text>\r\n",
       "<text text-anchor=\"middle\" x=\"533.5\" y=\"-260.8\" font-family=\"Helvetica,sans-Serif\" font-size=\"14.00\">samples = 2058</text>\r\n",
       "<text text-anchor=\"middle\" x=\"533.5\" y=\"-245.8\" font-family=\"Helvetica,sans-Serif\" font-size=\"14.00\">value = [1680, 378]</text>\r\n",
       "<text text-anchor=\"middle\" x=\"533.5\" y=\"-230.8\" font-family=\"Helvetica,sans-Serif\" font-size=\"14.00\">class = Not Purchased</text>\r\n",
       "</g>\r\n",
       "<!-- 1&#45;&gt;2 -->\r\n",
       "<g id=\"edge2\" class=\"edge\"><title>1&#45;&gt;2</title>\r\n",
       "<path fill=\"none\" stroke=\"black\" d=\"M932.769,-360.836C852.722,-341.722 735.632,-313.764 648.933,-293.063\"/>\r\n",
       "<polygon fill=\"black\" stroke=\"black\" points=\"649.588,-289.621 639.048,-290.702 647.962,-296.429 649.588,-289.621\"/>\r\n",
       "</g>\r\n",
       "<!-- 9 -->\r\n",
       "<g id=\"node10\" class=\"node\"><title>9</title>\r\n",
       "<path fill=\"#5eafea\" stroke=\"black\" d=\"M1117,-306C1117,-306 930,-306 930,-306 924,-306 918,-300 918,-294 918,-294 918,-235 918,-235 918,-229 924,-223 930,-223 930,-223 1117,-223 1117,-223 1123,-223 1129,-229 1129,-235 1129,-235 1129,-294 1129,-294 1129,-300 1123,-306 1117,-306\"/>\r\n",
       "<text text-anchor=\"middle\" x=\"1023.5\" y=\"-290.8\" font-family=\"Helvetica,sans-Serif\" font-size=\"14.00\">CallDurationSeconds &lt;= 160.5</text>\r\n",
       "<text text-anchor=\"middle\" x=\"1023.5\" y=\"-275.8\" font-family=\"Helvetica,sans-Serif\" font-size=\"14.00\">gini = 0.266</text>\r\n",
       "<text text-anchor=\"middle\" x=\"1023.5\" y=\"-260.8\" font-family=\"Helvetica,sans-Serif\" font-size=\"14.00\">samples = 184</text>\r\n",
       "<text text-anchor=\"middle\" x=\"1023.5\" y=\"-245.8\" font-family=\"Helvetica,sans-Serif\" font-size=\"14.00\">value = [29, 155]</text>\r\n",
       "<text text-anchor=\"middle\" x=\"1023.5\" y=\"-230.8\" font-family=\"Helvetica,sans-Serif\" font-size=\"14.00\">class = Purchased</text>\r\n",
       "</g>\r\n",
       "<!-- 1&#45;&gt;9 -->\r\n",
       "<g id=\"edge9\" class=\"edge\"><title>1&#45;&gt;9</title>\r\n",
       "<path fill=\"none\" stroke=\"black\" d=\"M1023.5,-341.907C1023.5,-333.649 1023.5,-324.864 1023.5,-316.302\"/>\r\n",
       "<polygon fill=\"black\" stroke=\"black\" points=\"1027,-316.021 1023.5,-306.021 1020,-316.021 1027,-316.021\"/>\r\n",
       "</g>\r\n",
       "<!-- 3 -->\r\n",
       "<g id=\"node4\" class=\"node\"><title>3</title>\r\n",
       "<path fill=\"#e78945\" stroke=\"black\" d=\"M346,-187C346,-187 167,-187 167,-187 161,-187 155,-181 155,-175 155,-175 155,-116 155,-116 155,-110 161,-104 167,-104 167,-104 346,-104 346,-104 352,-104 358,-110 358,-116 358,-116 358,-175 358,-175 358,-181 352,-187 346,-187\"/>\r\n",
       "<text text-anchor=\"middle\" x=\"256.5\" y=\"-171.8\" font-family=\"Helvetica,sans-Serif\" font-size=\"14.00\">CallDurationSeconds &lt;= 99.5</text>\r\n",
       "<text text-anchor=\"middle\" x=\"256.5\" y=\"-156.8\" font-family=\"Helvetica,sans-Serif\" font-size=\"14.00\">gini = 0.11</text>\r\n",
       "<text text-anchor=\"middle\" x=\"256.5\" y=\"-141.8\" font-family=\"Helvetica,sans-Serif\" font-size=\"14.00\">samples = 840</text>\r\n",
       "<text text-anchor=\"middle\" x=\"256.5\" y=\"-126.8\" font-family=\"Helvetica,sans-Serif\" font-size=\"14.00\">value = [791, 49]</text>\r\n",
       "<text text-anchor=\"middle\" x=\"256.5\" y=\"-111.8\" font-family=\"Helvetica,sans-Serif\" font-size=\"14.00\">class = Not Purchased</text>\r\n",
       "</g>\r\n",
       "<!-- 2&#45;&gt;3 -->\r\n",
       "<g id=\"edge3\" class=\"edge\"><title>2&#45;&gt;3</title>\r\n",
       "<path fill=\"none\" stroke=\"black\" d=\"M437.396,-222.907C413.01,-212.607 386.683,-201.487 361.865,-191.004\"/>\r\n",
       "<polygon fill=\"black\" stroke=\"black\" points=\"363.008,-187.688 352.434,-187.021 360.284,-194.136 363.008,-187.688\"/>\r\n",
       "</g>\r\n",
       "<!-- 6 -->\r\n",
       "<g id=\"node7\" class=\"node\"><title>6</title>\r\n",
       "<path fill=\"#efb082\" stroke=\"black\" d=\"M601,-187C601,-187 466,-187 466,-187 460,-187 454,-181 454,-175 454,-175 454,-116 454,-116 454,-110 460,-104 466,-104 466,-104 601,-104 601,-104 607,-104 613,-110 613,-116 613,-116 613,-175 613,-175 613,-181 607,-187 601,-187\"/>\r\n",
       "<text text-anchor=\"middle\" x=\"533.5\" y=\"-171.8\" font-family=\"Helvetica,sans-Serif\" font-size=\"14.00\">HHInsurance &lt;= 0.5</text>\r\n",
       "<text text-anchor=\"middle\" x=\"533.5\" y=\"-156.8\" font-family=\"Helvetica,sans-Serif\" font-size=\"14.00\">gini = 0.394</text>\r\n",
       "<text text-anchor=\"middle\" x=\"533.5\" y=\"-141.8\" font-family=\"Helvetica,sans-Serif\" font-size=\"14.00\">samples = 1218</text>\r\n",
       "<text text-anchor=\"middle\" x=\"533.5\" y=\"-126.8\" font-family=\"Helvetica,sans-Serif\" font-size=\"14.00\">value = [889, 329]</text>\r\n",
       "<text text-anchor=\"middle\" x=\"533.5\" y=\"-111.8\" font-family=\"Helvetica,sans-Serif\" font-size=\"14.00\">class = Not Purchased</text>\r\n",
       "</g>\r\n",
       "<!-- 2&#45;&gt;6 -->\r\n",
       "<g id=\"edge6\" class=\"edge\"><title>2&#45;&gt;6</title>\r\n",
       "<path fill=\"none\" stroke=\"black\" d=\"M533.5,-222.907C533.5,-214.649 533.5,-205.864 533.5,-197.302\"/>\r\n",
       "<polygon fill=\"black\" stroke=\"black\" points=\"537,-197.021 533.5,-187.021 530,-197.021 537,-197.021\"/>\r\n",
       "</g>\r\n",
       "<!-- 4 -->\r\n",
       "<g id=\"node5\" class=\"node\"><title>4</title>\r\n",
       "<path fill=\"#e6843e\" stroke=\"black\" d=\"M147,-68C147,-68 12,-68 12,-68 6,-68 0,-62 0,-56 0,-56 0,-12 0,-12 0,-6 6,-0 12,-0 12,-0 147,-0 147,-0 153,-0 159,-6 159,-12 159,-12 159,-56 159,-56 159,-62 153,-68 147,-68\"/>\r\n",
       "<text text-anchor=\"middle\" x=\"79.5\" y=\"-52.8\" font-family=\"Helvetica,sans-Serif\" font-size=\"14.00\">gini = 0.048</text>\r\n",
       "<text text-anchor=\"middle\" x=\"79.5\" y=\"-37.8\" font-family=\"Helvetica,sans-Serif\" font-size=\"14.00\">samples = 563</text>\r\n",
       "<text text-anchor=\"middle\" x=\"79.5\" y=\"-22.8\" font-family=\"Helvetica,sans-Serif\" font-size=\"14.00\">value = [549, 14]</text>\r\n",
       "<text text-anchor=\"middle\" x=\"79.5\" y=\"-7.8\" font-family=\"Helvetica,sans-Serif\" font-size=\"14.00\">class = Not Purchased</text>\r\n",
       "</g>\r\n",
       "<!-- 3&#45;&gt;4 -->\r\n",
       "<g id=\"edge4\" class=\"edge\"><title>3&#45;&gt;4</title>\r\n",
       "<path fill=\"none\" stroke=\"black\" d=\"M190.843,-103.882C174.739,-93.9191 157.552,-83.2862 141.62,-73.4299\"/>\r\n",
       "<polygon fill=\"black\" stroke=\"black\" points=\"143.258,-70.328 132.912,-68.0433 139.575,-76.2809 143.258,-70.328\"/>\r\n",
       "</g>\r\n",
       "<!-- 5 -->\r\n",
       "<g id=\"node6\" class=\"node\"><title>5</title>\r\n",
       "<path fill=\"#e99356\" stroke=\"black\" d=\"M324,-68C324,-68 189,-68 189,-68 183,-68 177,-62 177,-56 177,-56 177,-12 177,-12 177,-6 183,-0 189,-0 189,-0 324,-0 324,-0 330,-0 336,-6 336,-12 336,-12 336,-56 336,-56 336,-62 330,-68 324,-68\"/>\r\n",
       "<text text-anchor=\"middle\" x=\"256.5\" y=\"-52.8\" font-family=\"Helvetica,sans-Serif\" font-size=\"14.00\">gini = 0.221</text>\r\n",
       "<text text-anchor=\"middle\" x=\"256.5\" y=\"-37.8\" font-family=\"Helvetica,sans-Serif\" font-size=\"14.00\">samples = 277</text>\r\n",
       "<text text-anchor=\"middle\" x=\"256.5\" y=\"-22.8\" font-family=\"Helvetica,sans-Serif\" font-size=\"14.00\">value = [242, 35]</text>\r\n",
       "<text text-anchor=\"middle\" x=\"256.5\" y=\"-7.8\" font-family=\"Helvetica,sans-Serif\" font-size=\"14.00\">class = Not Purchased</text>\r\n",
       "</g>\r\n",
       "<!-- 3&#45;&gt;5 -->\r\n",
       "<g id=\"edge5\" class=\"edge\"><title>3&#45;&gt;5</title>\r\n",
       "<path fill=\"none\" stroke=\"black\" d=\"M256.5,-103.726C256.5,-95.5175 256.5,-86.8595 256.5,-78.56\"/>\r\n",
       "<polygon fill=\"black\" stroke=\"black\" points=\"260,-78.2996 256.5,-68.2996 253,-78.2996 260,-78.2996\"/>\r\n",
       "</g>\r\n",
       "<!-- 7 -->\r\n",
       "<g id=\"node8\" class=\"node\"><title>7</title>\r\n",
       "<path fill=\"#f7d9c3\" stroke=\"black\" d=\"M501,-68C501,-68 366,-68 366,-68 360,-68 354,-62 354,-56 354,-56 354,-12 354,-12 354,-6 360,-0 366,-0 366,-0 501,-0 501,-0 507,-0 513,-6 513,-12 513,-12 513,-56 513,-56 513,-62 507,-68 501,-68\"/>\r\n",
       "<text text-anchor=\"middle\" x=\"433.5\" y=\"-52.8\" font-family=\"Helvetica,sans-Serif\" font-size=\"14.00\">gini = 0.484</text>\r\n",
       "<text text-anchor=\"middle\" x=\"433.5\" y=\"-37.8\" font-family=\"Helvetica,sans-Serif\" font-size=\"14.00\">samples = 616</text>\r\n",
       "<text text-anchor=\"middle\" x=\"433.5\" y=\"-22.8\" font-family=\"Helvetica,sans-Serif\" font-size=\"14.00\">value = [363, 253]</text>\r\n",
       "<text text-anchor=\"middle\" x=\"433.5\" y=\"-7.8\" font-family=\"Helvetica,sans-Serif\" font-size=\"14.00\">class = Not Purchased</text>\r\n",
       "</g>\r\n",
       "<!-- 6&#45;&gt;7 -->\r\n",
       "<g id=\"edge7\" class=\"edge\"><title>6&#45;&gt;7</title>\r\n",
       "<path fill=\"none\" stroke=\"black\" d=\"M496.264,-103.726C487.934,-94.6054 479.098,-84.93 470.767,-75.8078\"/>\r\n",
       "<polygon fill=\"black\" stroke=\"black\" points=\"473.239,-73.3235 463.911,-68.2996 468.07,-78.044 473.239,-73.3235\"/>\r\n",
       "</g>\r\n",
       "<!-- 8 -->\r\n",
       "<g id=\"node9\" class=\"node\"><title>8</title>\r\n",
       "<path fill=\"#e99356\" stroke=\"black\" d=\"M678,-68C678,-68 543,-68 543,-68 537,-68 531,-62 531,-56 531,-56 531,-12 531,-12 531,-6 537,-0 543,-0 543,-0 678,-0 678,-0 684,-0 690,-6 690,-12 690,-12 690,-56 690,-56 690,-62 684,-68 678,-68\"/>\r\n",
       "<text text-anchor=\"middle\" x=\"610.5\" y=\"-52.8\" font-family=\"Helvetica,sans-Serif\" font-size=\"14.00\">gini = 0.221</text>\r\n",
       "<text text-anchor=\"middle\" x=\"610.5\" y=\"-37.8\" font-family=\"Helvetica,sans-Serif\" font-size=\"14.00\">samples = 602</text>\r\n",
       "<text text-anchor=\"middle\" x=\"610.5\" y=\"-22.8\" font-family=\"Helvetica,sans-Serif\" font-size=\"14.00\">value = [526, 76]</text>\r\n",
       "<text text-anchor=\"middle\" x=\"610.5\" y=\"-7.8\" font-family=\"Helvetica,sans-Serif\" font-size=\"14.00\">class = Not Purchased</text>\r\n",
       "</g>\r\n",
       "<!-- 6&#45;&gt;8 -->\r\n",
       "<g id=\"edge8\" class=\"edge\"><title>6&#45;&gt;8</title>\r\n",
       "<path fill=\"none\" stroke=\"black\" d=\"M562.172,-103.726C568.393,-94.879 574.982,-85.51 581.226,-76.6303\"/>\r\n",
       "<polygon fill=\"black\" stroke=\"black\" points=\"584.195,-78.4929 587.084,-68.2996 578.469,-74.4664 584.195,-78.4929\"/>\r\n",
       "</g>\r\n",
       "<!-- 10 -->\r\n",
       "<g id=\"node11\" class=\"node\"><title>10</title>\r\n",
       "<path fill=\"#9ccef2\" stroke=\"black\" d=\"M1011,-187C1011,-187 824,-187 824,-187 818,-187 812,-181 812,-175 812,-175 812,-116 812,-116 812,-110 818,-104 824,-104 824,-104 1011,-104 1011,-104 1017,-104 1023,-110 1023,-116 1023,-116 1023,-175 1023,-175 1023,-181 1017,-187 1011,-187\"/>\r\n",
       "<text text-anchor=\"middle\" x=\"917.5\" y=\"-171.8\" font-family=\"Helvetica,sans-Serif\" font-size=\"14.00\">CallDurationSeconds &lt;= 157.5</text>\r\n",
       "<text text-anchor=\"middle\" x=\"917.5\" y=\"-156.8\" font-family=\"Helvetica,sans-Serif\" font-size=\"14.00\">gini = 0.444</text>\r\n",
       "<text text-anchor=\"middle\" x=\"917.5\" y=\"-141.8\" font-family=\"Helvetica,sans-Serif\" font-size=\"14.00\">samples = 57</text>\r\n",
       "<text text-anchor=\"middle\" x=\"917.5\" y=\"-126.8\" font-family=\"Helvetica,sans-Serif\" font-size=\"14.00\">value = [19, 38]</text>\r\n",
       "<text text-anchor=\"middle\" x=\"917.5\" y=\"-111.8\" font-family=\"Helvetica,sans-Serif\" font-size=\"14.00\">class = Purchased</text>\r\n",
       "</g>\r\n",
       "<!-- 9&#45;&gt;10 -->\r\n",
       "<g id=\"edge10\" class=\"edge\"><title>9&#45;&gt;10</title>\r\n",
       "<path fill=\"none\" stroke=\"black\" d=\"M986.724,-222.907C978.42,-213.742 969.528,-203.927 960.977,-194.489\"/>\r\n",
       "<polygon fill=\"black\" stroke=\"black\" points=\"963.519,-192.082 954.211,-187.021 958.331,-196.782 963.519,-192.082\"/>\r\n",
       "</g>\r\n",
       "<!-- 13 -->\r\n",
       "<g id=\"node14\" class=\"node\"><title>13</title>\r\n",
       "<path fill=\"#4aa5e7\" stroke=\"black\" d=\"M1203.5,-187C1203.5,-187 1053.5,-187 1053.5,-187 1047.5,-187 1041.5,-181 1041.5,-175 1041.5,-175 1041.5,-116 1041.5,-116 1041.5,-110 1047.5,-104 1053.5,-104 1053.5,-104 1203.5,-104 1203.5,-104 1209.5,-104 1215.5,-110 1215.5,-116 1215.5,-116 1215.5,-175 1215.5,-175 1215.5,-181 1209.5,-187 1203.5,-187\"/>\r\n",
       "<text text-anchor=\"middle\" x=\"1128.5\" y=\"-171.8\" font-family=\"Helvetica,sans-Serif\" font-size=\"14.00\">Job_entrepreneur &lt;= 0.5</text>\r\n",
       "<text text-anchor=\"middle\" x=\"1128.5\" y=\"-156.8\" font-family=\"Helvetica,sans-Serif\" font-size=\"14.00\">gini = 0.145</text>\r\n",
       "<text text-anchor=\"middle\" x=\"1128.5\" y=\"-141.8\" font-family=\"Helvetica,sans-Serif\" font-size=\"14.00\">samples = 127</text>\r\n",
       "<text text-anchor=\"middle\" x=\"1128.5\" y=\"-126.8\" font-family=\"Helvetica,sans-Serif\" font-size=\"14.00\">value = [10, 117]</text>\r\n",
       "<text text-anchor=\"middle\" x=\"1128.5\" y=\"-111.8\" font-family=\"Helvetica,sans-Serif\" font-size=\"14.00\">class = Purchased</text>\r\n",
       "</g>\r\n",
       "<!-- 9&#45;&gt;13 -->\r\n",
       "<g id=\"edge13\" class=\"edge\"><title>9&#45;&gt;13</title>\r\n",
       "<path fill=\"none\" stroke=\"black\" d=\"M1059.93,-222.907C1068.15,-213.742 1076.96,-203.927 1085.43,-194.489\"/>\r\n",
       "<polygon fill=\"black\" stroke=\"black\" points=\"1088.06,-196.801 1092.14,-187.021 1082.85,-192.126 1088.06,-196.801\"/>\r\n",
       "</g>\r\n",
       "<!-- 11 -->\r\n",
       "<g id=\"node12\" class=\"node\"><title>11</title>\r\n",
       "<path fill=\"#8cc6f0\" stroke=\"black\" d=\"M830.5,-68C830.5,-68 720.5,-68 720.5,-68 714.5,-68 708.5,-62 708.5,-56 708.5,-56 708.5,-12 708.5,-12 708.5,-6 714.5,-0 720.5,-0 720.5,-0 830.5,-0 830.5,-0 836.5,-0 842.5,-6 842.5,-12 842.5,-12 842.5,-56 842.5,-56 842.5,-62 836.5,-68 830.5,-68\"/>\r\n",
       "<text text-anchor=\"middle\" x=\"775.5\" y=\"-52.8\" font-family=\"Helvetica,sans-Serif\" font-size=\"14.00\">gini = 0.417</text>\r\n",
       "<text text-anchor=\"middle\" x=\"775.5\" y=\"-37.8\" font-family=\"Helvetica,sans-Serif\" font-size=\"14.00\">samples = 54</text>\r\n",
       "<text text-anchor=\"middle\" x=\"775.5\" y=\"-22.8\" font-family=\"Helvetica,sans-Serif\" font-size=\"14.00\">value = [16, 38]</text>\r\n",
       "<text text-anchor=\"middle\" x=\"775.5\" y=\"-7.8\" font-family=\"Helvetica,sans-Serif\" font-size=\"14.00\">class = Purchased</text>\r\n",
       "</g>\r\n",
       "<!-- 10&#45;&gt;11 -->\r\n",
       "<g id=\"edge11\" class=\"edge\"><title>10&#45;&gt;11</title>\r\n",
       "<path fill=\"none\" stroke=\"black\" d=\"M864.624,-103.726C852.205,-94.1494 838.993,-83.9611 826.651,-74.4438\"/>\r\n",
       "<polygon fill=\"black\" stroke=\"black\" points=\"828.739,-71.6345 818.683,-68.2996 824.465,-77.1778 828.739,-71.6345\"/>\r\n",
       "</g>\r\n",
       "<!-- 12 -->\r\n",
       "<g id=\"node13\" class=\"node\"><title>12</title>\r\n",
       "<path fill=\"#e58139\" stroke=\"black\" d=\"M1008,-68C1008,-68 873,-68 873,-68 867,-68 861,-62 861,-56 861,-56 861,-12 861,-12 861,-6 867,-0 873,-0 873,-0 1008,-0 1008,-0 1014,-0 1020,-6 1020,-12 1020,-12 1020,-56 1020,-56 1020,-62 1014,-68 1008,-68\"/>\r\n",
       "<text text-anchor=\"middle\" x=\"940.5\" y=\"-52.8\" font-family=\"Helvetica,sans-Serif\" font-size=\"14.00\">gini = 0.0</text>\r\n",
       "<text text-anchor=\"middle\" x=\"940.5\" y=\"-37.8\" font-family=\"Helvetica,sans-Serif\" font-size=\"14.00\">samples = 3</text>\r\n",
       "<text text-anchor=\"middle\" x=\"940.5\" y=\"-22.8\" font-family=\"Helvetica,sans-Serif\" font-size=\"14.00\">value = [3, 0]</text>\r\n",
       "<text text-anchor=\"middle\" x=\"940.5\" y=\"-7.8\" font-family=\"Helvetica,sans-Serif\" font-size=\"14.00\">class = Not Purchased</text>\r\n",
       "</g>\r\n",
       "<!-- 10&#45;&gt;12 -->\r\n",
       "<g id=\"edge12\" class=\"edge\"><title>10&#45;&gt;12</title>\r\n",
       "<path fill=\"none\" stroke=\"black\" d=\"M926.064,-103.726C927.808,-95.4263 929.648,-86.6671 931.409,-78.2834\"/>\r\n",
       "<polygon fill=\"black\" stroke=\"black\" points=\"934.875,-78.8055 933.506,-68.2996 928.025,-77.3666 934.875,-78.8055\"/>\r\n",
       "</g>\r\n",
       "<!-- 14 -->\r\n",
       "<g id=\"node15\" class=\"node\"><title>14</title>\r\n",
       "<path fill=\"#48a5e7\" stroke=\"black\" d=\"M1160.5,-68C1160.5,-68 1050.5,-68 1050.5,-68 1044.5,-68 1038.5,-62 1038.5,-56 1038.5,-56 1038.5,-12 1038.5,-12 1038.5,-6 1044.5,-0 1050.5,-0 1050.5,-0 1160.5,-0 1160.5,-0 1166.5,-0 1172.5,-6 1172.5,-12 1172.5,-12 1172.5,-56 1172.5,-56 1172.5,-62 1166.5,-68 1160.5,-68\"/>\r\n",
       "<text text-anchor=\"middle\" x=\"1105.5\" y=\"-52.8\" font-family=\"Helvetica,sans-Serif\" font-size=\"14.00\">gini = 0.133</text>\r\n",
       "<text text-anchor=\"middle\" x=\"1105.5\" y=\"-37.8\" font-family=\"Helvetica,sans-Serif\" font-size=\"14.00\">samples = 126</text>\r\n",
       "<text text-anchor=\"middle\" x=\"1105.5\" y=\"-22.8\" font-family=\"Helvetica,sans-Serif\" font-size=\"14.00\">value = [9, 117]</text>\r\n",
       "<text text-anchor=\"middle\" x=\"1105.5\" y=\"-7.8\" font-family=\"Helvetica,sans-Serif\" font-size=\"14.00\">class = Purchased</text>\r\n",
       "</g>\r\n",
       "<!-- 13&#45;&gt;14 -->\r\n",
       "<g id=\"edge14\" class=\"edge\"><title>13&#45;&gt;14</title>\r\n",
       "<path fill=\"none\" stroke=\"black\" d=\"M1119.94,-103.726C1118.19,-95.4263 1116.35,-86.6671 1114.59,-78.2834\"/>\r\n",
       "<polygon fill=\"black\" stroke=\"black\" points=\"1117.98,-77.3666 1112.49,-68.2996 1111.12,-78.8055 1117.98,-77.3666\"/>\r\n",
       "</g>\r\n",
       "<!-- 15 -->\r\n",
       "<g id=\"node16\" class=\"node\"><title>15</title>\r\n",
       "<path fill=\"#e58139\" stroke=\"black\" d=\"M1338,-68C1338,-68 1203,-68 1203,-68 1197,-68 1191,-62 1191,-56 1191,-56 1191,-12 1191,-12 1191,-6 1197,-0 1203,-0 1203,-0 1338,-0 1338,-0 1344,-0 1350,-6 1350,-12 1350,-12 1350,-56 1350,-56 1350,-62 1344,-68 1338,-68\"/>\r\n",
       "<text text-anchor=\"middle\" x=\"1270.5\" y=\"-52.8\" font-family=\"Helvetica,sans-Serif\" font-size=\"14.00\">gini = 0.0</text>\r\n",
       "<text text-anchor=\"middle\" x=\"1270.5\" y=\"-37.8\" font-family=\"Helvetica,sans-Serif\" font-size=\"14.00\">samples = 1</text>\r\n",
       "<text text-anchor=\"middle\" x=\"1270.5\" y=\"-22.8\" font-family=\"Helvetica,sans-Serif\" font-size=\"14.00\">value = [1, 0]</text>\r\n",
       "<text text-anchor=\"middle\" x=\"1270.5\" y=\"-7.8\" font-family=\"Helvetica,sans-Serif\" font-size=\"14.00\">class = Not Purchased</text>\r\n",
       "</g>\r\n",
       "<!-- 13&#45;&gt;15 -->\r\n",
       "<g id=\"edge15\" class=\"edge\"><title>13&#45;&gt;15</title>\r\n",
       "<path fill=\"none\" stroke=\"black\" d=\"M1181.38,-103.726C1193.79,-94.1494 1207.01,-83.9611 1219.35,-74.4438\"/>\r\n",
       "<polygon fill=\"black\" stroke=\"black\" points=\"1221.54,-77.1778 1227.32,-68.2996 1217.26,-71.6345 1221.54,-77.1778\"/>\r\n",
       "</g>\r\n",
       "<!-- 17 -->\r\n",
       "<g id=\"node18\" class=\"node\"><title>17</title>\r\n",
       "<path fill=\"#c5e2f7\" stroke=\"black\" d=\"M1761,-306C1761,-306 1604,-306 1604,-306 1598,-306 1592,-300 1592,-294 1592,-294 1592,-235 1592,-235 1592,-229 1598,-223 1604,-223 1604,-223 1761,-223 1761,-223 1767,-223 1773,-229 1773,-235 1773,-235 1773,-294 1773,-294 1773,-300 1767,-306 1761,-306\"/>\r\n",
       "<text text-anchor=\"middle\" x=\"1682.5\" y=\"-290.8\" font-family=\"Helvetica,sans-Serif\" font-size=\"14.00\">Outcome_success &lt;= 0.5</text>\r\n",
       "<text text-anchor=\"middle\" x=\"1682.5\" y=\"-275.8\" font-family=\"Helvetica,sans-Serif\" font-size=\"14.00\">gini = 0.485</text>\r\n",
       "<text text-anchor=\"middle\" x=\"1682.5\" y=\"-260.8\" font-family=\"Helvetica,sans-Serif\" font-size=\"14.00\">samples = 466</text>\r\n",
       "<text text-anchor=\"middle\" x=\"1682.5\" y=\"-245.8\" font-family=\"Helvetica,sans-Serif\" font-size=\"14.00\">value = [193, 273]</text>\r\n",
       "<text text-anchor=\"middle\" x=\"1682.5\" y=\"-230.8\" font-family=\"Helvetica,sans-Serif\" font-size=\"14.00\">class = Purchased</text>\r\n",
       "</g>\r\n",
       "<!-- 16&#45;&gt;17 -->\r\n",
       "<g id=\"edge17\" class=\"edge\"><title>16&#45;&gt;17</title>\r\n",
       "<path fill=\"none\" stroke=\"black\" d=\"M1682.5,-341.907C1682.5,-333.649 1682.5,-324.864 1682.5,-316.302\"/>\r\n",
       "<polygon fill=\"black\" stroke=\"black\" points=\"1686,-316.021 1682.5,-306.021 1679,-316.021 1686,-316.021\"/>\r\n",
       "</g>\r\n",
       "<!-- 24 -->\r\n",
       "<g id=\"node25\" class=\"node\"><title>24</title>\r\n",
       "<path fill=\"#5fb0ea\" stroke=\"black\" d=\"M2217,-306C2217,-306 2030,-306 2030,-306 2024,-306 2018,-300 2018,-294 2018,-294 2018,-235 2018,-235 2018,-229 2024,-223 2030,-223 2030,-223 2217,-223 2217,-223 2223,-223 2229,-229 2229,-235 2229,-235 2229,-294 2229,-294 2229,-300 2223,-306 2217,-306\"/>\r\n",
       "<text text-anchor=\"middle\" x=\"2123.5\" y=\"-290.8\" font-family=\"Helvetica,sans-Serif\" font-size=\"14.00\">CallDurationSeconds &lt;= 803.5</text>\r\n",
       "<text text-anchor=\"middle\" x=\"2123.5\" y=\"-275.8\" font-family=\"Helvetica,sans-Serif\" font-size=\"14.00\">gini = 0.268</text>\r\n",
       "<text text-anchor=\"middle\" x=\"2123.5\" y=\"-260.8\" font-family=\"Helvetica,sans-Serif\" font-size=\"14.00\">samples = 626</text>\r\n",
       "<text text-anchor=\"middle\" x=\"2123.5\" y=\"-245.8\" font-family=\"Helvetica,sans-Serif\" font-size=\"14.00\">value = [100, 526]</text>\r\n",
       "<text text-anchor=\"middle\" x=\"2123.5\" y=\"-230.8\" font-family=\"Helvetica,sans-Serif\" font-size=\"14.00\">class = Purchased</text>\r\n",
       "</g>\r\n",
       "<!-- 16&#45;&gt;24 -->\r\n",
       "<g id=\"edge24\" class=\"edge\"><title>16&#45;&gt;24</title>\r\n",
       "<path fill=\"none\" stroke=\"black\" d=\"M1788.13,-354.476C1854.43,-336.885 1939.96,-314.193 2008.05,-296.129\"/>\r\n",
       "<polygon fill=\"black\" stroke=\"black\" points=\"2009.2,-299.446 2017.97,-293.498 2007.4,-292.68 2009.2,-299.446\"/>\r\n",
       "</g>\r\n",
       "<!-- 18 -->\r\n",
       "<g id=\"node19\" class=\"node\"><title>18</title>\r\n",
       "<path fill=\"#e0f0fb\" stroke=\"black\" d=\"M1658,-187C1658,-187 1539,-187 1539,-187 1533,-187 1527,-181 1527,-175 1527,-175 1527,-116 1527,-116 1527,-110 1533,-104 1539,-104 1539,-104 1658,-104 1658,-104 1664,-104 1670,-110 1670,-116 1670,-116 1670,-175 1670,-175 1670,-181 1664,-187 1658,-187\"/>\r\n",
       "<text text-anchor=\"middle\" x=\"1598.5\" y=\"-171.8\" font-family=\"Helvetica,sans-Serif\" font-size=\"14.00\">HHInsurance &lt;= 0.5</text>\r\n",
       "<text text-anchor=\"middle\" x=\"1598.5\" y=\"-156.8\" font-family=\"Helvetica,sans-Serif\" font-size=\"14.00\">gini = 0.497</text>\r\n",
       "<text text-anchor=\"middle\" x=\"1598.5\" y=\"-141.8\" font-family=\"Helvetica,sans-Serif\" font-size=\"14.00\">samples = 419</text>\r\n",
       "<text text-anchor=\"middle\" x=\"1598.5\" y=\"-126.8\" font-family=\"Helvetica,sans-Serif\" font-size=\"14.00\">value = [192, 227]</text>\r\n",
       "<text text-anchor=\"middle\" x=\"1598.5\" y=\"-111.8\" font-family=\"Helvetica,sans-Serif\" font-size=\"14.00\">class = Purchased</text>\r\n",
       "</g>\r\n",
       "<!-- 17&#45;&gt;18 -->\r\n",
       "<g id=\"edge18\" class=\"edge\"><title>17&#45;&gt;18</title>\r\n",
       "<path fill=\"none\" stroke=\"black\" d=\"M1653.36,-222.907C1646.97,-214.014 1640.15,-204.509 1633.56,-195.331\"/>\r\n",
       "<polygon fill=\"black\" stroke=\"black\" points=\"1636.27,-193.103 1627.59,-187.021 1630.58,-197.185 1636.27,-193.103\"/>\r\n",
       "</g>\r\n",
       "<!-- 21 -->\r\n",
       "<g id=\"node22\" class=\"node\"><title>21</title>\r\n",
       "<path fill=\"#3d9fe6\" stroke=\"black\" d=\"M1834.5,-187C1834.5,-187 1700.5,-187 1700.5,-187 1694.5,-187 1688.5,-181 1688.5,-175 1688.5,-175 1688.5,-116 1688.5,-116 1688.5,-110 1694.5,-104 1700.5,-104 1700.5,-104 1834.5,-104 1834.5,-104 1840.5,-104 1846.5,-110 1846.5,-116 1846.5,-116 1846.5,-175 1846.5,-175 1846.5,-181 1840.5,-187 1834.5,-187\"/>\r\n",
       "<text text-anchor=\"middle\" x=\"1767.5\" y=\"-171.8\" font-family=\"Helvetica,sans-Serif\" font-size=\"14.00\">DaysPassed &lt;= 334.0</text>\r\n",
       "<text text-anchor=\"middle\" x=\"1767.5\" y=\"-156.8\" font-family=\"Helvetica,sans-Serif\" font-size=\"14.00\">gini = 0.042</text>\r\n",
       "<text text-anchor=\"middle\" x=\"1767.5\" y=\"-141.8\" font-family=\"Helvetica,sans-Serif\" font-size=\"14.00\">samples = 47</text>\r\n",
       "<text text-anchor=\"middle\" x=\"1767.5\" y=\"-126.8\" font-family=\"Helvetica,sans-Serif\" font-size=\"14.00\">value = [1, 46]</text>\r\n",
       "<text text-anchor=\"middle\" x=\"1767.5\" y=\"-111.8\" font-family=\"Helvetica,sans-Serif\" font-size=\"14.00\">class = Purchased</text>\r\n",
       "</g>\r\n",
       "<!-- 17&#45;&gt;21 -->\r\n",
       "<g id=\"edge21\" class=\"edge\"><title>17&#45;&gt;21</title>\r\n",
       "<path fill=\"none\" stroke=\"black\" d=\"M1711.99,-222.907C1718.45,-214.014 1725.36,-204.509 1732.02,-195.331\"/>\r\n",
       "<polygon fill=\"black\" stroke=\"black\" points=\"1735.02,-197.168 1738.06,-187.021 1729.35,-193.054 1735.02,-197.168\"/>\r\n",
       "</g>\r\n",
       "<!-- 19 -->\r\n",
       "<g id=\"node20\" class=\"node\"><title>19</title>\r\n",
       "<path fill=\"#a4d2f3\" stroke=\"black\" d=\"M1490.5,-68C1490.5,-68 1380.5,-68 1380.5,-68 1374.5,-68 1368.5,-62 1368.5,-56 1368.5,-56 1368.5,-12 1368.5,-12 1368.5,-6 1374.5,-0 1380.5,-0 1380.5,-0 1490.5,-0 1490.5,-0 1496.5,-0 1502.5,-6 1502.5,-12 1502.5,-12 1502.5,-56 1502.5,-56 1502.5,-62 1496.5,-68 1490.5,-68\"/>\r\n",
       "<text text-anchor=\"middle\" x=\"1435.5\" y=\"-52.8\" font-family=\"Helvetica,sans-Serif\" font-size=\"14.00\">gini = 0.455</text>\r\n",
       "<text text-anchor=\"middle\" x=\"1435.5\" y=\"-37.8\" font-family=\"Helvetica,sans-Serif\" font-size=\"14.00\">samples = 223</text>\r\n",
       "<text text-anchor=\"middle\" x=\"1435.5\" y=\"-22.8\" font-family=\"Helvetica,sans-Serif\" font-size=\"14.00\">value = [78, 145]</text>\r\n",
       "<text text-anchor=\"middle\" x=\"1435.5\" y=\"-7.8\" font-family=\"Helvetica,sans-Serif\" font-size=\"14.00\">class = Purchased</text>\r\n",
       "</g>\r\n",
       "<!-- 18&#45;&gt;19 -->\r\n",
       "<g id=\"edge19\" class=\"edge\"><title>18&#45;&gt;19</title>\r\n",
       "<path fill=\"none\" stroke=\"black\" d=\"M1537.8,-103.726C1523.2,-93.9161 1507.64,-83.4644 1493.18,-73.7496\"/>\r\n",
       "<polygon fill=\"black\" stroke=\"black\" points=\"1495.06,-70.7963 1484.81,-68.1252 1491.16,-76.6069 1495.06,-70.7963\"/>\r\n",
       "</g>\r\n",
       "<!-- 20 -->\r\n",
       "<g id=\"node21\" class=\"node\"><title>20</title>\r\n",
       "<path fill=\"#f8dcc7\" stroke=\"black\" d=\"M1668,-68C1668,-68 1533,-68 1533,-68 1527,-68 1521,-62 1521,-56 1521,-56 1521,-12 1521,-12 1521,-6 1527,-0 1533,-0 1533,-0 1668,-0 1668,-0 1674,-0 1680,-6 1680,-12 1680,-12 1680,-56 1680,-56 1680,-62 1674,-68 1668,-68\"/>\r\n",
       "<text text-anchor=\"middle\" x=\"1600.5\" y=\"-52.8\" font-family=\"Helvetica,sans-Serif\" font-size=\"14.00\">gini = 0.487</text>\r\n",
       "<text text-anchor=\"middle\" x=\"1600.5\" y=\"-37.8\" font-family=\"Helvetica,sans-Serif\" font-size=\"14.00\">samples = 196</text>\r\n",
       "<text text-anchor=\"middle\" x=\"1600.5\" y=\"-22.8\" font-family=\"Helvetica,sans-Serif\" font-size=\"14.00\">value = [114, 82]</text>\r\n",
       "<text text-anchor=\"middle\" x=\"1600.5\" y=\"-7.8\" font-family=\"Helvetica,sans-Serif\" font-size=\"14.00\">class = Not Purchased</text>\r\n",
       "</g>\r\n",
       "<!-- 18&#45;&gt;20 -->\r\n",
       "<g id=\"edge20\" class=\"edge\"><title>18&#45;&gt;20</title>\r\n",
       "<path fill=\"none\" stroke=\"black\" d=\"M1599.24,-103.726C1599.39,-95.5175 1599.55,-86.8595 1599.7,-78.56\"/>\r\n",
       "<polygon fill=\"black\" stroke=\"black\" points=\"1603.21,-78.3619 1599.89,-68.2996 1596.21,-78.234 1603.21,-78.3619\"/>\r\n",
       "</g>\r\n",
       "<!-- 22 -->\r\n",
       "<g id=\"node23\" class=\"node\"><title>22</title>\r\n",
       "<path fill=\"#399de5\" stroke=\"black\" d=\"M1820.5,-68C1820.5,-68 1710.5,-68 1710.5,-68 1704.5,-68 1698.5,-62 1698.5,-56 1698.5,-56 1698.5,-12 1698.5,-12 1698.5,-6 1704.5,-0 1710.5,-0 1710.5,-0 1820.5,-0 1820.5,-0 1826.5,-0 1832.5,-6 1832.5,-12 1832.5,-12 1832.5,-56 1832.5,-56 1832.5,-62 1826.5,-68 1820.5,-68\"/>\r\n",
       "<text text-anchor=\"middle\" x=\"1765.5\" y=\"-52.8\" font-family=\"Helvetica,sans-Serif\" font-size=\"14.00\">gini = 0.0</text>\r\n",
       "<text text-anchor=\"middle\" x=\"1765.5\" y=\"-37.8\" font-family=\"Helvetica,sans-Serif\" font-size=\"14.00\">samples = 43</text>\r\n",
       "<text text-anchor=\"middle\" x=\"1765.5\" y=\"-22.8\" font-family=\"Helvetica,sans-Serif\" font-size=\"14.00\">value = [0, 43]</text>\r\n",
       "<text text-anchor=\"middle\" x=\"1765.5\" y=\"-7.8\" font-family=\"Helvetica,sans-Serif\" font-size=\"14.00\">class = Purchased</text>\r\n",
       "</g>\r\n",
       "<!-- 21&#45;&gt;22 -->\r\n",
       "<g id=\"edge22\" class=\"edge\"><title>21&#45;&gt;22</title>\r\n",
       "<path fill=\"none\" stroke=\"black\" d=\"M1766.76,-103.726C1766.61,-95.5175 1766.45,-86.8595 1766.3,-78.56\"/>\r\n",
       "<polygon fill=\"black\" stroke=\"black\" points=\"1769.79,-78.234 1766.11,-68.2996 1762.79,-78.3619 1769.79,-78.234\"/>\r\n",
       "</g>\r\n",
       "<!-- 23 -->\r\n",
       "<g id=\"node24\" class=\"node\"><title>23</title>\r\n",
       "<path fill=\"#7bbeee\" stroke=\"black\" d=\"M1972.5,-68C1972.5,-68 1862.5,-68 1862.5,-68 1856.5,-68 1850.5,-62 1850.5,-56 1850.5,-56 1850.5,-12 1850.5,-12 1850.5,-6 1856.5,-0 1862.5,-0 1862.5,-0 1972.5,-0 1972.5,-0 1978.5,-0 1984.5,-6 1984.5,-12 1984.5,-12 1984.5,-56 1984.5,-56 1984.5,-62 1978.5,-68 1972.5,-68\"/>\r\n",
       "<text text-anchor=\"middle\" x=\"1917.5\" y=\"-52.8\" font-family=\"Helvetica,sans-Serif\" font-size=\"14.00\">gini = 0.375</text>\r\n",
       "<text text-anchor=\"middle\" x=\"1917.5\" y=\"-37.8\" font-family=\"Helvetica,sans-Serif\" font-size=\"14.00\">samples = 4</text>\r\n",
       "<text text-anchor=\"middle\" x=\"1917.5\" y=\"-22.8\" font-family=\"Helvetica,sans-Serif\" font-size=\"14.00\">value = [1, 3]</text>\r\n",
       "<text text-anchor=\"middle\" x=\"1917.5\" y=\"-7.8\" font-family=\"Helvetica,sans-Serif\" font-size=\"14.00\">class = Purchased</text>\r\n",
       "</g>\r\n",
       "<!-- 21&#45;&gt;23 -->\r\n",
       "<g id=\"edge23\" class=\"edge\"><title>21&#45;&gt;23</title>\r\n",
       "<path fill=\"none\" stroke=\"black\" d=\"M1823.35,-103.726C1836.47,-94.1494 1850.43,-83.9611 1863.47,-74.4438\"/>\r\n",
       "<polygon fill=\"black\" stroke=\"black\" points=\"1865.87,-77.0227 1871.88,-68.2996 1861.74,-71.3688 1865.87,-77.0227\"/>\r\n",
       "</g>\r\n",
       "<!-- 25 -->\r\n",
       "<g id=\"node26\" class=\"node\"><title>25</title>\r\n",
       "<path fill=\"#74baed\" stroke=\"black\" d=\"M2178.5,-187C2178.5,-187 2068.5,-187 2068.5,-187 2062.5,-187 2056.5,-181 2056.5,-175 2056.5,-175 2056.5,-116 2056.5,-116 2056.5,-110 2062.5,-104 2068.5,-104 2068.5,-104 2178.5,-104 2178.5,-104 2184.5,-104 2190.5,-110 2190.5,-116 2190.5,-116 2190.5,-175 2190.5,-175 2190.5,-181 2184.5,-187 2178.5,-187\"/>\r\n",
       "<text text-anchor=\"middle\" x=\"2123.5\" y=\"-171.8\" font-family=\"Helvetica,sans-Serif\" font-size=\"14.00\">CarLoan &lt;= 0.5</text>\r\n",
       "<text text-anchor=\"middle\" x=\"2123.5\" y=\"-156.8\" font-family=\"Helvetica,sans-Serif\" font-size=\"14.00\">gini = 0.352</text>\r\n",
       "<text text-anchor=\"middle\" x=\"2123.5\" y=\"-141.8\" font-family=\"Helvetica,sans-Serif\" font-size=\"14.00\">samples = 298</text>\r\n",
       "<text text-anchor=\"middle\" x=\"2123.5\" y=\"-126.8\" font-family=\"Helvetica,sans-Serif\" font-size=\"14.00\">value = [68, 230]</text>\r\n",
       "<text text-anchor=\"middle\" x=\"2123.5\" y=\"-111.8\" font-family=\"Helvetica,sans-Serif\" font-size=\"14.00\">class = Purchased</text>\r\n",
       "</g>\r\n",
       "<!-- 24&#45;&gt;25 -->\r\n",
       "<g id=\"edge25\" class=\"edge\"><title>24&#45;&gt;25</title>\r\n",
       "<path fill=\"none\" stroke=\"black\" d=\"M2123.5,-222.907C2123.5,-214.649 2123.5,-205.864 2123.5,-197.302\"/>\r\n",
       "<polygon fill=\"black\" stroke=\"black\" points=\"2127,-197.021 2123.5,-187.021 2120,-197.021 2127,-197.021\"/>\r\n",
       "</g>\r\n",
       "<!-- 28 -->\r\n",
       "<g id=\"node29\" class=\"node\"><title>28</title>\r\n",
       "<path fill=\"#4ea8e8\" stroke=\"black\" d=\"M2471,-187C2471,-187 2276,-187 2276,-187 2270,-187 2264,-181 2264,-175 2264,-175 2264,-116 2264,-116 2264,-110 2270,-104 2276,-104 2276,-104 2471,-104 2471,-104 2477,-104 2483,-110 2483,-116 2483,-116 2483,-175 2483,-175 2483,-181 2477,-187 2471,-187\"/>\r\n",
       "<text text-anchor=\"middle\" x=\"2373.5\" y=\"-171.8\" font-family=\"Helvetica,sans-Serif\" font-size=\"14.00\">CallDurationSeconds &lt;= 2900.0</text>\r\n",
       "<text text-anchor=\"middle\" x=\"2373.5\" y=\"-156.8\" font-family=\"Helvetica,sans-Serif\" font-size=\"14.00\">gini = 0.176</text>\r\n",
       "<text text-anchor=\"middle\" x=\"2373.5\" y=\"-141.8\" font-family=\"Helvetica,sans-Serif\" font-size=\"14.00\">samples = 328</text>\r\n",
       "<text text-anchor=\"middle\" x=\"2373.5\" y=\"-126.8\" font-family=\"Helvetica,sans-Serif\" font-size=\"14.00\">value = [32, 296]</text>\r\n",
       "<text text-anchor=\"middle\" x=\"2373.5\" y=\"-111.8\" font-family=\"Helvetica,sans-Serif\" font-size=\"14.00\">class = Purchased</text>\r\n",
       "</g>\r\n",
       "<!-- 24&#45;&gt;28 -->\r\n",
       "<g id=\"edge28\" class=\"edge\"><title>24&#45;&gt;28</title>\r\n",
       "<path fill=\"none\" stroke=\"black\" d=\"M2210.24,-222.907C2232.05,-212.698 2255.59,-201.683 2277.81,-191.282\"/>\r\n",
       "<polygon fill=\"black\" stroke=\"black\" points=\"2279.34,-194.43 2286.92,-187.021 2276.38,-188.09 2279.34,-194.43\"/>\r\n",
       "</g>\r\n",
       "<!-- 26 -->\r\n",
       "<g id=\"node27\" class=\"node\"><title>26</title>\r\n",
       "<path fill=\"#67b4eb\" stroke=\"black\" d=\"M2124.5,-68C2124.5,-68 2014.5,-68 2014.5,-68 2008.5,-68 2002.5,-62 2002.5,-56 2002.5,-56 2002.5,-12 2002.5,-12 2002.5,-6 2008.5,-0 2014.5,-0 2014.5,-0 2124.5,-0 2124.5,-0 2130.5,-0 2136.5,-6 2136.5,-12 2136.5,-12 2136.5,-56 2136.5,-56 2136.5,-62 2130.5,-68 2124.5,-68\"/>\r\n",
       "<text text-anchor=\"middle\" x=\"2069.5\" y=\"-52.8\" font-family=\"Helvetica,sans-Serif\" font-size=\"14.00\">gini = 0.306</text>\r\n",
       "<text text-anchor=\"middle\" x=\"2069.5\" y=\"-37.8\" font-family=\"Helvetica,sans-Serif\" font-size=\"14.00\">samples = 244</text>\r\n",
       "<text text-anchor=\"middle\" x=\"2069.5\" y=\"-22.8\" font-family=\"Helvetica,sans-Serif\" font-size=\"14.00\">value = [46, 198]</text>\r\n",
       "<text text-anchor=\"middle\" x=\"2069.5\" y=\"-7.8\" font-family=\"Helvetica,sans-Serif\" font-size=\"14.00\">class = Purchased</text>\r\n",
       "</g>\r\n",
       "<!-- 25&#45;&gt;26 -->\r\n",
       "<g id=\"edge26\" class=\"edge\"><title>25&#45;&gt;26</title>\r\n",
       "<path fill=\"none\" stroke=\"black\" d=\"M2103.39,-103.726C2099.16,-95.1527 2094.69,-86.0891 2090.44,-77.4555\"/>\r\n",
       "<polygon fill=\"black\" stroke=\"black\" points=\"2093.48,-75.7203 2085.92,-68.2996 2087.21,-78.8164 2093.48,-75.7203\"/>\r\n",
       "</g>\r\n",
       "<!-- 27 -->\r\n",
       "<g id=\"node28\" class=\"node\"><title>27</title>\r\n",
       "<path fill=\"#c1e0f7\" stroke=\"black\" d=\"M2276.5,-68C2276.5,-68 2166.5,-68 2166.5,-68 2160.5,-68 2154.5,-62 2154.5,-56 2154.5,-56 2154.5,-12 2154.5,-12 2154.5,-6 2160.5,-0 2166.5,-0 2166.5,-0 2276.5,-0 2276.5,-0 2282.5,-0 2288.5,-6 2288.5,-12 2288.5,-12 2288.5,-56 2288.5,-56 2288.5,-62 2282.5,-68 2276.5,-68\"/>\r\n",
       "<text text-anchor=\"middle\" x=\"2221.5\" y=\"-52.8\" font-family=\"Helvetica,sans-Serif\" font-size=\"14.00\">gini = 0.483</text>\r\n",
       "<text text-anchor=\"middle\" x=\"2221.5\" y=\"-37.8\" font-family=\"Helvetica,sans-Serif\" font-size=\"14.00\">samples = 54</text>\r\n",
       "<text text-anchor=\"middle\" x=\"2221.5\" y=\"-22.8\" font-family=\"Helvetica,sans-Serif\" font-size=\"14.00\">value = [22, 32]</text>\r\n",
       "<text text-anchor=\"middle\" x=\"2221.5\" y=\"-7.8\" font-family=\"Helvetica,sans-Serif\" font-size=\"14.00\">class = Purchased</text>\r\n",
       "</g>\r\n",
       "<!-- 25&#45;&gt;27 -->\r\n",
       "<g id=\"edge27\" class=\"edge\"><title>25&#45;&gt;27</title>\r\n",
       "<path fill=\"none\" stroke=\"black\" d=\"M2159.99,-103.726C2168.15,-94.6054 2176.81,-84.93 2184.98,-75.8078\"/>\r\n",
       "<polygon fill=\"black\" stroke=\"black\" points=\"2187.64,-78.0853 2191.7,-68.2996 2182.42,-73.417 2187.64,-78.0853\"/>\r\n",
       "</g>\r\n",
       "<!-- 29 -->\r\n",
       "<g id=\"node30\" class=\"node\"><title>29</title>\r\n",
       "<path fill=\"#4ea7e8\" stroke=\"black\" d=\"M2428.5,-68C2428.5,-68 2318.5,-68 2318.5,-68 2312.5,-68 2306.5,-62 2306.5,-56 2306.5,-56 2306.5,-12 2306.5,-12 2306.5,-6 2312.5,-0 2318.5,-0 2318.5,-0 2428.5,-0 2428.5,-0 2434.5,-0 2440.5,-6 2440.5,-12 2440.5,-12 2440.5,-56 2440.5,-56 2440.5,-62 2434.5,-68 2428.5,-68\"/>\r\n",
       "<text text-anchor=\"middle\" x=\"2373.5\" y=\"-52.8\" font-family=\"Helvetica,sans-Serif\" font-size=\"14.00\">gini = 0.172</text>\r\n",
       "<text text-anchor=\"middle\" x=\"2373.5\" y=\"-37.8\" font-family=\"Helvetica,sans-Serif\" font-size=\"14.00\">samples = 326</text>\r\n",
       "<text text-anchor=\"middle\" x=\"2373.5\" y=\"-22.8\" font-family=\"Helvetica,sans-Serif\" font-size=\"14.00\">value = [31, 295]</text>\r\n",
       "<text text-anchor=\"middle\" x=\"2373.5\" y=\"-7.8\" font-family=\"Helvetica,sans-Serif\" font-size=\"14.00\">class = Purchased</text>\r\n",
       "</g>\r\n",
       "<!-- 28&#45;&gt;29 -->\r\n",
       "<g id=\"edge29\" class=\"edge\"><title>28&#45;&gt;29</title>\r\n",
       "<path fill=\"none\" stroke=\"black\" d=\"M2373.5,-103.726C2373.5,-95.5175 2373.5,-86.8595 2373.5,-78.56\"/>\r\n",
       "<polygon fill=\"black\" stroke=\"black\" points=\"2377,-78.2996 2373.5,-68.2996 2370,-78.2996 2377,-78.2996\"/>\r\n",
       "</g>\r\n",
       "<!-- 30 -->\r\n",
       "<g id=\"node31\" class=\"node\"><title>30</title>\r\n",
       "<path fill=\"#ffffff\" stroke=\"black\" d=\"M2606,-68C2606,-68 2471,-68 2471,-68 2465,-68 2459,-62 2459,-56 2459,-56 2459,-12 2459,-12 2459,-6 2465,-0 2471,-0 2471,-0 2606,-0 2606,-0 2612,-0 2618,-6 2618,-12 2618,-12 2618,-56 2618,-56 2618,-62 2612,-68 2606,-68\"/>\r\n",
       "<text text-anchor=\"middle\" x=\"2538.5\" y=\"-52.8\" font-family=\"Helvetica,sans-Serif\" font-size=\"14.00\">gini = 0.5</text>\r\n",
       "<text text-anchor=\"middle\" x=\"2538.5\" y=\"-37.8\" font-family=\"Helvetica,sans-Serif\" font-size=\"14.00\">samples = 2</text>\r\n",
       "<text text-anchor=\"middle\" x=\"2538.5\" y=\"-22.8\" font-family=\"Helvetica,sans-Serif\" font-size=\"14.00\">value = [1, 1]</text>\r\n",
       "<text text-anchor=\"middle\" x=\"2538.5\" y=\"-7.8\" font-family=\"Helvetica,sans-Serif\" font-size=\"14.00\">class = Not Purchased</text>\r\n",
       "</g>\r\n",
       "<!-- 28&#45;&gt;30 -->\r\n",
       "<g id=\"edge30\" class=\"edge\"><title>28&#45;&gt;30</title>\r\n",
       "<path fill=\"none\" stroke=\"black\" d=\"M2434.94,-103.726C2449.72,-93.9161 2465.47,-83.4644 2480.11,-73.7496\"/>\r\n",
       "<polygon fill=\"black\" stroke=\"black\" points=\"2482.19,-76.571 2488.59,-68.1252 2478.32,-70.7385 2482.19,-76.571\"/>\r\n",
       "</g>\r\n",
       "</g>\r\n",
       "</svg>\r\n"
      ],
      "text/plain": [
       "<graphviz.files.Source at 0x25404a41ac8>"
      ]
     },
     "execution_count": 50,
     "metadata": {},
     "output_type": "execute_result"
    }
   ],
   "source": [
    "gv.Source(export_graphviz(tree, feature_names=x.columns, filled=True, rounded=True,\n",
    "                         class_names=['Not Purchased', 'Purchased']))"
   ]
  },
  {
   "cell_type": "code",
   "execution_count": 51,
   "metadata": {},
   "outputs": [],
   "source": [
    "y_predict = tree.predict(x_test)"
   ]
  },
  {
   "cell_type": "code",
   "execution_count": 52,
   "metadata": {},
   "outputs": [
    {
     "name": "stdout",
     "output_type": "stream",
     "text": [
      "# of individuals who made a purchase: 272\n",
      "# of individuals who did not make a purchase: 394\n"
     ]
    }
   ],
   "source": [
    "print('# of individuals who made a purchase: {0}\\n' \\\n",
    "     '# of individuals who did not make a purchase: {1}' \\\n",
    "     .format(y_test.value_counts()[1], y_test.value_counts()[0]))"
   ]
  },
  {
   "cell_type": "code",
   "execution_count": 53,
   "metadata": {},
   "outputs": [
    {
     "ename": "NameError",
     "evalue": "name 'metrics' is not defined",
     "output_type": "error",
     "traceback": [
      "\u001b[1;31m---------------------------------------------------------------------------\u001b[0m",
      "\u001b[1;31mNameError\u001b[0m                                 Traceback (most recent call last)",
      "\u001b[1;32m<ipython-input-53-0e284fb38b2f>\u001b[0m in \u001b[0;36m<module>\u001b[1;34m\u001b[0m\n\u001b[1;32m----> 1\u001b[1;33m \u001b[0mmetrics\u001b[0m\u001b[1;33m.\u001b[0m\u001b[0mconfusion_matrix\u001b[0m\u001b[1;33m(\u001b[0m\u001b[0my_test\u001b[0m\u001b[1;33m,\u001b[0m \u001b[0my_predict\u001b[0m\u001b[1;33m)\u001b[0m\u001b[1;33m\u001b[0m\u001b[1;33m\u001b[0m\u001b[0m\n\u001b[0m",
      "\u001b[1;31mNameError\u001b[0m: name 'metrics' is not defined"
     ]
    }
   ],
   "source": [
    "metrics.confusion_matrix(y_test, y_predict)"
   ]
  },
  {
   "cell_type": "code",
   "execution_count": null,
   "metadata": {},
   "outputs": [],
   "source": [
    "#x = dataEncoded[dataEncoded.columns[-2,-1]]\n",
    "#x = dataEncoded[dataEncoded.columns[-2,-1]]"
   ]
  },
  {
   "cell_type": "code",
   "execution_count": null,
   "metadata": {},
   "outputs": [],
   "source": [
    "##k-Means Clustering\n",
    "wcss = []\n",
    "for i in range(1, 20):\n",
    "    kmeans = KMeans(i)\n",
    "    kmeans.fit(x) # contain all dependent variables\n",
    "    wcss.append(kmeans.inertia_)\n"
   ]
  },
  {
   "cell_type": "code",
   "execution_count": null,
   "metadata": {},
   "outputs": [],
   "source": [
    "plt.figure(figsize=(12, 8))\n",
    "plt.plot(range(1, 20), wcss)\n",
    "plt.xlabel('Number of clusters')\n",
    "plt.ylabel('WCSS')\n",
    "plt.show()\n",
    "#pick 5 clusters"
   ]
  },
  {
   "cell_type": "code",
   "execution_count": null,
   "metadata": {},
   "outputs": [],
   "source": [
    "kmeans = KMeans(n_clusters=5)"
   ]
  },
  {
   "cell_type": "code",
   "execution_count": null,
   "metadata": {},
   "outputs": [],
   "source": [
    "y_kmeans = kmeans.fit_predict(x)"
   ]
  },
  {
   "cell_type": "code",
   "execution_count": null,
   "metadata": {},
   "outputs": [],
   "source": [
    "dataEncoded['cluster'] = y_kmeans"
   ]
  },
  {
   "cell_type": "code",
   "execution_count": null,
   "metadata": {},
   "outputs": [],
   "source": [
    "dataEncoded.head()"
   ]
  },
  {
   "cell_type": "code",
   "execution_count": null,
   "metadata": {},
   "outputs": [],
   "source": []
  },
  {
   "cell_type": "code",
   "execution_count": null,
   "metadata": {},
   "outputs": [],
   "source": []
  },
  {
   "cell_type": "code",
   "execution_count": null,
   "metadata": {},
   "outputs": [],
   "source": []
  }
 ],
 "metadata": {
  "kernelspec": {
   "display_name": "Python 3",
   "language": "python",
   "name": "python3"
  },
  "language_info": {
   "codemirror_mode": {
    "name": "ipython",
    "version": 3
   },
   "file_extension": ".py",
   "mimetype": "text/x-python",
   "name": "python",
   "nbconvert_exporter": "python",
   "pygments_lexer": "ipython3",
   "version": "3.7.4"
  }
 },
 "nbformat": 4,
 "nbformat_minor": 4
}
