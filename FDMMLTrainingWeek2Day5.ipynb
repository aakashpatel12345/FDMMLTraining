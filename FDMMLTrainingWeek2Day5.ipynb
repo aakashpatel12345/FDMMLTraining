{
 "cells": [
  {
   "cell_type": "code",
   "execution_count": 1,
   "metadata": {},
   "outputs": [],
   "source": [
    "import pandas as pd\n",
    "import numpy as np\n",
    "import matplotlib.pyplot as plt\n",
    "import seaborn as sns\n",
    "from sklearn.model_selection import train_test_split\n",
    "from sklearn.linear_model import LogisticRegression\n",
    "from sklearn.preprocessing import StandardScaler\n",
    "from sklearn.preprocessing import LabelEncoder\n",
    "from sklearn.tree import DecisionTreeClassifier\n",
    "from sklearn.ensemble import RandomForestClassifier\n",
    "import graphviz as gv\n",
    "from sklearn.tree import export_graphviz\n",
    "from sklearn.model_selection import KFold\n",
    "from sklearn.cluster import KMeans\n",
    "import datetime\n",
    "import sklearn.metrics as skmetrics\n",
    "from sklearn.ensemble import GradientBoostingClassifier\n",
    "from sklearn.model_selection import GridSearchCV"
   ]
  },
  {
   "cell_type": "code",
   "execution_count": 2,
   "metadata": {},
   "outputs": [],
   "source": [
    "data = pd.read_csv('./data/loan_prediction_train.csv')"
   ]
  },
  {
   "cell_type": "code",
   "execution_count": 3,
   "metadata": {},
   "outputs": [],
   "source": [
    "data['Gender'] = data['Gender'].fillna('Unknown')\n",
    "data['Married'] = data['Married'].fillna('Unknown')\n",
    "data['Dependents'] = data['Dependents'].fillna(50)\n",
    "data['Self_Employed']= data['Self_Employed'].fillna('Unknown')\n",
    "data['LoanAmount']= data['LoanAmount'].fillna('Unknown')#MAYBE CHANGE\n",
    "data['Loan_Amount_Term']= data['Loan_Amount_Term'].fillna('Unknown')#MAYBE CHANGE - change to the mean of the area they are in\n",
    "data['Credit_History']= data['Credit_History'].fillna('Unknown')\n",
    "\n",
    "##USE PANDAS.QCUT\n"
   ]
  },
  {
   "cell_type": "code",
   "execution_count": 4,
   "metadata": {},
   "outputs": [],
   "source": [
    "#data['Dependents'] = data['Dependents'].fillna(0)"
   ]
  },
  {
   "cell_type": "code",
   "execution_count": 5,
   "metadata": {},
   "outputs": [],
   "source": [
    "#data[data['Dependents'] == '3+']"
   ]
  },
  {
   "cell_type": "code",
   "execution_count": 6,
   "metadata": {},
   "outputs": [],
   "source": [
    "data['Dependents'] = data['Dependents'].replace('3+','3').astype(int)"
   ]
  },
  {
   "cell_type": "code",
   "execution_count": 7,
   "metadata": {},
   "outputs": [
    {
     "name": "stderr",
     "output_type": "stream",
     "text": [
      "c:\\users\\aakash.patel\\appdata\\local\\continuum\\miniconda3\\lib\\site-packages\\pandas\\core\\ops\\__init__.py:1115: FutureWarning: elementwise comparison failed; returning scalar instead, but in the future will perform elementwise comparison\n",
      "  result = method(y)\n"
     ]
    },
    {
     "data": {
      "text/html": [
       "<div>\n",
       "<style scoped>\n",
       "    .dataframe tbody tr th:only-of-type {\n",
       "        vertical-align: middle;\n",
       "    }\n",
       "\n",
       "    .dataframe tbody tr th {\n",
       "        vertical-align: top;\n",
       "    }\n",
       "\n",
       "    .dataframe thead th {\n",
       "        text-align: right;\n",
       "    }\n",
       "</style>\n",
       "<table border=\"1\" class=\"dataframe\">\n",
       "  <thead>\n",
       "    <tr style=\"text-align: right;\">\n",
       "      <th></th>\n",
       "      <th>Loan_ID</th>\n",
       "      <th>Gender</th>\n",
       "      <th>Married</th>\n",
       "      <th>Dependents</th>\n",
       "      <th>Education</th>\n",
       "      <th>Self_Employed</th>\n",
       "      <th>ApplicantIncome</th>\n",
       "      <th>CoapplicantIncome</th>\n",
       "      <th>LoanAmount</th>\n",
       "      <th>Loan_Amount_Term</th>\n",
       "      <th>Credit_History</th>\n",
       "      <th>Property_Area</th>\n",
       "      <th>Loan_Status</th>\n",
       "    </tr>\n",
       "  </thead>\n",
       "  <tbody>\n",
       "  </tbody>\n",
       "</table>\n",
       "</div>"
      ],
      "text/plain": [
       "Empty DataFrame\n",
       "Columns: [Loan_ID, Gender, Married, Dependents, Education, Self_Employed, ApplicantIncome, CoapplicantIncome, LoanAmount, Loan_Amount_Term, Credit_History, Property_Area, Loan_Status]\n",
       "Index: []"
      ]
     },
     "execution_count": 7,
     "metadata": {},
     "output_type": "execute_result"
    }
   ],
   "source": [
    "data[data['Dependents'] == '3+']"
   ]
  },
  {
   "cell_type": "code",
   "execution_count": 8,
   "metadata": {},
   "outputs": [],
   "source": [
    "data['Dependents'] = data['Dependents'].fillna(0)\n",
    "\n",
    "data['Dependents'] = data['Dependents'].replace('50','Unknown').astype(str)"
   ]
  },
  {
   "cell_type": "code",
   "execution_count": 9,
   "metadata": {},
   "outputs": [],
   "source": [
    "#data[data['Self_Employed'] == '']"
   ]
  },
  {
   "cell_type": "code",
   "execution_count": 10,
   "metadata": {},
   "outputs": [],
   "source": [
    "#data['Self_Employed'].replace('','No')"
   ]
  },
  {
   "cell_type": "code",
   "execution_count": 11,
   "metadata": {},
   "outputs": [],
   "source": [
    "#data[data['Self_Employed'] == '']"
   ]
  },
  {
   "cell_type": "code",
   "execution_count": 12,
   "metadata": {},
   "outputs": [],
   "source": [
    "#data['Credit_History'] = data['Credit_History'].fillna(0)"
   ]
  },
  {
   "cell_type": "code",
   "execution_count": 13,
   "metadata": {},
   "outputs": [],
   "source": [
    "#data['Loan_Amount_Term'] = data['Loan_Amount_Term'].fillna(0)"
   ]
  },
  {
   "cell_type": "code",
   "execution_count": 14,
   "metadata": {},
   "outputs": [],
   "source": [
    "#data['LoanAmount'] = data['LoanAmount'].fillna(0)"
   ]
  },
  {
   "cell_type": "code",
   "execution_count": 15,
   "metadata": {},
   "outputs": [],
   "source": [
    "#For Label and one hot encoding\n",
    "\n",
    "# #Encode the data\n",
    "# #remove loan ID\n",
    "# data = data[['Gender', 'Married', 'Dependents', 'Education',\n",
    "#        'Self_Employed', 'ApplicantIncome', 'CoapplicantIncome', 'LoanAmount',\n",
    "#        'Loan_Amount_Term', 'Credit_History', 'Property_Area', 'Loan_Status']]\n",
    "\n",
    "# dataEncoded = pd.get_dummies(data,columns = ['Gender'], drop_first=True)\n",
    "\n",
    "# dataEncoded = pd.get_dummies(dataEncoded,columns = ['Married'], drop_first=True)\n",
    "\n",
    "# dataEncoded = pd.get_dummies(dataEncoded,columns = ['Education'], drop_first=True)\n",
    "\n",
    "# dataEncoded = pd.get_dummies(dataEncoded,columns = ['Self_Employed'], drop_first=True)\n",
    "\n",
    "# #STILL TO DO\n",
    "# #replace Loan_Amount_term NAN values with median \n",
    "# dataEncoded = pd.get_dummies(dataEncoded,columns = ['Loan_Amount_Term'], drop_first=True)\n",
    "\n",
    "# dataEncoded = pd.get_dummies(dataEncoded,columns = ['Property_Area'], drop_first=True)\n",
    "\n",
    "# dataEncoded = pd.get_dummies(dataEncoded,columns = ['Loan_Status'], drop_first=True)\n",
    "\n",
    "\n",
    "\n"
   ]
  },
  {
   "cell_type": "code",
   "execution_count": 16,
   "metadata": {},
   "outputs": [],
   "source": [
    "#Target Encoding\n",
    "#Encode the data\n",
    "#remove loan ID\n",
    "data = data[['Gender', 'Married', 'Dependents','Education',\n",
    "       'Self_Employed', 'ApplicantIncome', 'CoapplicantIncome', 'LoanAmount',\n",
    "       'Loan_Amount_Term', 'Credit_History', 'Property_Area', 'Loan_Status']]\n",
    "\n",
    "\n",
    "dataEncoded = pd.get_dummies(data,columns = ['Loan_Status'], drop_first=True)\n",
    "#Loan_Status changed to Loan_Status_Y\n",
    "\n",
    "ListOfCatergoricalValueColumns = ['Gender', 'Married','Education', 'Self_Employed', 'Property_Area', 'LoanAmount', 'Loan_Amount_Term', 'Credit_History' ]\n"
   ]
  },
  {
   "cell_type": "code",
   "execution_count": 17,
   "metadata": {},
   "outputs": [],
   "source": [
    "###########\n",
    "#TRY TARGET ENCODING\n",
    "#Create a lost of the caterforical value columns\n",
    "for item in ListOfCatergoricalValueColumns:\n",
    "    dataEncoded[item] = dataEncoded[item].map(dataEncoded.groupby(item)['Loan_Status_Y'].mean())\n"
   ]
  },
  {
   "cell_type": "code",
   "execution_count": 18,
   "metadata": {},
   "outputs": [
    {
     "data": {
      "text/plain": [
       "Index(['Gender', 'Married', 'Dependents', 'Education', 'Self_Employed',\n",
       "       'ApplicantIncome', 'CoapplicantIncome', 'LoanAmount',\n",
       "       'Loan_Amount_Term', 'Credit_History', 'Property_Area', 'Loan_Status_Y'],\n",
       "      dtype='object')"
      ]
     },
     "execution_count": 18,
     "metadata": {},
     "output_type": "execute_result"
    }
   ],
   "source": [
    "dataEncoded.columns"
   ]
  },
  {
   "cell_type": "code",
   "execution_count": 19,
   "metadata": {},
   "outputs": [
    {
     "data": {
      "text/html": [
       "<div>\n",
       "<style scoped>\n",
       "    .dataframe tbody tr th:only-of-type {\n",
       "        vertical-align: middle;\n",
       "    }\n",
       "\n",
       "    .dataframe tbody tr th {\n",
       "        vertical-align: top;\n",
       "    }\n",
       "\n",
       "    .dataframe thead th {\n",
       "        text-align: right;\n",
       "    }\n",
       "</style>\n",
       "<table border=\"1\" class=\"dataframe\">\n",
       "  <thead>\n",
       "    <tr style=\"text-align: right;\">\n",
       "      <th></th>\n",
       "      <th>Gender</th>\n",
       "      <th>Married</th>\n",
       "      <th>Education</th>\n",
       "      <th>Self_Employed</th>\n",
       "      <th>ApplicantIncome</th>\n",
       "      <th>CoapplicantIncome</th>\n",
       "      <th>LoanAmount</th>\n",
       "      <th>Loan_Amount_Term</th>\n",
       "      <th>Credit_History</th>\n",
       "      <th>Property_Area</th>\n",
       "      <th>Loan_Status_Y</th>\n",
       "    </tr>\n",
       "  </thead>\n",
       "  <tbody>\n",
       "    <tr>\n",
       "      <th>count</th>\n",
       "      <td>614.000000</td>\n",
       "      <td>614.000000</td>\n",
       "      <td>614.000000</td>\n",
       "      <td>614.000000</td>\n",
       "      <td>614.000000</td>\n",
       "      <td>614.000000</td>\n",
       "      <td>614.000000</td>\n",
       "      <td>614.000000</td>\n",
       "      <td>614.000000</td>\n",
       "      <td>614.000000</td>\n",
       "      <td>614.000000</td>\n",
       "    </tr>\n",
       "    <tr>\n",
       "      <th>mean</th>\n",
       "      <td>0.687296</td>\n",
       "      <td>0.687296</td>\n",
       "      <td>0.687296</td>\n",
       "      <td>0.687296</td>\n",
       "      <td>5403.459283</td>\n",
       "      <td>1621.245798</td>\n",
       "      <td>0.687296</td>\n",
       "      <td>0.687296</td>\n",
       "      <td>0.687296</td>\n",
       "      <td>0.687296</td>\n",
       "      <td>0.687296</td>\n",
       "    </tr>\n",
       "    <tr>\n",
       "      <th>std</th>\n",
       "      <td>0.013961</td>\n",
       "      <td>0.046829</td>\n",
       "      <td>0.039848</td>\n",
       "      <td>0.007455</td>\n",
       "      <td>6109.041673</td>\n",
       "      <td>2926.248369</td>\n",
       "      <td>0.268437</td>\n",
       "      <td>0.072135</td>\n",
       "      <td>0.251261</td>\n",
       "      <td>0.065663</td>\n",
       "      <td>0.463973</td>\n",
       "    </tr>\n",
       "    <tr>\n",
       "      <th>min</th>\n",
       "      <td>0.615385</td>\n",
       "      <td>0.629108</td>\n",
       "      <td>0.611940</td>\n",
       "      <td>0.682927</td>\n",
       "      <td>150.000000</td>\n",
       "      <td>0.000000</td>\n",
       "      <td>0.000000</td>\n",
       "      <td>0.000000</td>\n",
       "      <td>0.078652</td>\n",
       "      <td>0.614525</td>\n",
       "      <td>0.000000</td>\n",
       "    </tr>\n",
       "    <tr>\n",
       "      <th>25%</th>\n",
       "      <td>0.693252</td>\n",
       "      <td>0.629108</td>\n",
       "      <td>0.708333</td>\n",
       "      <td>0.686000</td>\n",
       "      <td>2877.500000</td>\n",
       "      <td>0.000000</td>\n",
       "      <td>0.500000</td>\n",
       "      <td>0.701172</td>\n",
       "      <td>0.795789</td>\n",
       "      <td>0.614525</td>\n",
       "      <td>0.000000</td>\n",
       "    </tr>\n",
       "    <tr>\n",
       "      <th>50%</th>\n",
       "      <td>0.693252</td>\n",
       "      <td>0.716080</td>\n",
       "      <td>0.708333</td>\n",
       "      <td>0.686000</td>\n",
       "      <td>3812.500000</td>\n",
       "      <td>1188.500000</td>\n",
       "      <td>0.727273</td>\n",
       "      <td>0.701172</td>\n",
       "      <td>0.795789</td>\n",
       "      <td>0.658416</td>\n",
       "      <td>1.000000</td>\n",
       "    </tr>\n",
       "    <tr>\n",
       "      <th>75%</th>\n",
       "      <td>0.693252</td>\n",
       "      <td>0.716080</td>\n",
       "      <td>0.708333</td>\n",
       "      <td>0.686000</td>\n",
       "      <td>5795.000000</td>\n",
       "      <td>2297.250000</td>\n",
       "      <td>0.857143</td>\n",
       "      <td>0.701172</td>\n",
       "      <td>0.795789</td>\n",
       "      <td>0.768240</td>\n",
       "      <td>1.000000</td>\n",
       "    </tr>\n",
       "    <tr>\n",
       "      <th>max</th>\n",
       "      <td>0.693252</td>\n",
       "      <td>1.000000</td>\n",
       "      <td>0.708333</td>\n",
       "      <td>0.718750</td>\n",
       "      <td>81000.000000</td>\n",
       "      <td>41667.000000</td>\n",
       "      <td>1.000000</td>\n",
       "      <td>1.000000</td>\n",
       "      <td>0.795789</td>\n",
       "      <td>0.768240</td>\n",
       "      <td>1.000000</td>\n",
       "    </tr>\n",
       "  </tbody>\n",
       "</table>\n",
       "</div>"
      ],
      "text/plain": [
       "           Gender     Married   Education  Self_Employed  ApplicantIncome  \\\n",
       "count  614.000000  614.000000  614.000000     614.000000       614.000000   \n",
       "mean     0.687296    0.687296    0.687296       0.687296      5403.459283   \n",
       "std      0.013961    0.046829    0.039848       0.007455      6109.041673   \n",
       "min      0.615385    0.629108    0.611940       0.682927       150.000000   \n",
       "25%      0.693252    0.629108    0.708333       0.686000      2877.500000   \n",
       "50%      0.693252    0.716080    0.708333       0.686000      3812.500000   \n",
       "75%      0.693252    0.716080    0.708333       0.686000      5795.000000   \n",
       "max      0.693252    1.000000    0.708333       0.718750     81000.000000   \n",
       "\n",
       "       CoapplicantIncome  LoanAmount  Loan_Amount_Term  Credit_History  \\\n",
       "count         614.000000  614.000000        614.000000      614.000000   \n",
       "mean         1621.245798    0.687296          0.687296        0.687296   \n",
       "std          2926.248369    0.268437          0.072135        0.251261   \n",
       "min             0.000000    0.000000          0.000000        0.078652   \n",
       "25%             0.000000    0.500000          0.701172        0.795789   \n",
       "50%          1188.500000    0.727273          0.701172        0.795789   \n",
       "75%          2297.250000    0.857143          0.701172        0.795789   \n",
       "max         41667.000000    1.000000          1.000000        0.795789   \n",
       "\n",
       "       Property_Area  Loan_Status_Y  \n",
       "count     614.000000     614.000000  \n",
       "mean        0.687296       0.687296  \n",
       "std         0.065663       0.463973  \n",
       "min         0.614525       0.000000  \n",
       "25%         0.614525       0.000000  \n",
       "50%         0.658416       1.000000  \n",
       "75%         0.768240       1.000000  \n",
       "max         0.768240       1.000000  "
      ]
     },
     "execution_count": 19,
     "metadata": {},
     "output_type": "execute_result"
    }
   ],
   "source": [
    "dataEncoded.describe()"
   ]
  },
  {
   "cell_type": "markdown",
   "metadata": {},
   "source": [
    "$Exploratory Testing!!!!!!!$"
   ]
  },
  {
   "cell_type": "code",
   "execution_count": 20,
   "metadata": {},
   "outputs": [
    {
     "data": {
      "text/plain": [
       "<matplotlib.axes._subplots.AxesSubplot at 0x24b333e42c8>"
      ]
     },
     "execution_count": 20,
     "metadata": {},
     "output_type": "execute_result"
    },
    {
     "data": {
      "image/png": "[encoded data removed]",
      "text/plain": [
       "<Figure size 864x576 with 1 Axes>"
      ]
     },
     "metadata": {
      "needs_background": "light"
     },
     "output_type": "display_data"
    }
   ],
   "source": [
    "plt.figure(figsize=(12, 8))\n",
    "plt.subplot(2,2,1)\n",
    "sns.scatterplot(data['ApplicantIncome'], data['Loan_Status'])"
   ]
  },
  {
   "cell_type": "code",
   "execution_count": 21,
   "metadata": {},
   "outputs": [
    {
     "name": "stdout",
     "output_type": "stream",
     "text": [
      "The number of people who got accepted for a loan : 422\n",
      "The number of people who got accepted for a loan : 192\n"
     ]
    }
   ],
   "source": [
    "numOfTrue = 0\n",
    "numOfFalse = 0\n",
    "\n",
    "for value in data['Loan_Status']:\n",
    "    if value == 'Y':\n",
    "        numOfTrue +=1\n",
    "    else:\n",
    "        numOfFalse +=1\n",
    "print(\"The number of people who got accepted for a loan :\", numOfTrue)\n",
    "print(\"The number of people who got accepted for a loan :\", numOfFalse)"
   ]
  },
  {
   "cell_type": "code",
   "execution_count": 22,
   "metadata": {},
   "outputs": [],
   "source": [
    "# Did_They_Get_A_Loan = {}\n",
    "# for c in dataEncoded.columns[0:-1]:\n",
    "#     #c is key - column names\n",
    "#     #data.groupby(c)['Loan_Status'].sum() is value\n",
    "#     Did_They_Get_A_Loan[c] = dataEncoded.groupby(c)['Loan_Status_Y'].sum()"
   ]
  },
  {
   "cell_type": "code",
   "execution_count": 23,
   "metadata": {},
   "outputs": [],
   "source": [
    "# i = 1\n",
    "# plt.figure(figsize=(24, 15))\n",
    "# for c, p in Did_They_Get_A_Loan.items():\n",
    "#     #10 rows of plots, 2 columns\n",
    "#     plt.subplot(10, 2, i)\n",
    "#     i += 1\n",
    "#     plt.bar(p.index, p.values)\n",
    "#     plt.title('Did They Get The Loan Against {}'.format(c))"
   ]
  },
  {
   "cell_type": "code",
   "execution_count": 24,
   "metadata": {},
   "outputs": [
    {
     "data": {
      "text/plain": [
       "<matplotlib.axes._subplots.AxesSubplot at 0x24b354ecdc8>"
      ]
     },
     "execution_count": 24,
     "metadata": {},
     "output_type": "execute_result"
    },
    {
     "data": {
      "image/png": "[encoded data removed]",
      "text/plain": [
       "<Figure size 432x288 with 1 Axes>"
      ]
     },
     "metadata": {
      "needs_background": "light"
     },
     "output_type": "display_data"
    }
   ],
   "source": [
    "#Amazing!!!!!\n",
    "sns.countplot('Gender', hue='Loan_Status', data=data)"
   ]
  },
  {
   "cell_type": "code",
   "execution_count": 25,
   "metadata": {},
   "outputs": [
    {
     "data": {
      "text/plain": [
       "<matplotlib.axes._subplots.AxesSubplot at 0x24b3554c688>"
      ]
     },
     "execution_count": 25,
     "metadata": {},
     "output_type": "execute_result"
    },
    {
     "data": {
      "image/png": "[encoded data removed]",
      "text/plain": [
       "<Figure size 432x288 with 1 Axes>"
      ]
     },
     "metadata": {
      "needs_background": "light"
     },
     "output_type": "display_data"
    }
   ],
   "source": [
    "sns.countplot('Married', hue='Loan_Status', data=data)"
   ]
  },
  {
   "cell_type": "code",
   "execution_count": 26,
   "metadata": {},
   "outputs": [
    {
     "data": {
      "text/plain": [
       "<matplotlib.axes._subplots.AxesSubplot at 0x24b35594248>"
      ]
     },
     "execution_count": 26,
     "metadata": {},
     "output_type": "execute_result"
    },
    {
     "data": {
      "image/png": "[encoded data removed]",
      "text/plain": [
       "<Figure size 432x288 with 1 Axes>"
      ]
     },
     "metadata": {
      "needs_background": "light"
     },
     "output_type": "display_data"
    }
   ],
   "source": [
    "sns.countplot('Credit_History', hue='Loan_Status', data=data)"
   ]
  },
  {
   "cell_type": "code",
   "execution_count": 27,
   "metadata": {},
   "outputs": [
    {
     "data": {
      "image/png": "[encoded data removed]",
      "text/plain": [
       "<Figure size 864x720 with 1 Axes>"
      ]
     },
     "metadata": {
      "needs_background": "light"
     },
     "output_type": "display_data"
    },
    {
     "data": {
      "image/png": "[encoded data removed]",
      "text/plain": [
       "<Figure size 864x720 with 1 Axes>"
      ]
     },
     "metadata": {
      "needs_background": "light"
     },
     "output_type": "display_data"
    },
    {
     "data": {
      "image/png": "[encoded data removed]",
      "text/plain": [
       "<Figure size 864x720 with 1 Axes>"
      ]
     },
     "metadata": {
      "needs_background": "light"
     },
     "output_type": "display_data"
    },
    {
     "data": {
      "image/png": "[encoded data removed]",
      "text/plain": [
       "<Figure size 864x720 with 1 Axes>"
      ]
     },
     "metadata": {
      "needs_background": "light"
     },
     "output_type": "display_data"
    },
    {
     "data": {
      "image/png": "[encoded data removed]",
      "text/plain": [
       "<Figure size 864x720 with 1 Axes>"
      ]
     },
     "metadata": {
      "needs_background": "light"
     },
     "output_type": "display_data"
    },
    {
     "data": {
      "image/png": "[encoded data removed]",
      "text/plain": [
       "<Figure size 864x720 with 1 Axes>"
      ]
     },
     "metadata": {
      "needs_background": "light"
     },
     "output_type": "display_data"
    },
    {
     "data": {
      "image/png": "[encoded data removed]",
      "text/plain": [
       "<Figure size 864x720 with 1 Axes>"
      ]
     },
     "metadata": {
      "needs_background": "light"
     },
     "output_type": "display_data"
    },
    {
     "data": {
      "image/png": "[encoded data removed]",
      "text/plain": [
       "<Figure size 864x720 with 1 Axes>"
      ]
     },
     "metadata": {
      "needs_background": "light"
     },
     "output_type": "display_data"
    },
    {
     "data": {
      "image/png": "[encoded data removed]",
      "text/plain": [
       "<Figure size 864x720 with 1 Axes>"
      ]
     },
     "metadata": {
      "needs_background": "light"
     },
     "output_type": "display_data"
    },
    {
     "data": {
      "image/png": "[encoded data removed]",
      "text/plain": [
       "<Figure size 864x720 with 1 Axes>"
      ]
     },
     "metadata": {
      "needs_background": "light"
     },
     "output_type": "display_data"
    },
    {
     "data": {
      "image/png": "[encoded data removed]",
      "text/plain": [
       "<Figure size 864x720 with 1 Axes>"
      ]
     },
     "metadata": {
      "needs_background": "light"
     },
     "output_type": "display_data"
    },
    {
     "data": {
      "image/png": "[encoded data removed]",
      "text/plain": [
       "<Figure size 864x720 with 1 Axes>"
      ]
     },
     "metadata": {
      "needs_background": "light"
     },
     "output_type": "display_data"
    }
   ],
   "source": [
    "for column in data:\n",
    "    plt.figure(figsize=(12, 10))\n",
    "    sns.countplot(column, hue='Loan_Status', data=data)"
   ]
  },
  {
   "cell_type": "code",
   "execution_count": 28,
   "metadata": {},
   "outputs": [
    {
     "data": {
      "text/plain": [
       "Index(['Gender', 'Married', 'Dependents', 'Education', 'Self_Employed',\n",
       "       'ApplicantIncome', 'CoapplicantIncome', 'LoanAmount',\n",
       "       'Loan_Amount_Term', 'Credit_History', 'Property_Area', 'Loan_Status_Y'],\n",
       "      dtype='object')"
      ]
     },
     "execution_count": 28,
     "metadata": {},
     "output_type": "execute_result"
    }
   ],
   "source": [
    "dataEncoded.columns"
   ]
  },
  {
   "cell_type": "code",
   "execution_count": 29,
   "metadata": {},
   "outputs": [],
   "source": [
    "x=dataEncoded[['Gender', 'Married', 'Dependents','Education',\n",
    "       'Self_Employed', 'ApplicantIncome', 'CoapplicantIncome', 'LoanAmount',\n",
    "       'Loan_Amount_Term', 'Credit_History', 'Property_Area']]\n",
    "\n",
    "y=dataEncoded['Loan_Status_Y']"
   ]
  },
  {
   "cell_type": "code",
   "execution_count": 30,
   "metadata": {},
   "outputs": [
    {
     "data": {
      "text/html": [
       "<div>\n",
       "<style scoped>\n",
       "    .dataframe tbody tr th:only-of-type {\n",
       "        vertical-align: middle;\n",
       "    }\n",
       "\n",
       "    .dataframe tbody tr th {\n",
       "        vertical-align: top;\n",
       "    }\n",
       "\n",
       "    .dataframe thead th {\n",
       "        text-align: right;\n",
       "    }\n",
       "</style>\n",
       "<table border=\"1\" class=\"dataframe\">\n",
       "  <thead>\n",
       "    <tr style=\"text-align: right;\">\n",
       "      <th></th>\n",
       "      <th>Gender</th>\n",
       "      <th>Married</th>\n",
       "      <th>Education</th>\n",
       "      <th>Self_Employed</th>\n",
       "      <th>ApplicantIncome</th>\n",
       "      <th>CoapplicantIncome</th>\n",
       "      <th>LoanAmount</th>\n",
       "      <th>Loan_Amount_Term</th>\n",
       "      <th>Credit_History</th>\n",
       "      <th>Property_Area</th>\n",
       "      <th>Loan_Status_Y</th>\n",
       "    </tr>\n",
       "  </thead>\n",
       "  <tbody>\n",
       "    <tr>\n",
       "      <th>count</th>\n",
       "      <td>614.000000</td>\n",
       "      <td>614.000000</td>\n",
       "      <td>614.000000</td>\n",
       "      <td>614.000000</td>\n",
       "      <td>614.000000</td>\n",
       "      <td>614.000000</td>\n",
       "      <td>614.000000</td>\n",
       "      <td>614.000000</td>\n",
       "      <td>614.000000</td>\n",
       "      <td>614.000000</td>\n",
       "      <td>614.000000</td>\n",
       "    </tr>\n",
       "    <tr>\n",
       "      <th>mean</th>\n",
       "      <td>0.687296</td>\n",
       "      <td>0.687296</td>\n",
       "      <td>0.687296</td>\n",
       "      <td>0.687296</td>\n",
       "      <td>5403.459283</td>\n",
       "      <td>1621.245798</td>\n",
       "      <td>0.687296</td>\n",
       "      <td>0.687296</td>\n",
       "      <td>0.687296</td>\n",
       "      <td>0.687296</td>\n",
       "      <td>0.687296</td>\n",
       "    </tr>\n",
       "    <tr>\n",
       "      <th>std</th>\n",
       "      <td>0.013961</td>\n",
       "      <td>0.046829</td>\n",
       "      <td>0.039848</td>\n",
       "      <td>0.007455</td>\n",
       "      <td>6109.041673</td>\n",
       "      <td>2926.248369</td>\n",
       "      <td>0.268437</td>\n",
       "      <td>0.072135</td>\n",
       "      <td>0.251261</td>\n",
       "      <td>0.065663</td>\n",
       "      <td>0.463973</td>\n",
       "    </tr>\n",
       "    <tr>\n",
       "      <th>min</th>\n",
       "      <td>0.615385</td>\n",
       "      <td>0.629108</td>\n",
       "      <td>0.611940</td>\n",
       "      <td>0.682927</td>\n",
       "      <td>150.000000</td>\n",
       "      <td>0.000000</td>\n",
       "      <td>0.000000</td>\n",
       "      <td>0.000000</td>\n",
       "      <td>0.078652</td>\n",
       "      <td>0.614525</td>\n",
       "      <td>0.000000</td>\n",
       "    </tr>\n",
       "    <tr>\n",
       "      <th>25%</th>\n",
       "      <td>0.693252</td>\n",
       "      <td>0.629108</td>\n",
       "      <td>0.708333</td>\n",
       "      <td>0.686000</td>\n",
       "      <td>2877.500000</td>\n",
       "      <td>0.000000</td>\n",
       "      <td>0.500000</td>\n",
       "      <td>0.701172</td>\n",
       "      <td>0.795789</td>\n",
       "      <td>0.614525</td>\n",
       "      <td>0.000000</td>\n",
       "    </tr>\n",
       "    <tr>\n",
       "      <th>50%</th>\n",
       "      <td>0.693252</td>\n",
       "      <td>0.716080</td>\n",
       "      <td>0.708333</td>\n",
       "      <td>0.686000</td>\n",
       "      <td>3812.500000</td>\n",
       "      <td>1188.500000</td>\n",
       "      <td>0.727273</td>\n",
       "      <td>0.701172</td>\n",
       "      <td>0.795789</td>\n",
       "      <td>0.658416</td>\n",
       "      <td>1.000000</td>\n",
       "    </tr>\n",
       "    <tr>\n",
       "      <th>75%</th>\n",
       "      <td>0.693252</td>\n",
       "      <td>0.716080</td>\n",
       "      <td>0.708333</td>\n",
       "      <td>0.686000</td>\n",
       "      <td>5795.000000</td>\n",
       "      <td>2297.250000</td>\n",
       "      <td>0.857143</td>\n",
       "      <td>0.701172</td>\n",
       "      <td>0.795789</td>\n",
       "      <td>0.768240</td>\n",
       "      <td>1.000000</td>\n",
       "    </tr>\n",
       "    <tr>\n",
       "      <th>max</th>\n",
       "      <td>0.693252</td>\n",
       "      <td>1.000000</td>\n",
       "      <td>0.708333</td>\n",
       "      <td>0.718750</td>\n",
       "      <td>81000.000000</td>\n",
       "      <td>41667.000000</td>\n",
       "      <td>1.000000</td>\n",
       "      <td>1.000000</td>\n",
       "      <td>0.795789</td>\n",
       "      <td>0.768240</td>\n",
       "      <td>1.000000</td>\n",
       "    </tr>\n",
       "  </tbody>\n",
       "</table>\n",
       "</div>"
      ],
      "text/plain": [
       "           Gender     Married   Education  Self_Employed  ApplicantIncome  \\\n",
       "count  614.000000  614.000000  614.000000     614.000000       614.000000   \n",
       "mean     0.687296    0.687296    0.687296       0.687296      5403.459283   \n",
       "std      0.013961    0.046829    0.039848       0.007455      6109.041673   \n",
       "min      0.615385    0.629108    0.611940       0.682927       150.000000   \n",
       "25%      0.693252    0.629108    0.708333       0.686000      2877.500000   \n",
       "50%      0.693252    0.716080    0.708333       0.686000      3812.500000   \n",
       "75%      0.693252    0.716080    0.708333       0.686000      5795.000000   \n",
       "max      0.693252    1.000000    0.708333       0.718750     81000.000000   \n",
       "\n",
       "       CoapplicantIncome  LoanAmount  Loan_Amount_Term  Credit_History  \\\n",
       "count         614.000000  614.000000        614.000000      614.000000   \n",
       "mean         1621.245798    0.687296          0.687296        0.687296   \n",
       "std          2926.248369    0.268437          0.072135        0.251261   \n",
       "min             0.000000    0.000000          0.000000        0.078652   \n",
       "25%             0.000000    0.500000          0.701172        0.795789   \n",
       "50%          1188.500000    0.727273          0.701172        0.795789   \n",
       "75%          2297.250000    0.857143          0.701172        0.795789   \n",
       "max         41667.000000    1.000000          1.000000        0.795789   \n",
       "\n",
       "       Property_Area  Loan_Status_Y  \n",
       "count     614.000000     614.000000  \n",
       "mean        0.687296       0.687296  \n",
       "std         0.065663       0.463973  \n",
       "min         0.614525       0.000000  \n",
       "25%         0.614525       0.000000  \n",
       "50%         0.658416       1.000000  \n",
       "75%         0.768240       1.000000  \n",
       "max         0.768240       1.000000  "
      ]
     },
     "execution_count": 30,
     "metadata": {},
     "output_type": "execute_result"
    }
   ],
   "source": [
    "dataEncoded.describe()"
   ]
  },
  {
   "cell_type": "code",
   "execution_count": 31,
   "metadata": {},
   "outputs": [],
   "source": [
    "lr = LogisticRegression(solver='lbfgs', max_iter=10000)\n",
    "dtr5 = DecisionTreeClassifier(max_depth=5)\n",
    "dtr10 = DecisionTreeClassifier(max_depth=10)\n",
    "dtr15=DecisionTreeClassifier(max_depth=15)\n",
    "rfr5 = RandomForestClassifier(max_depth=5, n_jobs = -1, n_estimators=2000)\n",
    "rfr10 = RandomForestClassifier(max_depth=10, n_jobs = -1, n_estimators=2000)\n",
    "rfr15 = RandomForestClassifier(max_depth=15, n_jobs = -1, n_estimators=2000)\n",
    "rfr20 = RandomForestClassifier(max_depth=20, n_jobs = -1, n_estimators=2000)\n",
    "rfr100 = RandomForestClassifier(max_depth=100, n_jobs = -1, n_estimators=2000)\n",
    "gb5 = GradientBoostingClassifier(max_depth=5, n_estimators=2000)\n",
    "gb10 = GradientBoostingClassifier(max_depth=10, n_estimators=2000)\n",
    "gb15 = GradientBoostingClassifier(max_depth=15, n_estimators=2000)"
   ]
  },
  {
   "cell_type": "code",
   "execution_count": 32,
   "metadata": {},
   "outputs": [
    {
     "name": "stdout",
     "output_type": "stream",
     "text": [
      "+++++++++++++++++++++++++++++++++++++++++++++++++++++++++++++++++++++++++++++\n",
      "For Logistic Regression the average score is 85.9873722951964\n",
      "+++++++++++++++++++++++++++++++++++++++++++++++++++++++++++++++++++++++++++++\n",
      "+++++++++++++++++++++++++++++++++++++++++++++++++++++++++++++++++++++++++++++\n",
      "For Decision Tree depth 5 the average score is 83.9575797956723\n",
      "+++++++++++++++++++++++++++++++++++++++++++++++++++++++++++++++++++++++++++++\n",
      "+++++++++++++++++++++++++++++++++++++++++++++++++++++++++++++++++++++++++++++\n",
      "For Decision Tree depth 10 the average score is 83.11705480466189\n",
      "+++++++++++++++++++++++++++++++++++++++++++++++++++++++++++++++++++++++++++++\n",
      "+++++++++++++++++++++++++++++++++++++++++++++++++++++++++++++++++++++++++++++\n",
      "For Decision Tree depth 15 the average score is 82.41163779427629\n",
      "+++++++++++++++++++++++++++++++++++++++++++++++++++++++++++++++++++++++++++++\n",
      "+++++++++++++++++++++++++++++++++++++++++++++++++++++++++++++++++++++++++++++\n",
      "For Random Forest depth 5 the average score is 83.12837108953615\n",
      "+++++++++++++++++++++++++++++++++++++++++++++++++++++++++++++++++++++++++++++\n",
      "+++++++++++++++++++++++++++++++++++++++++++++++++++++++++++++++++++++++++++++\n",
      "For Random Forest depth 10 the average score is 83.30742221376146\n",
      "+++++++++++++++++++++++++++++++++++++++++++++++++++++++++++++++++++++++++++++\n",
      "+++++++++++++++++++++++++++++++++++++++++++++++++++++++++++++++++++++++++++++\n",
      "For Random Forest depth 15 the average score is 83.43554250179038\n",
      "+++++++++++++++++++++++++++++++++++++++++++++++++++++++++++++++++++++++++++++\n",
      "+++++++++++++++++++++++++++++++++++++++++++++++++++++++++++++++++++++++++++++\n",
      "For Random Forest depth 20 the average score is 83.57168919347676\n",
      "+++++++++++++++++++++++++++++++++++++++++++++++++++++++++++++++++++++++++++++\n",
      "+++++++++++++++++++++++++++++++++++++++++++++++++++++++++++++++++++++++++++++\n",
      "For Random Forest depth 100 the average score is 83.62417243056878\n",
      "+++++++++++++++++++++++++++++++++++++++++++++++++++++++++++++++++++++++++++++\n",
      "+++++++++++++++++++++++++++++++++++++++++++++++++++++++++++++++++++++++++++++\n",
      "For Gradient Boosting depth 5 the average score is 83.68234025001584\n",
      "+++++++++++++++++++++++++++++++++++++++++++++++++++++++++++++++++++++++++++++\n",
      "+++++++++++++++++++++++++++++++++++++++++++++++++++++++++++++++++++++++++++++\n",
      "For Gradient Boosting depth 10 the average score is 83.62681642236178\n",
      "+++++++++++++++++++++++++++++++++++++++++++++++++++++++++++++++++++++++++++++\n",
      "+++++++++++++++++++++++++++++++++++++++++++++++++++++++++++++++++++++++++++++\n",
      "For Gradient Boosting depth 15 the average score is 83.48443746430604\n",
      "+++++++++++++++++++++++++++++++++++++++++++++++++++++++++++++++++++++++++++++\n"
     ]
    }
   ],
   "source": [
    "regressor_dictionary = {'Logistic Regression':lr,\n",
    "                        'Decision Tree depth 5':dtr5,\n",
    "                       'Decision Tree depth 10': dtr10,\n",
    "                       'Decision Tree depth 15': dtr15,\n",
    "                        'Random Forest depth 5':rfr5,\n",
    "                        'Random Forest depth 10':rfr10,\n",
    "                        'Random Forest depth 15':rfr15,\n",
    "                        'Random Forest depth 20':rfr20,\n",
    "                        'Random Forest depth 100':rfr100,\n",
    "                        \"Gradient Boosting depth 5\": gb5,\n",
    "                        \"Gradient Boosting depth 10\":gb10,\n",
    "                        \"Gradient Boosting depth 15\":gb15,}\n",
    "\n",
    "kf = KFold(n_splits = 6, shuffle=True)\n",
    "\n",
    "listOfAccuracyScore = []\n",
    "for key, regressor in regressor_dictionary.items():\n",
    "    print(\"+++++++++++++++++++++++++++++++++++++++++++++++++++++++++++++++++++++++++++++\")\n",
    "    for train_idx, test_idx in kf.split(x, y):\n",
    "        i=1\n",
    "        x_train, y_train, x_test, y_test = x.iloc[train_idx], y.iloc[train_idx], \\\n",
    "        x.iloc[test_idx], y.iloc[test_idx]\n",
    "    \n",
    "        regressor.fit(x_train, y_train)\n",
    "        y_predicted = regressor.predict(x_test)\n",
    "        accuracy = (skmetrics.accuracy_score(y_test, y_predicted) * 100)\n",
    "        listOfAccuracyScore.append(accuracy)\n",
    "        #fpr, tpr, thresholds=skmetrics.roc_curve(y_test, y_predicted)\n",
    "        #fpr, tpr, thresholds=skmetrics.roc_curve(y_test, regressor.predict_proba(x_test))\n",
    "        \n",
    "        #plt.figure(figsize=(15,8))\n",
    "        #plt.subplot(3,3,i)\n",
    "        #plt.plot(fpr,tpr, c='r', label='roc')\n",
    "        #plt.show()\n",
    "        i+=1\n",
    "#         print(y_test.value_counts())\n",
    "#         print(\"===============================================================\")\n",
    "#         print(\"CONFUSION MATRIX for \" + str(regressor) + \" ==== \\n\" + str(skmetrics.confusion_matrix(y_test, y_predicted)))\n",
    "#         print('Our model has correctly classified {0}% of all observations in the test data' \\\n",
    "#                  .format(skmetrics.accuracy_score(y_test, y_predicted) * 100))\n",
    "#         print(\"===============================================================\")\n",
    "    average_accuracy_score = (sum(listOfAccuracyScore) / len(listOfAccuracyScore))\n",
    "    plt.show()\n",
    "    print(\"For \" + key + \" the average score is \" + str(average_accuracy_score))\n",
    "    print(\"+++++++++++++++++++++++++++++++++++++++++++++++++++++++++++++++++++++++++++++\")"
   ]
  },
  {
   "cell_type": "code",
   "execution_count": null,
   "metadata": {},
   "outputs": [],
   "source": []
  }
 ],
 "metadata": {
  "kernelspec": {
   "display_name": "Python 3",
   "language": "python",
   "name": "python3"
  },
  "language_info": {
   "codemirror_mode": {
    "name": "ipython",
    "version": 3
   },
   "file_extension": ".py",
   "mimetype": "text/x-python",
   "name": "python",
   "nbconvert_exporter": "python",
   "pygments_lexer": "ipython3",
   "version": "3.7.4"
  }
 },
 "nbformat": 4,
 "nbformat_minor": 4
}
